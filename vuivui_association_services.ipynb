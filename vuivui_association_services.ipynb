{
 "cells": [
  {
   "cell_type": "code",
   "execution_count": null,
   "metadata": {},
   "outputs": [],
   "source": []
  },
  {
   "cell_type": "markdown",
   "metadata": {},
   "source": [
    "# preprocessing data"
   ]
  },
  {
   "cell_type": "code",
   "execution_count": 15,
   "metadata": {},
   "outputs": [],
   "source": [
    "\n",
    "#!/usr/bin/env python\n",
    "#-*- coding: utf-8 -*-\n",
    "import pandas as pd\n",
    "import numpy as np\n",
    "import time\n",
    "import requests  # pip install requests\n",
    "import json\n",
    "import re\n",
    "import sys\n",
    "reload(sys)\n",
    "sys.setdefaultencoding('utf-8')\n",
    "import xml.etree.ElementTree as ET\n",
    "\n",
    "\n",
    "#remove accents vietnamese\n",
    "def remove_accents(text):\n",
    "    s1 = u'ÀÁÂÃÈÉÊÌÍÒÓÔÕÙÚÝàáâãèéêìíòóôõùúýĂăĐđĨĩŨũƠơƯưẠạẢảẤấẦầẨẩẪẫẬậẮắẰằẲẳẴẵẶặẸẹẺẻẼẽẾếỀềỂểỄễỆệỈỉỊịỌọỎỏỐốỒồỔổỖỗỘộỚớỜờỞởỠỡỢợỤụỦủỨứỪừỬửỮữỰựỲỳỴỵỶỷỸỹ'\n",
    "    s0 = u'AAAAEEEIIOOOOUUYaaaaeeeiioooouuyAaDdIiUuOoUuAaAaAaAaAaAaAaAaAaAaAaAaEeEeEeEeEeEeEeEeIiIiOoOoOoOoOoOoOoOoOoOoOoOoUuUuUuUuUuUuUuYyYyYyYy'\n",
    "#     s1.encode('utf-8')\n",
    "#     s0.encode('utf-8')\n",
    "    if text == np.nan or text == np.NAN or text == np.NaN:\n",
    "        return text\n",
    "    else:    \n",
    "        s = ''\n",
    "        text = str(text)\n",
    "        text = text.decode('utf-8')\n",
    "\n",
    "        for c in text:\n",
    "            if c in s1:\n",
    "                s += s0[s1.index(c)]\n",
    "            else:\n",
    "                s += c\n",
    "        return s.strip().replace(\" \",\"_\").replace(\",\", \"-\")\n",
    "     "
   ]
  },
  {
   "cell_type": "code",
   "execution_count": 16,
   "metadata": {
    "code_folding": []
   },
   "outputs": [],
   "source": [
    "#connect to our cluster\n",
    "from elasticsearch import Elasticsearch\n",
    "es = Elasticsearch([{'host': '172.16.3.105', 'port': 9200}])\n",
    "# res = requests.get('http://172.16.3.105:9200/index_product/product/86734')\n",
    "# print(res.content)\n",
    "\n",
    "# get list category ID\n",
    "def get_list_cate_ID(list_product_ID):  \n",
    "    global list_cate_ID\n",
    "    list_cate_ID = []\n",
    "#     f = open('product_cate.txt', 'wb')\n",
    "    for productID in list_product_ID:\n",
    "        try:\n",
    "            pathCate = es.get(index=\"index_product\", doc_type=\"product\", id=str(productID))['_source']['categoryPath']\n",
    "            listCate = pathCate.split(\" \")\n",
    "#             f.write(str(productID) +','+listCate[-1]+\"\\n\")\n",
    "            list_cate_ID.append(listCate[-1])\n",
    "        except Exception as error:\n",
    "            print(error)\n",
    "#     f.close()\n",
    "    return list_cate_ID\n",
    "\n",
    "\n",
    "def get_cate_ID_by_proID(productID):\n",
    "    try:\n",
    "        pathCate = es.get(index=\"index_product\", doc_type=\"product\", id=str(productID))['_source']['categoryPath']\n",
    "        listCate = pathCate.split(\" \")\n",
    "        return int(listCate[-1])\n",
    "    except Exception as error:\n",
    "        return np.nan\n",
    "    \n",
    "\n",
    "def get_name_cate_by_cate_ID(cate_ID):\n",
    "    try: \n",
    "        url = 'http://webservice.vuivui.com/productsvc.asmx/GetProductCategoryByCate?intSiteID=8&intCategoryID='\n",
    "        url = url + str(int(cate_ID))\n",
    "        res = requests.get(url)\n",
    "        xml = ET.fromstring(res.content)\n",
    "        return xml[0][1].text\n",
    "    except:\n",
    "        return \"\"\n",
    "def get_list_name_cate(list_cate_ID, filename = 'cate_name.txt'):\n",
    "    f = open(filename, 'wb')\n",
    "    for cate_ID in list_cate_ID:\n",
    "        f.write(cate_ID + ',' + get_name_cate_by_cate_ID(cate_ID) + '\\n')\n",
    "    f.close()    "
   ]
  },
  {
   "cell_type": "code",
   "execution_count": 3,
   "metadata": {},
   "outputs": [
    {
     "data": {
      "text/plain": [
       "18.655596017837524"
      ]
     },
     "execution_count": 3,
     "metadata": {},
     "output_type": "execute_result"
    }
   ],
   "source": [
    "\n",
    "start = time.time()\n",
    "data_file = pd.read_csv('/home/tgdd/TA_69/vuivui/20170518161748.csv')\n",
    "data1 = data_file[['SaleOrderID','ProductID','Quantity']]\n",
    "# data1['CateID'] = data1[\"ProductID\"].apply(get_cate_ID_by_proID)\n",
    "# data1['CateID_'] = data1['CateID']\n",
    "# data1['ProductID_']=data1['ProductID']\n",
    "# data1['NameCate'] = data1['CateID'].apply(get_name_cate_by_cate_ID).apply(remove_accents)\n",
    "\n",
    "list_product_ID = list(set(data1.ProductID))\n",
    "df = pd.DataFrame(list_product_ID, columns=['ProductID'])\n",
    "df['CateID'] = df.ProductID.apply(get_cate_ID_by_proID)\n",
    "df['CateID_'] = df['CateID']\n",
    "df = df.dropna(how = 'any', subset=['CateID'])\n",
    "df = df[~df.CateID.isin(['3103', '2102'])]\n",
    "# df['NameCate']= df.CateID.apply(get_name_cate_by_cate_ID)\n",
    "# df['NameCate_']=df['NameCate'].apply(remove_accents)\n",
    "data1 = data1.merge(df, how='left', on = 'ProductID')\n",
    "# data1['NameCate_2']=data1['NameCate_']\n",
    "data1.to_csv('/home/tgdd/TA_69/vuivui/dataset_SaleOrder.csv', index = False)\n",
    "time.time() - start"
   ]
  },
  {
   "cell_type": "code",
   "execution_count": null,
   "metadata": {
    "collapsed": true
   },
   "outputs": [],
   "source": [
    "# don't need to run above command"
   ]
  },
  {
   "cell_type": "code",
   "execution_count": 17,
   "metadata": {},
   "outputs": [],
   "source": [
    "data1 = pd.read_csv('/home/tgdd/TA_69/vuivui/dataset_SaleOrder.csv')\n"
   ]
  },
  {
   "cell_type": "code",
   "execution_count": 4,
   "metadata": {},
   "outputs": [],
   "source": [
    "# data2.to_csv('/home/tgdd/TA_69/vuivui/data_vuivui.csv',encoding='utf-8')\n",
    "\n",
    "# ew = pd.ExcelWriter('/home/tgdd/TA_69/vuivui/test.xlsx', options={'encoding':'utf-8'})\n",
    "# data2.to_excel(ew, 'test')\n",
    "# ew.save()"
   ]
  },
  {
   "cell_type": "code",
   "execution_count": 18,
   "metadata": {},
   "outputs": [],
   "source": [
    "#\n",
    "# data2 = data1.pivot_table('NameCate_2', index = 'SaleOrderID',columns='NameCate_',aggfunc=lambda x: ' '.join(str(v) for v in x))\n",
    "data2 = data1.pivot_table('CateID', index = 'SaleOrderID',columns='CateID_',aggfunc=lambda x: ' '.join(str(v) for v in x))\n",
    "data2.to_csv('big_df.txt',header=False, index=False)#write dataframe to text file, separate = \",\"\n",
    "f1 = open('sparse_df.txt', 'wb')#read file big_df.txt then write into sparse_df.txt, sparse dataframe\n",
    "f = open('big_df.txt', 'rb')\n",
    "for line in f:\n",
    "    line = ' '.join(line.split(','))\n",
    "    a = ','.join(line.split())\n",
    "    if(len(a)>0):\n",
    "        f1.write(a+'\\n')\n",
    "f1.close()\n",
    "f.close()\n"
   ]
  },
  {
   "cell_type": "code",
   "execution_count": 6,
   "metadata": {},
   "outputs": [],
   "source": [
    "# # data2.columns = data2.columns.droplevel(0) #remove amount\n",
    "# data2.columns.name = None               #remove categories\n",
    "# data2 = data2.reset_index() \n",
    "\n",
    "# start = time.time()\n",
    "# # write dataframe to text file, it not good due to run slowlly (shouldn't use)\n",
    "# f = open(\"df_to_text.txt\", 'wb')\n",
    "# for i in range(data2.shape[0]):\n",
    "#     for j in range(data2.shape[1]):\n",
    "#         if(data2.iloc[i][j] > 0):\n",
    "#             f.write(str(data2.columns[j]) + ',')\n",
    "#     f.write('\\n')\n",
    "# f.close()\n",
    "\n",
    "# duration = time.time() - start            "
   ]
  },
  {
   "cell_type": "markdown",
   "metadata": {
    "collapsed": true
   },
   "source": [
    "# Apriori algorithm"
   ]
  },
  {
   "cell_type": "code",
   "execution_count": 19,
   "metadata": {},
   "outputs": [],
   "source": [
    "\"\"\"\n",
    "Usage:\n",
    "    $python apriori.py -f DATASET.csv -s minSupport  -c minConfidence\n",
    "    $python apriori.py -f DATASET.csv -s 0.15 -c 0.6\n",
    "\"\"\"\n",
    "\n",
    "import sys\n",
    "import time\n",
    "from itertools import chain, combinations\n",
    "from collections import defaultdict\n",
    "from optparse import OptionParser\n",
    "\n",
    "def subsets(arr):\n",
    "    \"\"\" Returns non empty subsets of arr\"\"\"\n",
    "    return chain(*[combinations(arr, i + 1) for i, a in enumerate(arr)])\n",
    "\n",
    "def returnItemsWithMinSupport(itemSet, transactionList, minSupport, freqSet):\n",
    "        \"\"\"calculates the support for items in the itemSet and returns a subset\n",
    "       of the itemSet each of whose elements satisfies the minimum support\"\"\"\n",
    "        _itemSet = set()\n",
    "        localSet = defaultdict(int)\n",
    "\n",
    "        for item in itemSet:\n",
    "                for transaction in transactionList:\n",
    "                        if item.issubset(transaction):\n",
    "                                freqSet[item] += 1\n",
    "                                localSet[item] += 1\n",
    "\n",
    "        for item, count in localSet.items():\n",
    "                support = float(count)/len(transactionList)\n",
    "\n",
    "                if support >= minSupport:\n",
    "                        _itemSet.add(item)\n",
    "\n",
    "        return _itemSet\n",
    "\n",
    "\n",
    "def joinSet(itemSet, length):\n",
    "        \"\"\"Join a set with itself and returns the n-element itemsets\"\"\"\n",
    "        return set([i.union(j) for i in itemSet for j in itemSet if len(i.union(j)) == length])\n",
    "\n",
    "\n",
    "def getItemSetTransactionList(data_iterator):\n",
    "    transactionList = list()\n",
    "    itemSet = set()\n",
    "    for record in data_iterator:\n",
    "        transaction = frozenset(record)\n",
    "        transactionList.append(transaction)\n",
    "        for item in transaction:\n",
    "            itemSet.add(frozenset([item]))              # Generate 1-itemSets\n",
    "    return itemSet, transactionList\n",
    "\n",
    "\n",
    "def runApriori(data_iter, minSupport, minConfidence):\n",
    "    \"\"\"\n",
    "    run the apriori algorithm. data_iter is a record iterator\n",
    "    Return both:\n",
    "     - items (tuple, support)\n",
    "     - rules ((pretuple, posttuple), confidence)\n",
    "    \"\"\"\n",
    "    itemSet, transactionList = getItemSetTransactionList(data_iter)\n",
    "\n",
    "    freqSet = defaultdict(int)\n",
    "    largeSet = dict()\n",
    "    # Global dictionary which stores (key=n-itemSets,value=support)\n",
    "    # which satisfy minSupport\n",
    "\n",
    "    assocRules = dict()\n",
    "    # Dictionary which stores Association Rules\n",
    "\n",
    "    oneCSet = returnItemsWithMinSupport(itemSet,\n",
    "                                        transactionList,\n",
    "                                        minSupport,\n",
    "                                        freqSet)\n",
    "\n",
    "    currentLSet = oneCSet\n",
    "    k = 2\n",
    "    while(currentLSet != set([])):\n",
    "        largeSet[k-1] = currentLSet\n",
    "        currentLSet = joinSet(currentLSet, k)\n",
    "        currentCSet = returnItemsWithMinSupport(currentLSet,\n",
    "                                                transactionList,\n",
    "                                                minSupport,\n",
    "                                                freqSet)\n",
    "        currentLSet = currentCSet\n",
    "        k = k + 1\n",
    "\n",
    "    def getSupport(item):\n",
    "            \"\"\"local function which Returns the support of an item\"\"\"\n",
    "            return float(freqSet[item])/len(transactionList)\n",
    "\n",
    "    toRetItems = []\n",
    "    for key, value in largeSet.items():\n",
    "        toRetItems.extend([(tuple(item), getSupport(item))\n",
    "                           for item in value])\n",
    "\n",
    "    toRetRules = []\n",
    "    for key, value in largeSet.items()[1:]:\n",
    "        for item in value:\n",
    "            _subsets = map(frozenset, [x for x in subsets(item)])\n",
    "            for element in _subsets:\n",
    "                remain = item.difference(element)\n",
    "                if len(remain) > 0:\n",
    "                    confidence = getSupport(item)/getSupport(element)\n",
    "                    if confidence >= minConfidence:\n",
    "                        toRetRules.append(((tuple(element), tuple(remain)),\n",
    "                                           confidence))\n",
    "    return toRetItems, toRetRules\n",
    "\n",
    "\n",
    "def printResults(items, rules):\n",
    "    \"\"\"prints the generated itemsets sorted by support and the confidence rules sorted by confidence\"\"\"\n",
    "    for item, support in sorted(items, key=lambda (item, support): support):\n",
    "        print \"item: %s , %.3f\" % (str(item), support)\n",
    "    print \"\\n------------------------ RULES:\"\n",
    "    for rule, confidence in sorted(rules, key=lambda (rule, confidence): confidence):\n",
    "        pre, post = rule\n",
    "        print \"Rule: %s ==> %s , %.3f\" % (str(pre), str(post), confidence)\n",
    "def saveResults(items, rules):\n",
    "    \"\"\"save the generated itemsets sorted by support and the confidence rules sorted by confidence\"\"\"\n",
    "    f = open('results.txt', 'wb')\n",
    "    for item, support in sorted(items, key=lambda (item, support): support):\n",
    "        f.write(\"\\nitem: %s , %.3f\" % (str(item), support)) \n",
    "    f.write(\"\\n------------------------ RULES:\")\n",
    "    i = 0\n",
    "    for rule, confidence in sorted(rules, key=lambda (rule, confidence): confidence):\n",
    "        pre, post = rule\n",
    "        i+=1\n",
    "        f.write(\"\\nRule %s : %s ==> %s , %.3f\" % (str(i), str(pre), str(post), confidence)) \n",
    "\n",
    "def dataFromFile(fname):\n",
    "        \"\"\"Function which reads from the file and yields a generator\"\"\"\n",
    "        file_iter = open(fname, 'rU')\n",
    "        for line in file_iter:\n",
    "                line = line.strip().rstrip(',')                         # Remove trailing comma\n",
    "                record = frozenset(line.split(','))\n",
    "                yield record\n",
    "\n",
    "\n",
    "if __name__ == \"__main__\":\n",
    "#     optparser = OptionParser()\n",
    "#     optparser.add_option('-f', '--inputFile',\n",
    "#                          dest='input',\n",
    "#                          help='filename containing csv',\n",
    "#                          default=None)\n",
    "#     optparser.add_option('-s', '--minSupport',\n",
    "#                          dest='minS',\n",
    "#                          help='minimum support value',\n",
    "#                          default=0.15,\n",
    "#                          type='float')\n",
    "#     optparser.add_option('-c', '--minConfidence',\n",
    "#                          dest='minC',\n",
    "#                          help='minimum confidence value',\n",
    "#                          default=0.6,\n",
    "#                          type='float')\n",
    "\n",
    "#     (options, args) = optparser.parse_args()\n",
    "\n",
    "#     inFile = None\n",
    "#     if options.input is None:\n",
    "#             inFile = sys.stdin\n",
    "#     elif options.input is not None:\n",
    "#             inFile = dataFromFile(options.input)\n",
    "#     else:\n",
    "#             print 'No dataset filename specified, system with exit\\n'\n",
    "#             sys.exit('System will exit')\n",
    "\n",
    "#     minSupport = options.minS\n",
    "#     minConfidence = options.minC\n",
    "\n",
    "    start = time.time()\n",
    "    inFile  = dataFromFile('sparse_df.txt')\n",
    "    minSupport, minConfidence = 0.0005, 0.5\n",
    "    \n",
    "    items, rules = runApriori(inFile, minSupport, minConfidence)\n",
    "#     printResults(items, rules)\n",
    "    saveResults(items, rules)\n",
    "    dur =  str(time.time() - start)"
   ]
  },
  {
   "cell_type": "code",
   "execution_count": 8,
   "metadata": {},
   "outputs": [
    {
     "data": {
      "text/plain": [
       "'98.1884000301'"
      ]
     },
     "execution_count": 8,
     "metadata": {},
     "output_type": "execute_result"
    }
   ],
   "source": [
    "dur"
   ]
  },
  {
   "cell_type": "markdown",
   "metadata": {},
   "source": [
    "# Web service\n"
   ]
  },
  {
   "cell_type": "code",
   "execution_count": 9,
   "metadata": {},
   "outputs": [],
   "source": [
    "# import pymssql\n",
    "from os import getenv\n",
    "# -*- coding: utf-8 -*-\n",
    "import tornado.ioloop\n",
    "import tornado.web\n",
    "import tornado.httpserver\n",
    "import tornado.httpclient\n",
    "import tornado.netutil\n",
    "# import sys\n",
    "from tornado.ioloop import IOLoop, PeriodicCallback\n",
    "from threading import Thread\n",
    "import time\n",
    "\n",
    "class Test(tornado.web.RequestHandler):\n",
    "#     def __init__(self):\n",
    "#         self.a = HandClass(self)\n",
    "#     def cong(self, a, b):\n",
    "#         return a+b\n",
    "    \n",
    "    def get(self):\n",
    "        self.write(\"Welcome to Thegioididong.com\")\n",
    "\n",
    "class TrackingViews(tornado.web.RequestHandler):\n",
    "\n",
    "    def call(self):\n",
    "        return cong(1, 2)\n",
    "    \n",
    "    def get(self):\n",
    "        try:\n",
    "            list_product = self.get_argument('list_Product', None)\n",
    "#             producID = int(self.get_argument('ProductID', None))\n",
    "#             num = int(self.get_argument('num', None))\n",
    "#             self.write(str(list_product.split('_')))\n",
    "            self.write(str(get_result(list_product, results)))\n",
    "        except Exception as error:\n",
    "            self.write(\"We have no recommend for \" + list_product +\" Error: \"  + repr(error))\n",
    "\n",
    "def cong(a, b):\n",
    "    return a+b\n",
    "   \n",
    "def inital_():\n",
    "    global results\n",
    "    tmp = pd.DataFrame(rules)\n",
    "    tmp1 = pd.DataFrame(list((tmp[0].values)))\n",
    "    tmp1.columns = ['A', 'B']\n",
    "    tmp2 = pd.pivot_table(tmp1, index='A', aggfunc=lambda x: ' '.join(str(v) for v in x))\n",
    "    tmp2 = tmp2.reset_index()\n",
    "    tmp2.B = tmp2['B'].apply(lambda row: [int(float(x)) for x in re.findall(r\"\\d+\\.?\\d*\", str(row))])\n",
    "    tmp2.A = tmp2['A'].apply(lambda row: list(int(float(x)) for x in row))\n",
    "    results = tmp2\n",
    "\n",
    "def get_result(list_product, results):#\n",
    "    try:\n",
    "        set_product = set(map(lambda x: int(x), list_product.split()))\n",
    "        for index, row in results.iterrows():\n",
    "            if set_product == set(row.A):\n",
    "                recommend = row.B\n",
    "                break        \n",
    "    except Exception as error:\n",
    "        return '' \n",
    "    return recommend    \n",
    " \n",
    "# return all subset\n",
    "def list_powerset(lst):\n",
    "    return reduce(lambda result, x: result + [subset + [x] for subset in result], lst, [[]])\n",
    "\n",
    "def get_results_powerset(list_product, results):   \n",
    "    list_cate = list(set(map(lambda x: int(x), list_product.split())))\n",
    "    recommend = []\n",
    "    for item_set in list_powerset(list_cate):\n",
    "        for index, row in results.iterrows():\n",
    "            if set(item_set) == set(row.A):\n",
    "                recommend.extend(row.B)\n",
    "    return recommend    \n",
    "    \n",
    "    \n",
    "class Application(tornado.web.Application):\n",
    "    def __init__(self):\n",
    "        handlers = [\n",
    "                  (r\"/recommendation\", TrackingViews),\n",
    "                  (r\"/\", Test),\n",
    "                \n",
    "        ]\n",
    "        settings = {}\n",
    "        tornado.web.Application.__init__(self, handlers, **settings)\n",
    "\n",
    "def thread1(threadname):\n",
    "    #global a       # Optional if you treat a as read-only\n",
    "    while 1:\n",
    "        http_server = tornado.httpserver.HTTPServer(Application())\n",
    "        http_server.listen(8898)\n",
    "\n",
    "def thread2(threadname):\n",
    "    while 1:\n",
    "        inital_()\n",
    "        time.sleep(86400)           \n",
    "    \n",
    "if __name__ == \"__main__\":   \n",
    "    results = 0\n",
    "\n",
    "#     test = 0\n",
    "    thread1 = Thread( target=thread1, args=(\"Thread-1\", ) )\n",
    "    thread2 = Thread( target=thread2, args=(\"Thread-2\", ) )\n",
    "\n",
    "#     thread3.start()\n",
    "    thread1.start()\n",
    "    time.sleep(1)\n",
    "    thread2.start()   "
   ]
  },
  {
   "cell_type": "code",
   "execution_count": null,
   "metadata": {
    "collapsed": true
   },
   "outputs": [],
   "source": [
    "tornado.ioloop.IOLoop.instance().stop()"
   ]
  },
  {
   "cell_type": "code",
   "execution_count": 10,
   "metadata": {},
   "outputs": [
    {
     "data": {
      "text/html": [
       "<div>\n",
       "<table border=\"1\" class=\"dataframe\">\n",
       "  <thead>\n",
       "    <tr style=\"text-align: right;\">\n",
       "      <th></th>\n",
       "      <th>A</th>\n",
       "      <th>B</th>\n",
       "    </tr>\n",
       "  </thead>\n",
       "  <tbody>\n",
       "    <tr>\n",
       "      <th>0</th>\n",
       "      <td>[2002]</td>\n",
       "      <td>[2102]</td>\n",
       "    </tr>\n",
       "    <tr>\n",
       "      <th>1</th>\n",
       "      <td>[2286, 2504]</td>\n",
       "      <td>[3103]</td>\n",
       "    </tr>\n",
       "    <tr>\n",
       "      <th>2</th>\n",
       "      <td>[2289, 2286, 2803]</td>\n",
       "      <td>[2805, 2804]</td>\n",
       "    </tr>\n",
       "    <tr>\n",
       "      <th>3</th>\n",
       "      <td>[2289, 2387]</td>\n",
       "      <td>[2286]</td>\n",
       "    </tr>\n",
       "    <tr>\n",
       "      <th>4</th>\n",
       "      <td>[2289, 2803]</td>\n",
       "      <td>[2286, 2804]</td>\n",
       "    </tr>\n",
       "  </tbody>\n",
       "</table>\n",
       "</div>"
      ],
      "text/plain": [
       "                    A             B\n",
       "0              [2002]        [2102]\n",
       "1        [2286, 2504]        [3103]\n",
       "2  [2289, 2286, 2803]  [2805, 2804]\n",
       "3        [2289, 2387]        [2286]\n",
       "4        [2289, 2803]  [2286, 2804]"
      ]
     },
     "execution_count": 10,
     "metadata": {},
     "output_type": "execute_result"
    }
   ],
   "source": [
    "results.head()"
   ]
  },
  {
   "cell_type": "code",
   "execution_count": 9,
   "metadata": {
    "collapsed": true
   },
   "outputs": [],
   "source": [
    "list_product = '2289 2286 2803'"
   ]
  },
  {
   "cell_type": "code",
   "execution_count": 30,
   "metadata": {},
   "outputs": [],
   "source": [
    "\n",
    "def get_results_powerset(list_product, results):   \n",
    "    list_cate = list(set(map(lambda x: int(x), list_product.split())))\n",
    "    recommend = []\n",
    "    for item_set in list_powerset(list_cate):\n",
    "        for index, row in results.iterrows():\n",
    "            if set(item_set) == set(row.A):\n",
    "                recommend.extend(row.B)\n",
    "    return recommend "
   ]
  },
  {
   "cell_type": "code",
   "execution_count": 20,
   "metadata": {},
   "outputs": [
    {
     "data": {
      "text/plain": [
       "0.24366283416748047"
      ]
     },
     "execution_count": 20,
     "metadata": {},
     "output_type": "execute_result"
    }
   ],
   "source": [
    "start = time.time()\n",
    "get_results_powerset(list_product)\n",
    "time.time() -start"
   ]
  },
  {
   "cell_type": "code",
   "execution_count": 35,
   "metadata": {},
   "outputs": [
    {
     "data": {
      "text/plain": [
       "0.0008840560913085938"
      ]
     },
     "execution_count": 35,
     "metadata": {},
     "output_type": "execute_result"
    }
   ],
   "source": [
    "start = time.time()\n",
    "get_result(list_product, results)\n",
    "time.time() -start"
   ]
  },
  {
   "cell_type": "code",
   "execution_count": 61,
   "metadata": {},
   "outputs": [],
   "source": []
  },
  {
   "cell_type": "code",
   "execution_count": 64,
   "metadata": {},
   "outputs": [],
   "source": [
    "list_set = list_powerset(list_test)"
   ]
  },
  {
   "cell_type": "code",
   "execution_count": 13,
   "metadata": {},
   "outputs": [
    {
     "ename": "NameError",
     "evalue": "name 'list_set' is not defined",
     "output_type": "error",
     "traceback": [
      "\u001b[0;31m---------------------------------------------------------------------------\u001b[0m",
      "\u001b[0;31mNameError\u001b[0m                                 Traceback (most recent call last)",
      "\u001b[0;32m<ipython-input-13-f52a269f3f22>\u001b[0m in \u001b[0;36m<module>\u001b[0;34m()\u001b[0m\n\u001b[0;32m----> 1\u001b[0;31m \u001b[0mlist_set\u001b[0m\u001b[0;34m\u001b[0m\u001b[0m\n\u001b[0m",
      "\u001b[0;31mNameError\u001b[0m: name 'list_set' is not defined"
     ]
    }
   ],
   "source": [
    "list_set"
   ]
  },
  {
   "cell_type": "code",
   "execution_count": null,
   "metadata": {
    "collapsed": true
   },
   "outputs": [],
   "source": []
  },
  {
   "cell_type": "code",
   "execution_count": 26,
   "metadata": {},
   "outputs": [
    {
     "data": {
      "text/plain": [
       "294"
      ]
     },
     "execution_count": 26,
     "metadata": {},
     "output_type": "execute_result"
    }
   ],
   "source": [
    "len(data1.CateID.unique())\n"
   ]
  },
  {
   "cell_type": "markdown",
   "metadata": {},
   "source": [
    "# Connect to Redis"
   ]
  },
  {
   "cell_type": "code",
   "execution_count": 11,
   "metadata": {},
   "outputs": [],
   "source": [
    "# pip install redis-py-cluster\n",
    "import redis\n",
    "from rediscluster import StrictRedisCluster\n",
    "# Requires at least one node for cluster discovery. Multiple nodes is recommended.\n",
    "startup_nodes = [{\"host\": \"10.1.12.30\", \"port\": \"16379\"}]\n",
    "rc = StrictRedisCluster(startup_nodes=startup_nodes, decode_responses=True)\n",
    "#!redis-cli -h 10.1.12.30 -p 16379 -c\n",
    "#rc.dbsize()"
   ]
  },
  {
   "cell_type": "code",
   "execution_count": 14,
   "metadata": {},
   "outputs": [
    {
     "ename": "NameError",
     "evalue": "name 'tmp2' is not defined",
     "output_type": "error",
     "traceback": [
      "\u001b[0;31m---------------------------------------------------------------------------\u001b[0m",
      "\u001b[0;31mNameError\u001b[0m                                 Traceback (most recent call last)",
      "\u001b[0;32m<ipython-input-14-0ecb54e0ac5d>\u001b[0m in \u001b[0;36m<module>\u001b[0;34m()\u001b[0m\n\u001b[0;32m----> 1\u001b[0;31m \u001b[0mtmp2\u001b[0m\u001b[0;34m\u001b[0m\u001b[0m\n\u001b[0m",
      "\u001b[0;31mNameError\u001b[0m: name 'tmp2' is not defined"
     ]
    }
   ],
   "source": [
    "tmp2"
   ]
  },
  {
   "cell_type": "code",
   "execution_count": 315,
   "metadata": {},
   "outputs": [],
   "source": [
    "for index, row in tmp2.iterrows():\n",
    "    rc.hset('RS',str(row.A), str(row.B))"
   ]
  },
  {
   "cell_type": "code",
   "execution_count": 12,
   "metadata": {},
   "outputs": [],
   "source": [
    "rc.hget('RS', [2002])"
   ]
  },
  {
   "cell_type": "code",
   "execution_count": 13,
   "metadata": {},
   "outputs": [
    {
     "data": {
      "text/plain": [
       "{}"
      ]
     },
     "execution_count": 13,
     "metadata": {},
     "output_type": "execute_result"
    }
   ],
   "source": [
    "rc.hgetall('RS')"
   ]
  },
  {
   "cell_type": "code",
   "execution_count": 70,
   "metadata": {
    "collapsed": true
   },
   "outputs": [],
   "source": [
    "# sales = {'account': ['Jones LLC', 'Alpha Co', 'Blue Inc'],\n",
    "#          'Jan': [150, 200, 50],\n",
    "#          'Feb': [200, 210, 90],\n",
    "#          'Mar': [140, 215, 95]}\n",
    "# df = pd.DataFrame.from_dict(sales)\n",
    "# df.reindex(df.account.str.len().sort_values().index)"
   ]
  },
  {
   "cell_type": "code",
   "execution_count": null,
   "metadata": {
    "collapsed": true
   },
   "outputs": [],
   "source": []
  }
 ],
 "metadata": {
  "kernelspec": {
   "display_name": "Python [conda env:anaconda3]",
   "language": "python",
   "name": "conda-env-anaconda3-py"
  },
  "language_info": {
   "codemirror_mode": {
    "name": "ipython",
    "version": 3
   },
   "file_extension": ".py",
   "mimetype": "text/x-python",
   "name": "python",
   "nbconvert_exporter": "python",
   "pygments_lexer": "ipython3",
   "version": "3.5.5"
  },
  "widgets": {
   "state": {},
   "version": "1.1.2"
  }
 },
 "nbformat": 4,
 "nbformat_minor": 2
}
