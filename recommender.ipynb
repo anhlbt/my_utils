{
 "cells": [
  {
   "cell_type": "markdown",
   "metadata": {},
   "source": [
    "# prepare data for processing"
   ]
  },
  {
   "cell_type": "code",
   "execution_count": 37,
   "metadata": {
    "code_folding": [],
    "jupyter": {
     "outputs_hidden": false
    }
   },
   "outputs": [],
   "source": [
    "# prepare data for processing\n",
    "import sys\n",
    "reload(sys)\n",
    "sys.setdefaultencoding('utf-8')\n",
    "#define similariry function \n",
    "import numpy as np\n",
    "import pandas as pd\n",
    "import math\n",
    "import re\n",
    "import time\n",
    "\n",
    "def dotproduct_(v1, v2):\n",
    "    return sum((a*b) for a, b in zip(v1, v2))\n",
    "\n",
    "def dotproduct(v1, v2):\n",
    "    tmp = 0\n",
    "    for a, b in zip(v1, v2):\n",
    "        if a >= 0 and b >= 0:\n",
    "            tmp += (a * b)\n",
    "    return tmp   \n",
    "\n",
    "\n",
    "def length(v):\n",
    "    return math.sqrt(dotproduct(v, v))\n",
    "\n",
    "def similar(v1, v2):\n",
    "    return (dotproduct(v1, v2) / (length(v1) * length(v2)))\n",
    "\n",
    "def length2(v1, v2):\n",
    "    return math.sqrt(sum((a-b)**2 for a, b in zip(v1, v2)))\n",
    "def length3(v1, v2):\n",
    "    tmp = 0\n",
    "    for a, b in zip(v1, v2):\n",
    "        if a >= 0 and b >= 0:\n",
    "            tmp += (a - b)**2\n",
    "    return math.sqrt(tmp)       \n",
    "\n",
    "#remove accents vietnamese\n",
    "def remove_accents(text):\n",
    "    s1 = u'ÀÁÂÃÈÉÊÌÍÒÓÔÕÙÚÝàáâãèéêìíòóôõùúýĂăĐđĨĩŨũƠơƯưẠạẢảẤấẦầẨẩẪẫẬậẮắẰằẲẳẴẵẶặẸẹẺẻẼẽẾếỀềỂểỄễỆệỈỉỊịỌọỎỏỐốỒồỔổỖỗỘộỚớỜờỞởỠỡỢợỤụỦủỨứỪừỬửỮữỰựỲỳỴỵỶỷỸỹ'\n",
    "    s0 = u'AAAAEEEIIOOOOUUYaaaaeeeiioooouuyAaDdIiUuOoUuAaAaAaAaAaAaAaAaAaAaAaAaEeEeEeEeEeEeEeEeIiIiOoOoOoOoOoOoOoOoOoOoOoOoUuUuUuUuUuUuUuYyYyYyYy'\n",
    "#     s1.encode('utf-8')\n",
    "#     s0.encode('utf-8')\n",
    "    if text == np.nan or text == np.NAN or text == np.NaN:\n",
    "        return text\n",
    "    else:    \n",
    "        s = ''\n",
    "        text = str(text)\n",
    "        text = text.decode('utf-8')\n",
    "\n",
    "        for c in text:\n",
    "            if c in s1:\n",
    "                s += s0[s1.index(c)]\n",
    "            else:\n",
    "                s += c\n",
    "        return s.strip()\n",
    "    \n",
    "# remove_accents('Hỗ trợ 4G hôm nãy đi chợi Hỗ trợ Hỗ trợ')   \n",
    "\n",
    "\n",
    "def list_similar(item, numofpro, dataframe):\n",
    "    list_similarity = dataframe[str(item)].sort(inplace = False)[: numofpro + 1]# sort by distance\n",
    "    if str(item) in list_similarity:\n",
    "        return list_similarity.drop([str(item)])\n",
    "    #item_similarity = list_similarity.index.tolist()\n",
    "    #item_similarity = map(lambda x: np.int(x),item_similarity)\n",
    "    #del list_similarity[list_similarity.index(item)]\n",
    "    else:\n",
    "        return list_similarity#, item_similarity[1: numofpro+1]\n",
    "\n",
    "def list_best_sale(category, numofpro, dataframe):\n",
    "    #dataframe = dataframe.fillna(0)\n",
    "#     best_sell = dataframe.loc[np.int(category)].sort_values(ascending = False, inplace = False)\n",
    "#     item_best_sell = best_sell.index.tolist()\n",
    "#     return item_best_sell[1: numofpro+1]# , best_sell\n",
    "    return dataframe.loc[category].sort_values(ascending = False, inplace = False)[0: numofpro]"
   ]
  },
  {
   "cell_type": "code",
   "execution_count": 38,
   "metadata": {
    "code_folding": [],
    "jupyter": {
     "outputs_hidden": false
    }
   },
   "outputs": [],
   "source": [
    "#read dataset and normalize\n",
    "# data = pd.read_csv('/home/tgdd/TA_69/recommenderr/VuiVuiPropertyData.txt',sep='\\t', delimiter='\\t',  header =0, encoding='utf8', engine='python')\n",
    "data = pd.read_excel('/home/tgdd/TA_69/recommenderr/1.xlsx', sheetname='Sheet1', header = 0)\n",
    "new_col = map(remove_accents, list(data.columns))\n",
    "data.columns = new_col\n",
    "data = data.applymap(remove_accents)\n",
    "data = data.dropna(axis = 1, how = 'all')\n",
    "data = data.dropna(axis = 0, how = 'all')\n",
    "data = data.drop_duplicates(['Ma san pham'], keep='last')\n",
    "\n",
    "data = data[data['Gia'] != '-1']\n",
    "data = data[data['Gia'] != '0']\n",
    "# data = data[data.CATE.isin(['2423','2424', '2425','2426','2514','2515','2644','2663'])]"
   ]
  },
  {
   "cell_type": "markdown",
   "metadata": {},
   "source": [
    "# set rule (price, branch) for all product"
   ]
  },
  {
   "cell_type": "code",
   "execution_count": 39,
   "metadata": {
    "code_folding": [],
    "jupyter": {
     "outputs_hidden": false
    }
   },
   "outputs": [],
   "source": [
    "def rule_gia_all(var):\n",
    "    max_price = data_final.Gia[data_final.Category == Cate].max()\n",
    "    min_price = data_final.Gia[data_final.Category == Cate].min()\n",
    "    tmp_price = (max_price - min_price)/10\n",
    "    \n",
    "    if var < min_price + tmp_price*1:\n",
    "        val = 1\n",
    "    elif var < min_price + tmp_price*2:\n",
    "        val = 2\n",
    "    elif var < min_price + tmp_price*3:\n",
    "        val = 3\n",
    "    elif var < min_price + tmp_price*4:\n",
    "        val = 4\n",
    "    elif var < min_price + tmp_price*5:\n",
    "        val = 5\n",
    "    elif var < min_price + tmp_price*6:\n",
    "        val = 6\n",
    "    elif var < min_price + tmp_price*7:\n",
    "        val = 7\n",
    "    elif var < min_price + tmp_price*8:\n",
    "        val = 8\n",
    "    elif var < min_price + tmp_price*9:\n",
    "        val = 9\n",
    "    else:\n",
    "        val = 10\n",
    "    return val + int(Cates.index(Cate) * 100)# + int(CATES.index(CATE) *100000)"
   ]
  },
  {
   "cell_type": "code",
   "execution_count": 32,
   "metadata": {
    "jupyter": {
     "outputs_hidden": false
    }
   },
   "outputs": [],
   "source": [
    "#Moi CATE 1000\n",
    "#Moi cate 100\n",
    "# data_final: all category have less feature\n",
    "data_final = data.icol([0, 1, 2, 3, 4, 5])\n",
    "data_final.columns = ['Ma_san_pham', 'Category','CATE','Ten_san_pham', 'Hang_san_xuat','Gia']\n",
    "data_final = data_final[~data_final.Category.isin(['42','44', '2002','1942','1943','1944','1962','1992', '1988', '382', '55', '54', '57', '58'])]\n",
    "#data.Category[data.Category == 4444] = 2\n",
    "data_final['CATE2'] = -1\n",
    "data_final['Category2'] = -2\n",
    "data_final.Gia = data_final.Gia.apply(lambda x: np.float(x))\n",
    "data_final['Gia2'] = data_final['Gia']\n",
    "CATES = data_final['CATE'].unique().tolist()\n",
    "for CATE in CATES:\n",
    "    data_final.CATE2[data_final.CATE == CATE] = int(CATES.index(CATE) *100000)\n",
    "    Cates = data_final.Category[data_final['CATE'] == CATE].unique().tolist()#\n",
    "    for Cate in Cates:\n",
    "        data_final.Category2[data_final.Category == Cate] = int(Cates.index(Cate) * 100) + int(CATES.index(CATE) *100000)\n",
    "        max_price = data_final.Gia[data_final.Category == Cate].max()\n",
    "        min_price = data_final.Gia[data_final.Category == Cate].min()\n",
    "        tmp_price = (max_price - min_price)/10\n",
    "       \n",
    "        data_final.Gia2[data_final.Category == Cate] = data_final.Gia2[data_final.Category == Cate].apply(lambda var: rule_gia_all(var))\n",
    "        Hang_tmp = data_final.Hang_san_xuat[data_final.Category== Cate].tolist()\n",
    "        data_final.Hang_san_xuat[data_final.Category== Cate] = data_final.Hang_san_xuat[data_final.Category== Cate].apply(lambda x: Hang_tmp.index(x)) + int(Cates.index(Cate) * 100) + int(CATES.index(CATE) *100000)\n",
    "        #mask = data_final.Gia[data_final.Category == '42'].apply(lambda x: int(x)) > 1000000.\n",
    "            #data_final.Gia2[mask] = percent + data_final.Category2[data_final.Category == Cate]\n",
    "\n",
    "#df['Hang san xuat2'] = df.apply(rule_hang_ml, axis = 1)\n",
    "\n",
    "#lambda x, percent: percent if (x >= min_price + tmp_price*1.0*(percent - 1)/10) and (x < min_price + tmp_price*1.0*percent/10) else None\n"
   ]
  },
  {
   "cell_type": "code",
   "execution_count": 40,
   "metadata": {
    "jupyter": {
     "outputs_hidden": false
    }
   },
   "outputs": [],
   "source": [
    "#Moi CATE 1000\n",
    "#Moi cate 100\n",
    "# data_final: all category have less feature\n",
    "data_final = data.icol([0, 1, 2, 3, 4])\n",
    "data_final.columns = ['Ma_san_pham', 'Category','Ten_san_pham', 'Hang_san_xuat','Gia']\n",
    "data_final = data_final[~data_final.Category.isin(['42','44', '2002','1942','1943','1944','1962','1992', '1988', '382', '55', '54', '57', '58'])]\n",
    "#data.Category[data.Category == 4444] = 2\n",
    "# data_final['CATE2'] = -1\n",
    "data_final['Category2'] = -2\n",
    "data_final.Gia = data_final.Gia.apply(lambda x: np.float(x))\n",
    "data_final['Gia2'] = data_final['Gia']\n",
    "# CATES = data_final['CATE'].unique().tolist()\n",
    "# for CATE in CATES:\n",
    "#     data_final.CATE2[data_final.CATE == CATE] = int(CATES.index(CATE) *100000)\n",
    "Cates = data_final.Category.unique().tolist()#\n",
    "for Cate in Cates:\n",
    "    data_final.Category2[data_final.Category == Cate] = int(Cates.index(Cate) * 100)\n",
    "    max_price = data_final.Gia[data_final.Category == Cate].max()\n",
    "    min_price = data_final.Gia[data_final.Category == Cate].min()\n",
    "    tmp_price = (max_price - min_price)/10\n",
    "\n",
    "    data_final.Gia2[data_final.Category == Cate] = data_final.Gia2[data_final.Category == Cate].apply(lambda var: rule_gia_all(var))\n",
    "    Hang_tmp = data_final.Hang_san_xuat[data_final.Category== Cate].tolist()\n",
    "    data_final.Hang_san_xuat[data_final.Category== Cate] = data_final.Hang_san_xuat[data_final.Category== Cate].apply(lambda x: Hang_tmp.index(x)) + int(Cates.index(Cate) * 100)\n",
    "       "
   ]
  },
  {
   "cell_type": "code",
   "execution_count": 6,
   "metadata": {
    "code_folding": [],
    "collapsed": true,
    "jupyter": {
     "outputs_hidden": true
    }
   },
   "outputs": [],
   "source": [
    "#data_final.Gia2[data_final.Category == '42'].apply(lambda var: rule_gia_all(var))\n",
    "#data_final.loc[8288]\n",
    "#df.to_csv('/home/tungrd/TA/recommenderr/data_maylanh.csv', encoding='utf-8')\n",
    "# Hang_san_xuat = df['Hang san xuat'].unique()\n",
    "# Hang_san_xuat\n",
    "# Noi_san_xuat = df['Noi san xuat'].unique()\n",
    "# Noi_san_xuat\n",
    "# Gia = df['Gia'].unique()\n",
    "# Gia.sort()\n",
    "#Gia\n",
    "#check data null\n",
    "#data_file.isnull().values.any()\n",
    "#data_file.notnull()\n",
    "\n",
    "# Cong_suat =df['Cong suat lam lanh'].unique()\n",
    "# Cong_suat\n",
    "\n",
    "# Pham_vi = df['Pham vi lam lanh hieu qua'].unique()\n",
    "# Pham_vi\n",
    "\n",
    "#df[df['Pham vi lam lanh hieu qua'] == 'Duoi 45 m3']\n",
    "\n",
    "#dataframe.loc[:'85161']"
   ]
  },
  {
   "cell_type": "markdown",
   "metadata": {},
   "source": [
    "# recommended by price"
   ]
  },
  {
   "cell_type": "code",
   "execution_count": 28,
   "metadata": {
    "code_folding": [],
    "jupyter": {
     "outputs_hidden": false
    }
   },
   "outputs": [],
   "source": [
    "# recommended by only price\n",
    "df = data[data['Category'] == '42']\n",
    "#drop all those columns like (value, value2, value3) where all rows have same values\n",
    "cols = list(df)\n",
    "nunique = df.apply(pd.Series.nunique)\n",
    "cols_to_drop = nunique[nunique == 1].index\n",
    "df = df.drop(cols_to_drop, axis=1)"
   ]
  },
  {
   "cell_type": "code",
   "execution_count": 29,
   "metadata": {
    "code_folding": [
     0
    ],
    "jupyter": {
     "outputs_hidden": false
    }
   },
   "outputs": [],
   "source": [
    "#return list of product have the Price difference less than #thread_Price\n",
    "def Gia_dth(product_id, numofpro, thread_Price, df):\n",
    "    df.Gia = df.Gia.map(lambda x: float(x))\n",
    "    df = df.sort(columns=['Gia'])\n",
    "    return [item for item in df['Ma san pham'].values.tolist() if abs(float(df[df['Ma san pham']==item]['Gia']) - float(df[df['Ma san pham']==product_id]['Gia'])) < thread_Price][:numofpro]\n"
   ]
  },
  {
   "cell_type": "code",
   "execution_count": 30,
   "metadata": {
    "jupyter": {
     "outputs_hidden": false
    }
   },
   "outputs": [],
   "source": [
    "list_price = Gia_dth('88851', -1, 100000, df)\n",
    "df_name = df[['Ma san pham', 'Ten san pham', 'Hang san xuat', 'Gia']][data['Ma san pham'].isin(list_price)]"
   ]
  },
  {
   "cell_type": "code",
   "execution_count": 31,
   "metadata": {
    "jupyter": {
     "outputs_hidden": false
    }
   },
   "outputs": [
    {
     "data": {
      "text/html": [
       "<div>\n",
       "<table border=\"1\" class=\"dataframe\">\n",
       "  <thead>\n",
       "    <tr style=\"text-align: right;\">\n",
       "      <th></th>\n",
       "      <th>Ma san pham</th>\n",
       "      <th>Ten san pham</th>\n",
       "      <th>Hang san xuat</th>\n",
       "      <th>Gia</th>\n",
       "    </tr>\n",
       "  </thead>\n",
       "  <tbody>\n",
       "    <tr>\n",
       "      <th>3319</th>\n",
       "      <td>91920</td>\n",
       "      <td>Epic X9 Plus</td>\n",
       "      <td>Epic</td>\n",
       "      <td>3490000.0</td>\n",
       "    </tr>\n",
       "    <tr>\n",
       "      <th>3333</th>\n",
       "      <td>88851</td>\n",
       "      <td>Mobiistar Prime X1</td>\n",
       "      <td>Mobiistar</td>\n",
       "      <td>3490000.0</td>\n",
       "    </tr>\n",
       "    <tr>\n",
       "      <th>3599</th>\n",
       "      <td>90719</td>\n",
       "      <td>Asus Zenfone 2 Laser 6\" ZE601KL</td>\n",
       "      <td>Asus</td>\n",
       "      <td>3410000.0</td>\n",
       "    </tr>\n",
       "    <tr>\n",
       "      <th>5014</th>\n",
       "      <td>71974</td>\n",
       "      <td>Asus Zenfone Selfie</td>\n",
       "      <td>Asus</td>\n",
       "      <td>3490000.0</td>\n",
       "    </tr>\n",
       "    <tr>\n",
       "      <th>9519</th>\n",
       "      <td>70702</td>\n",
       "      <td>Asus Zenfone 2 2.3Ghz/4G/32G</td>\n",
       "      <td>Asus</td>\n",
       "      <td>3490000.0</td>\n",
       "    </tr>\n",
       "    <tr>\n",
       "      <th>9600</th>\n",
       "      <td>73039</td>\n",
       "      <td>Lenovo Vibe S1</td>\n",
       "      <td>Lenovo</td>\n",
       "      <td>3490000.0</td>\n",
       "    </tr>\n",
       "  </tbody>\n",
       "</table>\n",
       "</div>"
      ],
      "text/plain": [
       "     Ma san pham                     Ten san pham Hang san xuat        Gia\n",
       "3319       91920                     Epic X9 Plus          Epic  3490000.0\n",
       "3333       88851               Mobiistar Prime X1     Mobiistar  3490000.0\n",
       "3599       90719  Asus Zenfone 2 Laser 6\" ZE601KL          Asus  3410000.0\n",
       "5014       71974              Asus Zenfone Selfie          Asus  3490000.0\n",
       "9519       70702     Asus Zenfone 2 2.3Ghz/4G/32G          Asus  3490000.0\n",
       "9600       73039                   Lenovo Vibe S1        Lenovo  3490000.0"
      ]
     },
     "execution_count": 31,
     "metadata": {},
     "output_type": "execute_result"
    }
   ],
   "source": [
    "df_name"
   ]
  },
  {
   "cell_type": "markdown",
   "metadata": {},
   "source": [
    "# Rule dien thoai"
   ]
  },
  {
   "cell_type": "code",
   "execution_count": 44,
   "metadata": {
    "code_folding": [
     10,
     50,
     62,
     95,
     107,
     117,
     133,
     147,
     157,
     167,
     185,
     209,
     223,
     239,
     249,
     263,
     279
    ],
    "jupyter": {
     "outputs_hidden": false
    }
   },
   "outputs": [],
   "source": [
    "#set rule dien thoai\n",
    "\n",
    "df = data[data['Category'] == '42']\n",
    "#drop all those columns like (value, value2, value3) where all rows have same values\n",
    "cols = list(df)\n",
    "nunique = df.apply(pd.Series.nunique)\n",
    "cols_to_drop = nunique[nunique == 1].index\n",
    "df = df.drop(cols_to_drop, axis=1)\n",
    "\n",
    "\n",
    "def rule_gia_dth(dataframe):\n",
    "    var = int(dataframe['Gia'])\n",
    "    if var <= 500000:\n",
    "        val = 1\n",
    "    elif var < 1000000:\n",
    "        val = 2    \n",
    "    elif var < 1500000:\n",
    "        val = 3\n",
    "    elif var < 2000000:\n",
    "        val = 4\n",
    "    elif var < 3000000:\n",
    "        val = 5\n",
    "    elif var < 5000000:\n",
    "        val = 6\n",
    "    elif var < 6000000:\n",
    "        val = 7     \n",
    "    elif var < 7000000:\n",
    "        val = 8\n",
    "    elif var < 8000000:\n",
    "        val = 9 \n",
    "    elif var < 9000000:\n",
    "        val = 10\n",
    "    elif var < 10000000:   \n",
    "        val = 11\n",
    "    elif var < 11000000:\n",
    "        val = 12\n",
    "    elif var < 12000000:   \n",
    "        val = 13    \n",
    "    elif var < 13000000:\n",
    "        val = 14\n",
    "    elif var < 15000000:   \n",
    "        val = 15\n",
    "    elif var < 17000000:   \n",
    "        val = 16\n",
    "    elif var >= 17000000:   \n",
    "        val = 17\n",
    "    else:\n",
    "        val = 0 #var > 15tr\n",
    "    return val + val*2\n",
    "\n",
    "def rule_hang_dth(dataframe):\n",
    "    var = (dataframe['Hang san xuat'])\n",
    "    if var in ['Microsoft','Apple', 'Samsung','Sony','HTC','OPPO','BlackBerry', 'LG']:\n",
    "        val = 1\n",
    "    elif var in ['Lenovo', 'Mobiistar', 'Asus', 'Wing', 'Mobell', 'Pantech', 'Oukitel', 'Q-Mobile', 'Coolpad',\n",
    " 'Xiaomi', 'Intex', 'Itel', 'Philips', 'Bavapen', 'Gionee', 'Freetel', 'Huawei', 'Obi Worldphone', 'Epic']:\n",
    "        val = 2\n",
    "   \n",
    "    else:#Samsung\n",
    "        val = 2\n",
    "    return val + val*3\n",
    "\n",
    "def rule_hang_dth2(dataframe):\n",
    "    var = (dataframe['Hang san xuat'])\n",
    "    if var == 'Apple':\n",
    "        val = a * 5.7\n",
    "    elif var == 'Samsung':\n",
    "        val =  a * 6.3   \n",
    "    elif var =='OPPO':\n",
    "        val = 11\n",
    "    elif var =='Sony':\n",
    "        val = 10\n",
    "    elif var == 'Microsoft':\n",
    "        val = a* 6.2\n",
    "    elif var == 'LG':\n",
    "        val = 8\n",
    "    elif var == 'HTC':\n",
    "        val = 7     \n",
    "    elif var == 'BlackBerry':\n",
    "        val = 6\n",
    "    elif var == 'Xiaomi':\n",
    "        val = 3.5 \n",
    "    elif var == 'Lenovo':\n",
    "        val = 3\n",
    "    elif var =='Asus':   \n",
    "        val = 2.5\n",
    "    elif var =='Huawei':\n",
    "        val = 2\n",
    "    elif var in ['Mobiistar', 'Wing', 'Mobell', 'Pantech', 'Oukitel', 'Q-Mobile', 'Coolpad',\n",
    " 'Intex', 'Itel', 'Philips', 'Bavapen', 'Gionee', 'Freetel', 'Obi Worldphone', 'Epic']:\n",
    "        val = 1\n",
    "    else:\n",
    "        val = 0 #var > 15tr\n",
    "    return val + val*3\n",
    "\n",
    "def rule_thoigiansudungpin_dth(dataframe):\n",
    "    var = (dataframe['Thoi gian su dung pin'])\n",
    "    if 'Khoang 1 ngay' in var:\n",
    "        val = 1\n",
    "    elif 'Khoang 2 ngay' in var:\n",
    "        val = 2\n",
    "    elif 'Tren 2 ngay' in var:\n",
    "        val = 3\n",
    "    else:# chua cap nhat\n",
    "        val = 1\n",
    "    return val + val * .1\n",
    "\n",
    "def rule_2sim_dth(dataframe):\n",
    "    var = (dataframe['2 SIM'])#duplicate columns    '2 SIM.1'\n",
    "    if 'Khong' in var:\n",
    "        val = 1\n",
    "    elif 'Co' in var:\n",
    "        val = 2\n",
    "    else:# Chua xac dinh\n",
    "        val = 1\n",
    "    return val\n",
    "\n",
    "def rule_camerasau_dth(dataframe):\n",
    "    var = (dataframe['Camera Sau'])\n",
    "    if 'Duoi 3 MP' in var:\n",
    "        val = 1\n",
    "    elif 'Tu 3 den 5 MP' in var:\n",
    "        val = 2\n",
    "    elif 'Tu 5 den 8 MP' in var:\n",
    "        val = 3\n",
    "    elif 'Tu 8 den 12 MP' in var:\n",
    "        val = 4\n",
    "    elif 'Tren 12 MP' in var:\n",
    "        val = 5      \n",
    "    else:# khong camera\n",
    "        val = 0\n",
    "    return val\n",
    "\n",
    "def rule_cameratruoc_dth(dataframe):\n",
    "    var = (dataframe['Camera Truoc'])\n",
    "    if 'Duoi 3 MP' in var:\n",
    "        val = 1\n",
    "    elif 'Tu 3 den 5 MP' in var:\n",
    "        val = 2\n",
    "    elif 'Tu 5 den 8 MP' in var:\n",
    "        val = 3\n",
    "    elif 'Tren 8 MP' in var:\n",
    "        val = 4    \n",
    "    else:# khong camera\n",
    "        val = 0\n",
    "    return val\n",
    "\n",
    "def rule_thietke_dth(dataframe):\n",
    "    var = (dataframe['Thiet ke'])\n",
    "    if var in ['Nguyen khoi', 'Pin lien']:\n",
    "        val = 2\n",
    "    elif var == 'Pin roi':\n",
    "        val = 1\n",
    "    else:\n",
    "        val = 1\n",
    "    return val\n",
    "\n",
    "def rule_amthanhantuong_dth(dataframe):\n",
    "    var = (dataframe['Am thanh an tuong'])\n",
    "    if var == 'Khong':\n",
    "        val = 1\n",
    "    elif var == 'Co':\n",
    "        val = 2\n",
    "    else:\n",
    "        val = 1\n",
    "    return val - val*.2\n",
    "\n",
    "def rule_RAM_dth(dataframe):\n",
    "    var = (dataframe['RAM'])#RAM.1\n",
    "    if var == '512 MB' or var == '768 MB':\n",
    "        val = 1\n",
    "    elif var == '1 GB' or var == '1.5 GB':\n",
    "        val = 2\n",
    "    elif var == '2 GB':\n",
    "        val = 3    \n",
    "    elif var == '3 GB':\n",
    "        val = 4\n",
    "    elif var == '4 GB':\n",
    "        val = 5\n",
    "    elif var == '6 GB' or var == '5 GB':\n",
    "        val = 6\n",
    "    else:\n",
    "        val = 0\n",
    "    return val\n",
    "\n",
    "def rule_bonhotrong_dth(dataframe):\n",
    "    var = (dataframe['Bo nho trong'])#.1\n",
    "    if var == 'Khong' or var == 'Chua xac dinh':\n",
    "        val = 1\n",
    "    elif var == '4 GB' or var == '8 GB':\n",
    "        val = 2\n",
    "    elif var == '16 GB':\n",
    "        val = 3    \n",
    "    elif var == '32 GB':\n",
    "        val = 4\n",
    "    elif var == '64 GB':\n",
    "        val = 5\n",
    "    elif var == '128 GB':\n",
    "        val = 6\n",
    "    elif var == '256 GB':\n",
    "        val = 7   \n",
    "    elif var == '512 GB':\n",
    "        val = 8\n",
    "    elif var == '1 TB':\n",
    "        val = 9 \n",
    "    else:\n",
    "        val = 0\n",
    "    return val\n",
    "\n",
    "def rule_dophangiai_dth(dataframe):\n",
    "    var = (dataframe['Do phan giai.3'])\n",
    "    if var in ['120 x 160', '128 x 128', '320 x 240']:\n",
    "        val = 1\n",
    "    elif var in ['480 x 854', '540 x 960', '480 x 800','640 x 1136']:\n",
    "        val = 2\n",
    "    elif var in ['720 x 1280','1334 x 750' ]:\n",
    "        val = 3    \n",
    "    elif var in ['1080 x 1920', '1440 x 2560', '1440 x 1440']:\n",
    "        val = 4 \n",
    "    else:\n",
    "        val = 0# Chua xac dinh\n",
    "    return val\n",
    "\n",
    "def rule_dorongmanhinh_dth(dataframe):\n",
    "    var = (dataframe['Man hinh rong'])\n",
    "    if var in ['1.4\"', '1.5\"', '1.7\"', '1.77\"', '1.8\"']:\n",
    "        val = 1\n",
    "    elif var in ['2.4\"',  '2.6\"', '2.8\"']:\n",
    "        val = 2\n",
    "    elif var in [ '4\"', '4.5\"', '4.7\"', '4.8\"']:\n",
    "        val = 3    \n",
    "    elif var in ['5\"', '5.1\"','5.15\"', '5.2\"', '5.3\"', '5.5\"']:\n",
    "        val = 4 \n",
    "    elif var in [ '5.7\"',  '6\"']:\n",
    "        val = 5\n",
    "    else:\n",
    "        val = 0# Chua xac dinh\n",
    "    return val + val*.1\n",
    "\n",
    "def rule_selfie_dth(dataframe):\n",
    "    var = (dataframe['Selfie dep'])\n",
    "    if var == 'Khong':\n",
    "        val = 1\n",
    "    elif var == 'Co':\n",
    "        val = 2\n",
    "    else:\n",
    "        val = 1\n",
    "    return val\n",
    "\n",
    "def rule_hedieuhanh_dth(dataframe):\n",
    "    var = (dataframe['He dieu hanh'])#.2\n",
    "    if 'BlackBerry' in var:\n",
    "        val = 1\n",
    "    elif 'Windows' in var:\n",
    "        val = 2\n",
    "    elif 'iOS' in var:\n",
    "        val = 3\n",
    "    elif 'Android' in var:\n",
    "        val = 4   \n",
    "    else:\n",
    "        val = 0\n",
    "    return val + val*.2\n",
    "\n",
    "def rule_tocdoCPU_dth(dataframe):\n",
    "    var = (dataframe['Toc do CPU'])# .1\n",
    "    if var in ['1 GHz',  '1.1 GHz','1.15 GHz', '1.2 GHz', '1.25 GHz', '1.3 GHz', '1.4 GHz', '1.5 GHz', '1.6 GHz', '1.7 GHz', '1.8 GHz', '1.9 GHz']:\n",
    "        val = 1\n",
    "    elif var in ['2.0 GHz', '2.2 GHz', '2.26 GHz', '2.3 GHz', '2.5 GHz'] or '2 nhan' in var:\n",
    "        val = 2\n",
    "    elif '4 nhan 1.' in var:\n",
    "        val = 3    \n",
    "    elif '4 nhan 2.' in var:\n",
    "        val = 4 \n",
    "    elif 'Quad' in var:\n",
    "        val = 5\n",
    "    else:\n",
    "        val = 0# Chua xac dinh\n",
    "    return val + val*.1\n",
    "\n",
    "def rule_GPS_dth(dataframe):\n",
    "    var = (dataframe['GPS'])#.1\n",
    "    if var == 'Khong':\n",
    "        val = 0\n",
    "    elif var == 'Co':\n",
    "        val = 1\n",
    "    elif var in ['GLONASS', 'A-GPS']:\n",
    "        val = 2  \n",
    "    else:\n",
    "        val = 0\n",
    "    return val\n",
    "\n",
    "df['Gia2'] = df.apply(rule_gia_dth, axis = 1)\n",
    "df['Hang san xuat2'] = df.apply(rule_hang_dth, axis = 1)\n",
    "df['Thoi gian su dung pin2'] = df.apply(rule_thoigiansudungpin_dth, axis = 1)\n",
    "df['2 SIM2'] = df.apply(rule_2sim_dth, axis=1)\n",
    "df['Thiet ke2'] = df.apply(rule_thietke_dth, axis = 1)\n",
    "\n",
    "df['Am thanh an tuong2'] = df.apply(rule_amthanhantuong_dth, axis = 1)\n",
    "df['RAM2'] = df.apply(rule_RAM_dth, axis = 1)\n",
    "df['Bo nho trong2'] = df.apply(rule_bonhotrong_dth, axis = 1)\n",
    "df['Do phan giai2'] = df.apply(rule_bonhotrong_dth, axis = 1)\n",
    "df['Man hinh rong2'] = df.apply(rule_dorongmanhinh_dth, axis = 1)\n",
    "df['Selfie dep2'] = df.apply(rule_selfie_dth, axis = 1)\n",
    "df['He dieu hanh2'] = df.apply(rule_hedieuhanh_dth, axis = 1)\n",
    "df['Toc do CPU2'] = df.apply( rule_tocdoCPU_dth, axis = 1)\n",
    "df['GPS2'] = df.apply(rule_GPS_dth, axis = 1)\n",
    "\n",
    "df2 = df[['Ma san pham','Gia2','Hang san xuat2', 'Thoi gian su dung pin2', '2 SIM2', 'Thiet ke2',\n",
    "          'Am thanh an tuong2', 'RAM2','Bo nho trong2',\n",
    "          'Do phan giai2', 'Man hinh rong2','Selfie dep2' ,'He dieu hanh2','Toc do CPU2','GPS2']]\n",
    "\n",
    "dataframe_42= calculate_sim(df2)"
   ]
  },
  {
   "cell_type": "markdown",
   "metadata": {},
   "source": [
    "# Rule may lanh"
   ]
  },
  {
   "cell_type": "code",
   "execution_count": 50,
   "metadata": {
    "code_folding": [
     6,
     20,
     44,
     70,
     83
    ],
    "jupyter": {
     "outputs_hidden": false
    }
   },
   "outputs": [],
   "source": [
    "\n",
    "#set rule may lanh \n",
    "df = data[data['Category'] == '2002']\n",
    "df = df.dropna(axis = 1, how = 'all')\n",
    "\n",
    "df = df.dropna(axis = 0, how = 'all')\n",
    "def rule_gia_ml(dataframe):\n",
    "    var = int(dataframe['Gia'])\n",
    "    if var < 7000000:\n",
    "        val = 1\n",
    "    elif var < 9000000:\n",
    "        val = 2\n",
    "    elif var < 12000000:\n",
    "        val = 3\n",
    "    elif var < 15000000:\n",
    "        val = 4\n",
    "    else:\n",
    "        val = 5\n",
    "    return val + val*0.2\n",
    "\n",
    "def rule_hang_ml(dataframe):\n",
    "    var = (dataframe['Hang san xuat'])\n",
    "    if var == 'Daikin':\n",
    "        val = 1\n",
    "    elif var == 'Mitsubishi Electric' or var == 'Mitsubishi Electric':\n",
    "        val = 2\n",
    "    elif var == 'Panasonic':\n",
    "        val = 3\n",
    "    elif var =='Electrolux':\n",
    "        val = 4\n",
    "    elif var == 'LG':\n",
    "        val = 5\n",
    "    elif var == 'Sanyo':\n",
    "        val = 6\n",
    "    elif var =='Toshiba':\n",
    "        val = 7\n",
    "    elif var == 'Aqua':\n",
    "        val = 8\n",
    "    elif var =='Sharp':\n",
    "        val = 9        \n",
    "    else:#Samsung\n",
    "        val = 10\n",
    "    return val-val *0.2\n",
    "\n",
    "def rule_congsuat_ml(dataframe):\n",
    "    var = (dataframe['Cong suat lam lanh'])\n",
    "    if '0.75 HP' in var:\n",
    "        val = 1\n",
    "    elif '1 HP' in var:\n",
    "        val = 2\n",
    "    elif '1.5 HP' in var:\n",
    "        val = 3\n",
    "    elif '2 HP' in var:\n",
    "        val = 4\n",
    "    else:# 2.5 HP\n",
    "        val = 5\n",
    "    return val + val*.1\n",
    "\n",
    "def rule_loaimay_ml(dataframe):\n",
    "    var = (dataframe['Loai may.1'])\n",
    "    if '1 chieu' in var:\n",
    "        val = 1\n",
    "    elif '2 chieu' in var:\n",
    "        val = 2\n",
    "    elif 'Inverter' in var:\n",
    "        val = 3  \n",
    "    else:# May thuong\n",
    "        val = 0\n",
    "    return val\n",
    "\n",
    "def rule_phamvi_ml(dataframe):\n",
    "    var = (dataframe['Pham vi lam lanh hieu qua'])\n",
    "    if 'Duoi 15 m2' in var or 'Duoi 45 m3' in var:\n",
    "        val = 1\n",
    "    elif 'Tu 15 - 20 m2' in var:\n",
    "        val = 2\n",
    "    elif 'Tu 20 - 30 m2' in var:\n",
    "        val = 3\n",
    "    elif 'Tu 30 - 40 m2' in var:\n",
    "        val = 4  \n",
    "    else:# Tu 45 - 67.5 m3\n",
    "        val = 5\n",
    "    return val\n",
    "def rule_namsanxuat_ml(dataframe):\n",
    "    var = (dataframe['Nam san xuat'])\n",
    "    if var == 2013:\n",
    "        val = 1\n",
    "    elif var == 2014:\n",
    "        val = 2\n",
    "    elif var == 2015:\n",
    "        val = 3\n",
    "    elif var == 2016:\n",
    "        val = 4\n",
    "    elif var == 2017:\n",
    "        val = 5\n",
    "    elif var == 2018:\n",
    "        val = 6\n",
    "    elif var == 2019:\n",
    "        val = 7\n",
    "    else:\n",
    "        val = 0\n",
    "    return val\n",
    "\n",
    "#set rule may lanh\n",
    "df['Hang san xuat2'] = df.apply(rule_hang_ml, axis = 1)\n",
    "df['Cong suat lam lanh2'] = df.apply(rule_congsuat_ml, axis = 1)\n",
    "df['Pham vi2'] = df.apply(rule_phamvi_ml, axis = 1)\n",
    "df['Gia2'] = df.apply(rule_gia_ml, axis=1)\n",
    "df['Loai may2'] = df.apply(rule_loaimay_ml, axis = 1)\n",
    "df['Nam san xuat2'] = df.apply(rule_namsanxuat_ml, axis = 1)\n",
    "\n",
    "df2 = df[['Ma san pham','Pham vi2', 'Gia2', 'Cong suat lam lanh2', 'Loai may2', 'Hang san xuat2', 'Nam san xuat2']]\n",
    "\n",
    "dataframe_2002= calculate_sim(df2)"
   ]
  },
  {
   "cell_type": "markdown",
   "metadata": {},
   "source": [
    "# Rule laptop"
   ]
  },
  {
   "cell_type": "code",
   "execution_count": 51,
   "metadata": {
    "code_folding": [
     9,
     25,
     35,
     59,
     71,
     81,
     93,
     113,
     129,
     154,
     171,
     193,
     214,
     224,
     245
    ],
    "jupyter": {
     "outputs_hidden": false
    }
   },
   "outputs": [],
   "source": [
    "#set rule laptop\n",
    "\n",
    "df = data[data['Category'] == '44']\n",
    "#drop all those columns like (value, value2, value3) where all rows have same values\n",
    "cols = list(df)\n",
    "nunique = df.apply(pd.Series.nunique)\n",
    "cols_to_drop = nunique[nunique == 1].index\n",
    "df = df.drop(cols_to_drop, axis=1)\n",
    "\n",
    "def rule_gia_lap(dataframe):\n",
    "    var = int(dataframe['Gia'])\n",
    "    if var < 8000000:\n",
    "        val = 1\n",
    "    elif var < 10000000:\n",
    "        val = 2\n",
    "    elif var < 12000000:\n",
    "        val = 3\n",
    "    elif var < 15000000:\n",
    "        val = 4\n",
    "    elif var < 20000000:\n",
    "        val = 5\n",
    "    else:\n",
    "        val = 6 #var > 20tr\n",
    "    return val + val*.2\n",
    "\n",
    "def rule_hang_lap(dataframe):\n",
    "    var = (dataframe['Hang san xuat'])\n",
    "    if 'Apple' in var:\n",
    "        val = 2\n",
    "    elif var in ['HP',  'Asus', 'Dell', 'Acer', 'Lenovo', 'Samsung']:\n",
    "        val = 1\n",
    "    else:#Samsung\n",
    "        val = 0\n",
    "    return val + val*0.3\n",
    "\n",
    "def rule_trongluong_lap(dataframe):\n",
    "    var = (dataframe['Trong luong (kg)'])#.1\n",
    "    var = re.findall(r\"\\d+\\.?\\d*\", str(var))\n",
    "    if len(var)>0:\n",
    "        var = float(var[0])\n",
    "    else:\n",
    "        var = np.nan\n",
    "    \n",
    "    if var <= 1:\n",
    "        val = 1\n",
    "    elif var <= 1.25:\n",
    "        val = 2\n",
    "    elif var <= 1.5:\n",
    "        val = 3\n",
    "    elif var <= 2:\n",
    "        val = 4\n",
    "    elif var <= 2.5:\n",
    "        val = 5\n",
    "    elif var <=3:\n",
    "        val = 6 \n",
    "    else:# chua cap nhat\n",
    "        val = 0\n",
    "    return val\n",
    "\n",
    "def rule_nhcSudung_lap(dataframe):\n",
    "    var = (dataframe['Nhu cau su dung'])#duplicate columns\n",
    "    if 'Hoc tap' in var or 'Van phong' in var:\n",
    "        val = 1\n",
    "    elif 'Do hoa' in var:\n",
    "        val = 2\n",
    "    elif 'Doanh nhan' in var:\n",
    "        val = 3\n",
    "    else:# Chua xac dinh\n",
    "        val = 1\n",
    "    return val\n",
    "\n",
    "def rule_carddohoa_lap(dataframe):\n",
    "    var = (dataframe['Card do hoa roi'])\n",
    "    if 'Khong' in var:\n",
    "        val = 1\n",
    "    elif 'Co' in var:\n",
    "        val = 2    \n",
    "    else:# khong camera\n",
    "        val = 1\n",
    "    return val\n",
    "\n",
    "def rule_chatlieuvo_lap(dataframe):\n",
    "    var = (dataframe['Chat lieu vo.1'])#\n",
    "    if 'Vo nhua' in var:\n",
    "        val = 1\n",
    "    elif 'Nhua va Kim loai' in var:\n",
    "        val = 2\n",
    "    elif 'Vo kim loai' in var:\n",
    "        val = 3 \n",
    "    else:# \n",
    "        val = 0\n",
    "    return val\n",
    "\n",
    "def rule_kichthuocmanhinh_lap(dataframe):\n",
    "    var = (dataframe['Kich thuoc man hinh'])#.1\n",
    "    var = re.findall(r\"\\d+\\.?\\d*\", str(var))\n",
    "    if len(var)>0:\n",
    "        var = float(var[0])\n",
    "    else:\n",
    "        var = np.nan\n",
    "    if var < 9:\n",
    "        val = 0\n",
    "    elif var <=12:\n",
    "        val = 1\n",
    "    elif var <=14:\n",
    "        val = 2\n",
    "    elif var <= 16:\n",
    "        val = 3\n",
    "    else: \n",
    "        val =0\n",
    "    return val + val*0.1\n",
    "\n",
    "#[u'eMMC', u'HDD', u'HDD + SSD', u'SSHD', u'SSD']\n",
    "def rule_loaiodia_lap(dataframe):\n",
    "    var = (dataframe['Loai o dia'])\n",
    "    if 'HDD' in var:\n",
    "        val = 1\n",
    "    elif 'HDD + SSD' in var or 'SSHD' in var:\n",
    "        val = 2\n",
    "    elif 'eMMC' in var:\n",
    "        val = 3\n",
    "    elif 'SSD' in var:\n",
    "        val = 4\n",
    "    else: \n",
    "        val = 1\n",
    "    return val\n",
    "\n",
    "def rule_RAM_lap(dataframe):\n",
    "    var = (dataframe['RAM.1'])#.1\n",
    "\n",
    "    var = re.findall(r\"\\d+\\.?\\d*\", str(var))\n",
    "    if len(var)>0:\n",
    "        var = float(var[0])\n",
    "    else:\n",
    "        var = np.nan\n",
    "    if var == 2:\n",
    "        val = 1\n",
    "    elif var == 4:\n",
    "        val = 2\n",
    "    elif var == 8:\n",
    "        val = 3    \n",
    "    elif var == 16:\n",
    "        val = 4\n",
    "    else:\n",
    "        val = 0\n",
    "    return val\n",
    "\n",
    "\n",
    "def rule_dophangiai_lap(dataframe):\n",
    "    var = (dataframe['Do phan giai (W x H)'])\n",
    "    if 'HD' in var:\n",
    "        val = 1\n",
    "    elif 'WXGA' in var:\n",
    "        val = 2\n",
    "    elif 'FHD' in var:\n",
    "        val = 3\n",
    "    elif 'QHD' in var:\n",
    "        val = 4\n",
    "    elif 'Retina' in var:\n",
    "        val = 5\n",
    "    else: \n",
    "        val = 1\n",
    "    return val\n",
    "    \n",
    "#[u'Atom', u'Celeron', u'Pentium', u'Core i3', u'Core i5', u'Core i7', u'Core M']\n",
    "def rule_loaiCPU_lap(dataframe):\n",
    "    var = (dataframe['CPU'])#.1\n",
    "    if 'Atom' in var:\n",
    "        val = 1\n",
    "    elif 'Celeron' in var:\n",
    "        val = 2\n",
    "    elif 'Pentium' in var:\n",
    "        val = 3    \n",
    "    elif 'Core i3' in var:\n",
    "        val = 4\n",
    "    elif 'Core i5' in var:\n",
    "        val = 5\n",
    "    elif 'Core i7' in var:\n",
    "        val = 6\n",
    "    elif 'Core M' in var:\n",
    "        val = 7   \n",
    "    else:\n",
    "        val = 0\n",
    "    return val\n",
    "\n",
    "def rule_todoCPU_lap(dataframe):\n",
    "    var = (dataframe['Toc do CPU.1'])#.1\n",
    "    var = re.findall(r\"\\d+\\.?\\d*\", str(var))\n",
    "    if len(var)>0:\n",
    "        var = float(var[0])\n",
    "    else:\n",
    "        var = np.nan\n",
    "    if var <= 1.2:\n",
    "        val = 1\n",
    "    elif var <= 1.6:\n",
    "        val = 2\n",
    "    elif var <= 2.2:\n",
    "        val = 3    \n",
    "    elif var <= 2.7:\n",
    "        val = 4\n",
    "    elif var <= 3.4:\n",
    "        val = 5    \n",
    "    else:\n",
    "        val = 0# Chua xac dinh\n",
    "    return val\n",
    "\n",
    "def rule_camung_lap(dataframe):\n",
    "    var = (dataframe['Man hinh cam ung'])\n",
    "    if 'Khong' in var:\n",
    "        val = 1\n",
    "    elif 'Co' in var:\n",
    "        val = 2\n",
    "    else:\n",
    "        val = 1# Chua xac dinh\n",
    "    return val\n",
    "\n",
    "def rule_thoigianPIN_lap(dataframe):\n",
    "    var = (dataframe['Thoi gian su dung'])\n",
    "    var = re.findall(r\"\\d+\\.?\\d*\", str(var))\n",
    "    if len(var)>0:\n",
    "        var = float(var[0])\n",
    "    else:\n",
    "        var = np.nan\n",
    "    if var <= 2:\n",
    "        val = 1\n",
    "    elif var <=3:\n",
    "        val = 2\n",
    "    elif var <=4:\n",
    "        val = 3\n",
    "    else:\n",
    "        val = 1\n",
    "    return val\n",
    "\n",
    "def rule_loaiRAM_lap(dataframe):\n",
    "    var = (dataframe['Loai RAM'])\n",
    "    if 'DDR3' in var:\n",
    "        val = 1\n",
    "    elif 'DDR4' in var:\n",
    "        val = 2   \n",
    "    else:\n",
    "        val = 1\n",
    "    return val\n",
    "\n",
    "df['Gia2'] = df.apply(rule_gia_lap, axis = 1)\n",
    "df['Hang san xuat2'] = df.apply(rule_hang_lap, axis = 1)\n",
    "df['Trong luong2'] = df.apply(rule_trongluong_lap, axis = 1)\n",
    "df['Nhu cau su dung2'] = df.apply(rule_nhcSudung_lap, axis=1)\n",
    "df['Card do ho roi2'] = df.apply(rule_carddohoa_lap, axis = 1)\n",
    "\n",
    "df['Chat lieu vo2'] = df.apply(rule_chatlieuvo_lap, axis = 1)\n",
    "df['Kich thuoc man hinh2'] = df.apply(rule_kichthuocmanhinh_lap, axis = 1)\n",
    "df['Loai o dia2'] = df.apply(rule_loaiodia_lap, axis = 1)\n",
    "df['RAM2'] = df.apply(rule_RAM_lap, axis = 1)\n",
    "df['Do phan giai2'] = df.apply(rule_dophangiai_lap, axis = 1)\n",
    "df['Loai CPU2'] = df.apply(rule_loaiCPU_lap, axis = 1)\n",
    "df['Toc do CPU2'] = df.apply(rule_todoCPU_lap, axis = 1)\n",
    "df['Cam ung2'] = df.apply( rule_camung_lap, axis = 1)\n",
    "df['Thoi gian PIN2'] = df.apply(rule_thoigianPIN_lap, axis = 1)\n",
    "df['Loai RAM2'] = df.apply(rule_loaiRAM_lap, axis = 1)\n",
    "\n",
    "df2 = df[['Ma san pham','Gia2','Hang san xuat2', 'Trong luong2', 'Nhu cau su dung2', 'Card do ho roi2',\n",
    "          'Chat lieu vo2', 'Kich thuoc man hinh2','Loai o dia2',\n",
    "          'RAM2', 'Do phan giai2','Loai CPU2' ,'Toc do CPU2','Cam ung2','Thoi gian PIN2', 'Loai RAM2']]\n",
    "\n",
    "dataframe_44= calculate_sim(df2)"
   ]
  },
  {
   "cell_type": "code",
   "execution_count": 52,
   "metadata": {
    "collapsed": true,
    "jupyter": {
     "outputs_hidden": true
    }
   },
   "outputs": [],
   "source": [
    "# concat two dataframe ()\n",
    "# db_test = pd.concat([df2, db_test], axis= 1)"
   ]
  },
  {
   "cell_type": "markdown",
   "metadata": {},
   "source": [
    "# Rule Tivi"
   ]
  },
  {
   "cell_type": "code",
   "execution_count": 53,
   "metadata": {
    "code_folding": [
     9,
     33,
     43,
     68,
     80,
     102
    ],
    "jupyter": {
     "outputs_hidden": false
    }
   },
   "outputs": [],
   "source": [
    "#### set rule Tivi\n",
    "\n",
    "df = data[data['Category'] == '1942']\n",
    "#drop all those columns like (value, value2, value3) where all rows have same values\n",
    "cols = list(df)\n",
    "nunique = df.apply(pd.Series.nunique)\n",
    "cols_to_drop = nunique[nunique == 1].index\n",
    "df = df.drop(cols_to_drop, axis=1)\n",
    "\n",
    "def rule_gia_tv(dataframe):\n",
    "    var = float(dataframe['Gia'])\n",
    "    if var < 5000000:\n",
    "        val = 1\n",
    "    elif var < 7000000:\n",
    "        val = 2\n",
    "    elif var < 10000000:\n",
    "        val = 3\n",
    "    elif var < 15000000:\n",
    "        val = 4\n",
    "    elif var < 20000000:\n",
    "        val = 5\n",
    "    elif var < 50000000:\n",
    "        val = 6\n",
    "    elif var < 100000000:\n",
    "        val = 7    \n",
    "    elif var < 200000000:\n",
    "        val = 8\n",
    "    else:\n",
    "        val = 0 #var > 20tr\n",
    "    return val + val*.2\n",
    "\n",
    "# [u'Asanzo', u'Darling', u'LG', u'Panasonic', u'Samsung', u'Sharp',\n",
    "#        u'Skyworth', u'Sony', u'TCL', u'Toshiba']\n",
    "def rule_hang_tv(dataframe):\n",
    "    var = (dataframe['Hang san xuat'])\n",
    "    if var in ['Asanzo', 'Darling', 'Skyworth', 'TCL']:\n",
    "        val = 1\n",
    "    elif var in ['LG', 'Panasonic', 'Samsung', 'Sharp', 'Sony', 'Toshiba']:\n",
    "        val = 2\n",
    "    else:#Samsung\n",
    "        val = 1\n",
    "    return val + val*0.1\n",
    "\n",
    "def rule_congsuatloa_tv(dataframe):\n",
    "    var = (dataframe['Tong cong suat loa'])\n",
    "    var = re.findall(r\"\\d+\\.?\\d*\", str(var))\n",
    "    if len(var)>0:\n",
    "        var = float(var[0])\n",
    "    else:\n",
    "        var = np.nan\n",
    "    \n",
    "    if var <= 12:\n",
    "        val = 1\n",
    "    elif var <= 20:\n",
    "        val = 2\n",
    "    elif var <= 30:\n",
    "        val = 3\n",
    "    elif var <= 40:\n",
    "        val = 4\n",
    "    elif var <= 60:\n",
    "        val = 5\n",
    "    elif var <= 80:\n",
    "        val = 6 \n",
    "    else:# chua cap nhat\n",
    "        val = 0\n",
    "    return val\n",
    "\n",
    "# [u'Full HD', u'HD', u'Ultra HD 4K']\n",
    "def rule_dophangian_tv(dataframe):\n",
    "    var = (dataframe['Do phan giai.4'])#duplicate columns\n",
    "    if 'HD' in var:\n",
    "        val = 1\n",
    "    elif 'Full HD' in var:\n",
    "        val = 2\n",
    "    elif 'Ultra HD 4K' in var:\n",
    "        val = 3\n",
    "    else:# Chua xac dinh\n",
    "        val = 0\n",
    "    return val\n",
    "\n",
    "def rule_namsanxuat_tv(dataframe):\n",
    "    var = (dataframe['Nam san xuat.4'])\n",
    "    if '2015' in var:\n",
    "        val = 1\n",
    "    elif '2016' in var:\n",
    "        val = 2    \n",
    "    elif '2017' in var:\n",
    "        val = 3 \n",
    "    elif '2018' in var:\n",
    "        val = 4     \n",
    "    else:# khong camera\n",
    "        val = 0\n",
    "    return val\n",
    "\n",
    "def rule_loaitivi_tv(dataframe):\n",
    "    var = (dataframe['Loai Tivi.1'])\n",
    "    if var in ['Tivi LED thuong']:\n",
    "        val = 1\n",
    "    elif var in [u'Smart Tivi', u'Internet Tivi',u'Android Tivi']:\n",
    "        val = 2\n",
    "    elif var in ['Smart Tivi Cong HDR', 'Android Tivi cong', 'Smart Tivi OLED Cong']:\n",
    "        val = 3\n",
    "    elif var in ['Smart Tivi Cong 3D', 'Smart Tivi 3D']:\n",
    "        val = 4 \n",
    "    else:# \n",
    "        val = 0\n",
    "    return val - val*0.2\n",
    "\n",
    "# =============================================================================\n",
    "df['Gia2'] = df.apply(rule_gia_tv, axis = 1)\n",
    "df['Hang san xuat2'] = df.apply(rule_hang_tv, axis = 1)\n",
    "df['Cong suat loa2'] = df.apply(rule_congsuatloa_tv, axis = 1)\n",
    "df['Do phan giai2'] = df.apply(rule_dophangian_tv, axis=1)\n",
    "df['Nam san xuat2'] = df.apply(rule_namsanxuat_tv, axis = 1)\n",
    "\n",
    "df['Loai tivi2'] = df.apply(rule_loaitivi_tv, axis = 1)\n",
    "\n",
    "df2 = df[['Ma san pham','Gia2','Hang san xuat2', 'Cong suat loa2', 'Do phan giai2', 'Nam san xuat2',\n",
    "          'Loai tivi2']]\n",
    "\n",
    "dataframe_1942= calculate_sim(df2)"
   ]
  },
  {
   "cell_type": "markdown",
   "metadata": {},
   "source": [
    "# Rule tủ lạnh"
   ]
  },
  {
   "cell_type": "code",
   "execution_count": 54,
   "metadata": {
    "code_folding": [
     11,
     39,
     51,
     83,
     95,
     110,
     132
    ],
    "jupyter": {
     "outputs_hidden": false
    }
   },
   "outputs": [],
   "source": [
    "#### set rule Tủ lạnh\n",
    "df = data[data['Category'] == '1943']\n",
    "#drop all those columns like (value, value2, value3) where all rows have same values\n",
    "cols = list(df)\n",
    "nunique = df.apply(pd.Series.nunique)\n",
    "cols_to_drop = nunique[nunique == 1].index\n",
    "df = df.drop(cols_to_drop, axis=1)\n",
    "\n",
    "# df['Gia'].apply(lambda x: int(x)).sort_values(inplace = False, ascending = True).unique()\n",
    "# df['Dung tich tren tem nang luong'].unique()\n",
    "\n",
    "def rule_gia_tl(dataframe):\n",
    "    var = float(dataframe['Gia'])\n",
    "    if var < 5000000:\n",
    "        val = 1\n",
    "    elif var < 7000000:\n",
    "        val = 2\n",
    "    \n",
    "    elif var < 10000000:\n",
    "        val = 3\n",
    "    elif var < 15000000:\n",
    "        val = 4\n",
    "    elif var < 20000000:\n",
    "        val = 5\n",
    "    elif var < 30000000:\n",
    "        val = 6\n",
    "    elif var < 40000000:\n",
    "        val = 7    \n",
    "    elif var < 60000000:\n",
    "        val = 8\n",
    "    elif var < 100000000:\n",
    "        val = 9\n",
    "    else:\n",
    "        val = 0 #var > 20tr\n",
    "    return val + val*.2\n",
    "\n",
    "def rule_hang_tl(dataframe):\n",
    "    var = (dataframe['Hang san xuat'])\n",
    "    if var in ['Darling', 'Midea', 'Beko']:\n",
    "        val = 1\n",
    "    elif var in ['Aqua' , 'Panasonic', 'Sharp', 'LG',\n",
    "        'Mitsubishi Electric', 'Sanyo', 'Toshiba', 'Samsung',\n",
    "        'Electrolux', 'Hitachi']:\n",
    "        val = 2\n",
    "    else:#Samsung\n",
    "        val = 1\n",
    "    return val \n",
    "\n",
    "def rule_dungtichtong_tl(dataframe):\n",
    "    var = (dataframe['Dung tich tren tem nang luong'])\n",
    "\n",
    "    var = re.findall(r\"\\d+\\.?\\d*\", str(var))\n",
    "    if len(var)>0:\n",
    "        var = float(var[0])\n",
    "    else:\n",
    "        var = np.nan\n",
    "    \n",
    "    if var <= 100:\n",
    "        val = 1\n",
    "    elif var <= 150:\n",
    "        val = 2\n",
    "    elif var <= 200:\n",
    "        val = 3\n",
    "    elif var <= 250:\n",
    "        val = 4\n",
    "    elif var <= 300:\n",
    "        val = 5\n",
    "    elif var <= 400:\n",
    "        val = 6 \n",
    "    elif var <= 500:\n",
    "        val = 7 \n",
    "    elif var <= 600:\n",
    "        val = 8\n",
    "    elif var >600:\n",
    "        val = 9\n",
    "    else:# chua cap nhat\n",
    "        val = 0\n",
    "    return val + val*0.1\n",
    "\n",
    "# [u'Full HD', u'HD', u'Ultra HD 4K']\n",
    "def rule_inverter_tl(dataframe):\n",
    "    var = (dataframe['Cong nghe Inverter.1'])#duplicate columns\n",
    "    if 'Tu lanh thuong' in var:\n",
    "        val = 1\n",
    "    elif 'Tu lanh Inverter' in var:\n",
    "        val = 2\n",
    "    else:# Chua xac dinh\n",
    "        val = 1\n",
    "    return val\n",
    "\n",
    "def rule_kieutu_tl(dataframe):\n",
    "    var = (dataframe['Kieu tu'])\n",
    "    if 'Mini' in var:\n",
    "        val = 1\n",
    "    elif 'Ngan da tren' in var:\n",
    "        val = 2    \n",
    "    elif 'Ngan da duoi' in var:\n",
    "        val = 3 \n",
    "    elif 'Door in door' in var or 'Side by side' in var:\n",
    "        val = 4     \n",
    "    else:# khong camera\n",
    "        val = 0\n",
    "    return val\n",
    "\n",
    "def rule_namsanxuat_tl(dataframe):\n",
    "    var = (dataframe['Nam san xuat.3'])\n",
    "    if '2013' in var:\n",
    "        val = 1\n",
    "    elif '2014' in var:\n",
    "        val = 2    \n",
    "    elif '2015' in var:\n",
    "        val = 3 \n",
    "    elif '2016' in var:\n",
    "        val = 4     \n",
    "    elif '2017' in var:\n",
    "        val = 5 \n",
    "    elif '2018' in var:\n",
    "        val = 6\n",
    "    elif '2019' in var:\n",
    "        val = 7 \n",
    "    elif '2020' in var:\n",
    "        val = 8    \n",
    "    else:# khong camera\n",
    "        val = 0\n",
    "    return val\n",
    "\n",
    "def rule_socua_tl(dataframe):\n",
    "    var = (dataframe['So cua'])\n",
    "    var = re.findall(r\"\\d+\\.?\\d*\", str(var))\n",
    "    if len(var)>0:\n",
    "        var = float(var[0])\n",
    "    else:\n",
    "        var = np.nan\n",
    "    \n",
    "    if var <= 1:\n",
    "        val = 1\n",
    "    elif var <= 2:\n",
    "        val = 2\n",
    "    elif var <= 3:\n",
    "        val = 3\n",
    "    elif var <= 4:\n",
    "        val = 4\n",
    "    elif var <= 5:\n",
    "        val = 5\n",
    "    elif var <= 6:\n",
    "        val = 6 \n",
    "    else:# chua cap nhat\n",
    "        val = 0\n",
    "    return val - val*0.1\n",
    "\n",
    "# =============================================================================\n",
    "df['Gia2'] = df.apply(rule_gia_tl, axis = 1)\n",
    "df['Hang san xuat2'] = df.apply(rule_hang_tl, axis = 1)\n",
    "df['Dung tich tong2'] = df.apply(rule_dungtichtong_tl, axis = 1)\n",
    "df['Inverter2'] = df.apply(rule_inverter_tl, axis=1)\n",
    "df['Nam san xuat2'] = df.apply(rule_namsanxuat_tl, axis = 1)\n",
    "df['Kieu tu2'] = df.apply(rule_kieutu_tl, axis = 1)\n",
    "df['So cua2'] = df.apply(rule_socua_tl, axis = 1)\n",
    "# rule_kieutu_tl\n",
    "\n",
    "df2 = df[['Ma san pham','Gia2','Hang san xuat2', 'Dung tich tong2', 'Inverter2',\n",
    "          'Nam san xuat2', 'So cua2']]\n",
    "\n",
    "dataframe_1943= calculate_sim(df2)"
   ]
  },
  {
   "cell_type": "markdown",
   "metadata": {},
   "source": [
    "# Rule máy giặt"
   ]
  },
  {
   "cell_type": "code",
   "execution_count": 55,
   "metadata": {
    "code_folding": [
     11,
     37,
     49,
     82,
     94,
     106,
     128,
     140
    ],
    "collapsed": true,
    "jupyter": {
     "outputs_hidden": true
    }
   },
   "outputs": [],
   "source": [
    "# set rule Máy giặt\n",
    "df = data[data['Category'] == '1944']\n",
    "#drop all those columns like (value, value2, value3) where all rows have same values\n",
    "cols = list(df)\n",
    "nunique = df.apply(pd.Series.nunique)\n",
    "cols_to_drop = nunique[nunique == 1].index\n",
    "df = df.drop(cols_to_drop, axis=1)\n",
    "\n",
    "# df['Gia'].apply(lambda x: int(x)).sort_values(inplace = False, ascending = True).unique()\n",
    "# df['Cong nghe giat.1'].unique()\n",
    "\n",
    "def rule_gia_mg(dataframe):\n",
    "    var = float(dataframe['Gia'])\n",
    "    if var < 4000000:\n",
    "        val = 1\n",
    "    elif var < 5000000:\n",
    "        val = 2\n",
    "    elif var < 70000000:\n",
    "        val = 3\n",
    "    elif var < 9000000:\n",
    "        val = 4\n",
    "    elif var < 120000000:\n",
    "        val = 5\n",
    "    elif var < 15000000:\n",
    "        val = 6\n",
    "    elif var < 20000000:\n",
    "        val = 7    \n",
    "    elif var < 30000000:\n",
    "        val = 8\n",
    "    elif var < 500000000:\n",
    "        val = 9\n",
    "    else:\n",
    "        val = 0 #var > 20tr\n",
    "    return val + val*.2\n",
    "\n",
    "def rule_hang_mg(dataframe):\n",
    "    var = (dataframe['Hang san xuat'])\n",
    "    if var in ['Midea', 'Beko']:\n",
    "        val = 1\n",
    "    elif var in ['Aqua' , 'Panasonic', 'Sharp', 'LG',\n",
    "          'Toshiba', 'Samsung',\n",
    "        'Electrolux', 'Hitachi']:\n",
    "        val = 2\n",
    "    else:#Samsung\n",
    "        val = 1\n",
    "    return val \n",
    "\n",
    "def rule_khoiluonggiat_mg(dataframe):\n",
    "    var = (dataframe['Khoi luong giat.2'])\n",
    "    var = re.findall(r\"\\d+\\.?\\d*\", str(var))\n",
    "    if len(var)>0:\n",
    "        var = float(var[0])\n",
    "    else:\n",
    "        var = np.nan\n",
    "    \n",
    "    if var <= 6:\n",
    "        val = 1\n",
    "    elif var <= 7:\n",
    "        val = 2\n",
    "    elif var <= 8:\n",
    "        val = 3\n",
    "    elif var <= 9:\n",
    "        val = 4\n",
    "    elif var <= 10:\n",
    "        val = 5\n",
    "    elif var <= 11:\n",
    "        val = 6 \n",
    "    elif var <= 13:\n",
    "        val = 7 \n",
    "    elif var <= 15:\n",
    "        val = 8\n",
    "    elif var >15:\n",
    "        val = 9\n",
    "    else:# chua cap nhat\n",
    "        val = 0\n",
    "    return val + val*0.1\n",
    "\n",
    "def rule_loaimaygiat_mg(dataframe):\n",
    "    var = (dataframe['Loai may giat'])\n",
    "    if 'Cua tren' in var:\n",
    "        val = 1\n",
    "    elif 'May giat say cua truoc' in var:\n",
    "        val = 3    \n",
    "    elif 'Cua truoc' in var:\n",
    "        val = 2   \n",
    "    else:# khong camera\n",
    "        val = 0\n",
    "    return val\n",
    "\n",
    "def rule_longgiat_mg(dataframe):\n",
    "    var = (dataframe['Long giat'])\n",
    "    if 'Long dung' in var:\n",
    "        val = 1\n",
    "    elif 'Long nghieng' in var:\n",
    "        val = 2    \n",
    "    elif 'Long ngang' in var:\n",
    "        val = 3   \n",
    "    else:# khong camera\n",
    "        val = 0\n",
    "    return val\n",
    "# \n",
    "def rule_namsanxuat_mg(dataframe):\n",
    "    var = (dataframe['Nam san xuat.2'])\n",
    "    if '2013' in var:\n",
    "        val = 1\n",
    "    elif '2014' in var:\n",
    "        val = 2    \n",
    "    elif '2015' in var:\n",
    "        val = 3 \n",
    "    elif '2016' in var:\n",
    "        val = 4     \n",
    "    elif '2017' in var:\n",
    "        val = 5 \n",
    "    elif '2018' in var:\n",
    "        val = 6\n",
    "    elif '2019' in var:\n",
    "        val = 7 \n",
    "    elif '2020' in var:\n",
    "        val = 8    \n",
    "    else:# khong camera\n",
    "        val = 0\n",
    "    return val\n",
    "\n",
    "def rule_inverter_mg(dataframe):\n",
    "    var = (dataframe['Inverter'])\n",
    "    \n",
    "    if 'Khong' in var:\n",
    "        val = 1\n",
    "    elif 'Co' in var:\n",
    "        val = 2\n",
    "    else:# chua cap nhat\n",
    "        val = 0\n",
    "    return val - val*0.1\n",
    "\n",
    "# [u'Giat co dac bang bot khi', u'Long giat kim cuong the he 2']\n",
    "def rule_congnghegiat_mg(dataframe):\n",
    "    var = (dataframe['Cong nghe giat.1'])\n",
    "    \n",
    "    if 'Giat co dac bang bot khi' in var:\n",
    "        val = 1\n",
    "    elif 'Long giat kim cuong the he 2' in var:\n",
    "        val = 2\n",
    "    else:# chua cap nhat\n",
    "        val = 0\n",
    "    return val - val*0.1\n",
    "\n",
    "# =============================================================================\n",
    "df['Gia2'] = df.apply(rule_gia_mg, axis = 1)\n",
    "df['Hang san xuat2'] = df.apply(rule_hang_mg, axis = 1)\n",
    "df['Khoi luong giat2'] = df.apply(rule_khoiluonggiat_mg, axis = 1)\n",
    "df['Inverter2'] = df.apply(rule_inverter_mg, axis=1)\n",
    "df['Nam san xuat2'] = df.apply(rule_namsanxuat_mg, axis = 1)\n",
    "df['Loai may giat2'] = df.apply(rule_loaimaygiat_mg, axis = 1)\n",
    "df['Long giat2'] = df.apply(rule_longgiat_mg, axis = 1)\n",
    "df['Cong nghe giat2'] = df.apply(rule_congnghegiat_mg, axis = 1)\n",
    "# rule_kieutu_tl\n",
    "\n",
    "df2 = df[['Ma san pham','Gia2','Hang san xuat2', 'Khoi luong giat2', 'Inverter2', 'Nam san xuat2',\n",
    "          'Loai may giat2', 'Long giat2', 'Cong nghe giat2']]\n",
    "dataframe_1944= calculate_sim(df2)"
   ]
  },
  {
   "cell_type": "markdown",
   "metadata": {},
   "source": [
    "# Rule Máy nước nóng"
   ]
  },
  {
   "cell_type": "code",
   "execution_count": 56,
   "metadata": {
    "code_folding": [
     11,
     31,
     53,
     75,
     94,
     104,
     114,
     125
    ],
    "jupyter": {
     "outputs_hidden": false
    }
   },
   "outputs": [],
   "source": [
    "#### set rule Máy nước nóng\n",
    "df = data[data['Category'] == '1962']\n",
    "#drop all those columns like (value, value2, value3) where all rows have same values\n",
    "cols = list(df)\n",
    "nunique = df.apply(pd.Series.nunique)\n",
    "cols_to_drop = nunique[nunique == 1].index\n",
    "df = df.drop(cols_to_drop, axis=1)\n",
    "\n",
    "# df['Gia'].apply(lambda x: int(x)).sort_values(inplace = False, ascending = True).unique()\n",
    "# df['Chong khuan voi v'].unique()\n",
    "\n",
    "def rule_gia_mnn(dataframe):\n",
    "    var = float(dataframe['Gia'])\n",
    "    if var < 2000000:\n",
    "        val = 1\n",
    "    elif var < 2500000:\n",
    "        val = 2\n",
    "    elif var < 3000000:\n",
    "        val = 3\n",
    "    elif var < 4000000:\n",
    "        val = 4\n",
    "    elif var < 5000000:\n",
    "        val = 5\n",
    "    elif var <= 6000000:\n",
    "        val = 6\n",
    "    else:\n",
    "        val = 0 #var > 20tr\n",
    "    return val + val*.2\n",
    "\n",
    "# [u'Ferroli', u'Electrolux', u'Ariston', u'Panasonic', u'Centon',\n",
    "#        u'Atlantic', u'Hitachi']\n",
    "def rule_hang_mnn(dataframe):\n",
    "    var = (dataframe['Hang san xuat'])\n",
    "    if 'Ferroli' in var:\n",
    "        val = 1\n",
    "    elif 'Electrolux' in var:\n",
    "        val = 2\n",
    "    elif 'Ariston' in var:\n",
    "        val = 3\n",
    "    elif 'Panasonic' in var:\n",
    "        val = 4\n",
    "    elif 'Centon' in var:\n",
    "        val = 5\n",
    "    elif 'Atlantic' in var:\n",
    "        val = 6 \n",
    "    elif 'Hitachi' in var:\n",
    "        val = 7\n",
    "    else:#Samsung\n",
    "        val = 0\n",
    "    return val \n",
    "\n",
    "# [u'4500 W', u'2500 W', u'3500 W', u'6000 W', u'1500 W + 1500 W',\n",
    "#        u'nan', u'4400 W']\n",
    "def rule_congsuatlamnong_mnn(dataframe):\n",
    "    var = (dataframe['Cong suat lam nong'])\n",
    "    var = re.findall(r\"\\d+\\.?\\d*\", str(var))\n",
    "    if len(var)>0:\n",
    "        var = float(var[0])\n",
    "    else:\n",
    "        var = np.nan\n",
    "    \n",
    "    if var <= 1500:\n",
    "        val = 1\n",
    "    elif var <= 2500:\n",
    "        val = 2\n",
    "    elif var <= 3500:\n",
    "        val = 3\n",
    "    elif var <= 4500:\n",
    "        val = 4\n",
    "    elif var <= 6000:\n",
    "        val = 5\n",
    "    else:# chua cap nhat\n",
    "        val = 0\n",
    "    return val + val*0.1\n",
    "\n",
    "def rule_dungtich_mnn(dataframe):\n",
    "    var = (dataframe['Dung tich binh chua'])\n",
    "    var = re.findall(r\"\\d+\\.?\\d*\", str(var))\n",
    "    if len(var)>0:\n",
    "        var = float(var[0])\n",
    "    else:\n",
    "        var = np.nan\n",
    "    \n",
    "    if var <= 15:\n",
    "        val = 1\n",
    "    elif var <= 20:\n",
    "        val = 2\n",
    "    elif var <= 30:\n",
    "        val = 3\n",
    "    else:# chua cap nhat\n",
    "        val = 0\n",
    "    return val\n",
    "\n",
    "# [u'Lam nong truc tiep', u'Lam nong gian tiep']\n",
    "def rule_loaimay_mnn(dataframe):\n",
    "    var = (dataframe['Loai may.2'])\n",
    "    if 'truc tiep' in var:\n",
    "        val = 1\n",
    "    elif 'gian tiep' in var:\n",
    "        val = 2      \n",
    "    else:# khong camera\n",
    "        val = 0\n",
    "    return val\n",
    "\n",
    "def rule_chongkhuan_mnn(dataframe):\n",
    "    var = (dataframe['Chong khuan voi sen'])\n",
    "    if 'Khong' in var:\n",
    "        val = 1\n",
    "    elif 'Co' in var:\n",
    "        val = 2      \n",
    "    else:# khong camera\n",
    "        val = 1\n",
    "    return val\n",
    "\n",
    "def rule_bomtroluc_mnn(dataframe):\n",
    "    var = (dataframe['Bom tro luc'])\n",
    "    if 'Khong' in var:\n",
    "        val = 1\n",
    "    elif 'Co' in var:\n",
    "        val = 2      \n",
    "    else:# khong camera\n",
    "        val = 1\n",
    "    return val\n",
    "# \n",
    "# [u'Co', u'Khong', u'Bo on nhiet', u'nan']\n",
    "def rule_cambiennhiet_mnn(dataframe):\n",
    "    var = (dataframe['Cam bien nhiet']) \n",
    "    if var in ['Co', 'Bo on nhiet']:\n",
    "        val = 2\n",
    "    elif 'Khong' in var:\n",
    "        val = 1\n",
    "    else:# chua cap nhat\n",
    "        val = 1\n",
    "    return val - val*0.1\n",
    "\n",
    "# =============================================================================\n",
    "df['Gia2'] = df.apply(rule_gia_mnn, axis = 1)\n",
    "df['Hang san xuat2'] = df.apply(rule_hang_mnn, axis = 1)\n",
    "df['Cong suat lam nong2'] = df.apply(rule_congsuatlamnong_mnn, axis = 1)\n",
    "df['Dung tich binh2'] = df.apply(rule_dungtich_mnn, axis=1)\n",
    "df['Loai may2'] = df.apply(rule_loaimay_mnn, axis = 1)\n",
    "df['Chong khuan2'] = df.apply(rule_chongkhuan_mnn, axis = 1)\n",
    "df['Bom tro luc2'] = df.apply(rule_bomtroluc_mnn, axis = 1)\n",
    "df['Cam bien nhiet2'] = df.apply(rule_cambiennhiet_mnn, axis = 1)\n",
    "# rule_kieutu_tl\n",
    "\n",
    "df2 = df[['Ma san pham','Gia2','Hang san xuat2', 'Cong suat lam nong2', 'Dung tich binh2', 'Chong khuan2',\n",
    "          'Loai may2', 'Bom tro luc2', 'Bom tro luc2']]\n",
    "dataframe_1962= calculate_sim(df2)"
   ]
  },
  {
   "cell_type": "markdown",
   "metadata": {},
   "source": [
    "# Rule Quạt máy"
   ]
  },
  {
   "cell_type": "code",
   "execution_count": 57,
   "metadata": {
    "code_folding": [
     11,
     35,
     74,
     98
    ],
    "jupyter": {
     "outputs_hidden": false
    }
   },
   "outputs": [],
   "source": [
    "#### set rule Quạt máy\n",
    "df = data[data['Category'] == '1992']\n",
    "#drop all those columns like (value, value2, value3) where all rows have same values\n",
    "cols = list(df)\n",
    "nunique = df.apply(pd.Series.nunique)\n",
    "cols_to_drop = nunique[nunique == 1].index\n",
    "df = df.drop(cols_to_drop, axis=1)\n",
    "\n",
    "# df['Gia'].apply(lambda x: int(x)).sort_values(inplace = False, ascending = True).unique()\n",
    "# df['Chong khuan voi v'].unique()\n",
    "\n",
    "def rule_gia_qm(dataframe):\n",
    "    var = float(dataframe['Gia'])\n",
    "    if var < 200000:\n",
    "        val = 1\n",
    "    elif var < 500000:\n",
    "        val = 2\n",
    "    elif var < 1000000:\n",
    "        val = 3\n",
    "    elif var < 1500000:\n",
    "        val = 4\n",
    "    elif var < 2000000:\n",
    "        val = 5\n",
    "    elif var <= 3000000:\n",
    "        val = 6\n",
    "    elif var <= 4000000:\n",
    "        val = 7\n",
    "    elif var <= 6000000:\n",
    "        val = 8\n",
    "    elif var > 6000000:\n",
    "        val = 9\n",
    "    else:\n",
    "        val = 0 #var > 20tr\n",
    "    return val + val*.2\n",
    "\n",
    "def rule_hangsx_qm(dataframe):\n",
    "    var = (dataframe['Hang san xuat'])\n",
    "    \n",
    "    if 'Senko' in var:\n",
    "        val = 0.5\n",
    "    elif 'Asia' in var:\n",
    "        val = 1\n",
    "    elif 'Lifan' in var:\n",
    "        val = 1.5\n",
    "    elif 'Midea' in var:\n",
    "        val = 2\n",
    "    elif 'Electrolux' in var:\n",
    "        val = 2.5\n",
    "    elif 'Sunhouse' in var:\n",
    "        val = 3 \n",
    "    elif 'Sanyo' in var:\n",
    "        val = 3.5\n",
    "    elif 'Panasonic' in var:\n",
    "        val = 4\n",
    "    elif 'Mitsubishi Electric' in var:\n",
    "        val = 4.5\n",
    "    elif 'KDK' in var:\n",
    "        val = 5 \n",
    "    elif 'Tefal' in var:\n",
    "        val = 5.5\n",
    "    elif 'Sanaky' in var:\n",
    "        val = 6\n",
    "    elif 'Magic' in var:\n",
    "        val = 6.5\n",
    "    elif 'Aqua' in var:\n",
    "        val = 7\n",
    "    elif 'Kangaroo' in var:\n",
    "        val = 7.5\n",
    "    elif 'Iruka' in var:\n",
    "        val = 8\n",
    "    else:#Samsung\n",
    "        val = 0\n",
    "    return val \n",
    "\n",
    "def rule_loai_qm(dataframe):\n",
    "    var = (dataframe['Loai quat'])\n",
    "    if 'Quat ban' in var:\n",
    "        val = 1\n",
    "    elif 'Quat hop' in var:\n",
    "        val = 2\n",
    "    elif 'Quat lung' in var:\n",
    "        val = 3\n",
    "    elif 'Quat treo tuong' in var:\n",
    "        val = 4\n",
    "    elif 'Quat dung' in var:\n",
    "        val = 5\n",
    "    elif 'Quat sac dien' in var:\n",
    "        val = 6 \n",
    "    elif 'Quat phun suong' in var:\n",
    "        val = 7\n",
    "    elif 'Quat hoi nuoc' in var:\n",
    "        val = 7.5\n",
    "    elif 'Quat dieu hoa' in var:\n",
    "        val = 8\n",
    "    else:#Samsung\n",
    "        val = 0\n",
    "    return val \n",
    "\n",
    "def rule_congsuat_qm(dataframe):\n",
    "    var = (dataframe['Cong suat.2'])\n",
    "    var = re.findall(r\"\\d+\\.?\\d*\", str(var))\n",
    "    if len(var)>0:\n",
    "        var = float(var[0])\n",
    "    else:\n",
    "        var = np.nan\n",
    "    \n",
    "    if var <= 30:\n",
    "        val = 1\n",
    "    elif var <= 40:\n",
    "        val = 2\n",
    "    elif var <= 50:\n",
    "        val = 3\n",
    "    elif var <= 60:\n",
    "        val = 4\n",
    "    elif var <= 80:\n",
    "        val = 5\n",
    "    elif var <= 100:\n",
    "        val = 6\n",
    "    elif var > 100:\n",
    "        val = 7\n",
    "    else:# chua cap nhat\n",
    "        val = 0\n",
    "    return val + val*0.1\n",
    "\n",
    "# =============================================================================\n",
    "df['Gia2'] = df.apply(rule_gia_qm, axis = 1)\n",
    "df['Hang san xuat2'] = df.apply(rule_hangsx_qm, axis = 1)\n",
    "df['Cong suat2'] = df.apply(rule_congsuat_qm, axis = 1)\n",
    "df['Loai may2'] = df.apply(rule_loai_qm, axis = 1)\n",
    "# rule_kieutu_tl\n",
    "\n",
    "df2 = df[['Ma san pham','Gia2','Hang san xuat2', 'Cong suat2', 'Loai may2']]\n",
    "dataframe_1992= calculate_sim(df2)"
   ]
  },
  {
   "cell_type": "markdown",
   "metadata": {},
   "source": [
    "# Rule Bàn ủi"
   ]
  },
  {
   "cell_type": "code",
   "execution_count": 58,
   "metadata": {
    "code_folding": [
     8,
     32,
     41,
     53
    ],
    "jupyter": {
     "outputs_hidden": false
    }
   },
   "outputs": [],
   "source": [
    "#### set rule Bàn ủi\n",
    "df = data[data['Category'] == '1988']\n",
    "#drop all those columns like (value, value2, value3) where all rows have same values\n",
    "cols = list(df)\n",
    "nunique = df.apply(pd.Series.nunique)\n",
    "cols_to_drop = nunique[nunique == 1].index\n",
    "df = df.drop(cols_to_drop, axis=1)\n",
    "\n",
    "def rule_gia_bu(dataframe):\n",
    "    var = float(dataframe['Gia'])\n",
    "    if var < 200000:\n",
    "        val = 1\n",
    "    elif var < 300000:\n",
    "        val = 2\n",
    "    elif var < 500000:\n",
    "        val = 3\n",
    "    elif var < 700000:\n",
    "        val = 4\n",
    "    elif var < 1000000:\n",
    "        val = 5\n",
    "    elif var <= 1500000:\n",
    "        val = 6\n",
    "    elif var <= 2000000:\n",
    "        val = 7\n",
    "    elif var <= 3000000:\n",
    "        val = 8\n",
    "    elif var > 3000000:\n",
    "        val = 9\n",
    "    else:\n",
    "        val = 0 #var > 20tr\n",
    "    return val + val*.2\n",
    "\n",
    "def rule_hangsx_bu(dataframe):\n",
    "    var = (dataframe['Hang san xuat'])\n",
    "    if var in ['Comet', 'Sunhouse', 'Pensonic']:\n",
    "        val = 1\n",
    "    elif var in ['Delites' , u'Bluestone', u'Electrolux', u'Philips', u'Panasonic', u'Tefal', u'Hitachi']:\n",
    "        val = 2\n",
    "\n",
    "    return val \n",
    "\n",
    "def rule_loai_bu(dataframe):\n",
    "    var = (dataframe['Loai ban ui'])\n",
    "    if 'Ban ui kho' in var:\n",
    "        val = 1\n",
    "    elif 'Ban ui hoi nuoc' in var:\n",
    "        val = 2\n",
    "    elif 'Ban ui hoi nuoc dung' in var:\n",
    "        val = 3\n",
    "    else:#Samsung\n",
    "        val = 0\n",
    "    return val \n",
    "\n",
    "def rule_congsuat_bu(dataframe):\n",
    "    var = (dataframe['Cong suat.7'])\n",
    "    var = re.findall(r\"\\d+\\.?\\d*\", str(var))\n",
    "    if len(var)>0:\n",
    "        var = float(var[0])\n",
    "    else:\n",
    "        var = np.nan\n",
    "    \n",
    "    if var <= 1000:\n",
    "        val = 1\n",
    "    elif var <= 1400:\n",
    "        val = 2\n",
    "    elif var <= 1800:\n",
    "        val = 3\n",
    "    elif var <= 2500:\n",
    "        val = 4\n",
    "    elif var <= 3000:\n",
    "        val = 5\n",
    "    elif var > 3000:\n",
    "        val = 6\n",
    "    else:# chua cap nhat\n",
    "        val = 0\n",
    "    return val\n",
    "\n",
    "# =============================================================================\n",
    "df['Gia2'] = df.apply(rule_gia_bu, axis = 1)\n",
    "df['Hang san xuat2'] = df.apply(rule_hangsx_bu, axis = 1)\n",
    "df['Cong suat2'] = df.apply(rule_congsuat_bu, axis = 1)\n",
    "df['Loai may2'] = df.apply(rule_loai_bu, axis = 1)\n",
    "# rule_kieutu_tl\n",
    "\n",
    "df2 = df[['Ma san pham','Gia2','Hang san xuat2', 'Cong suat2', 'Loai may2']]\n",
    "dataframe_1998= calculate_sim(df2)"
   ]
  },
  {
   "cell_type": "markdown",
   "metadata": {},
   "source": [
    "# Rule Loa\n"
   ]
  },
  {
   "cell_type": "code",
   "execution_count": 59,
   "metadata": {
    "code_folding": [
     8,
     34,
     44
    ],
    "jupyter": {
     "outputs_hidden": false
    }
   },
   "outputs": [],
   "source": [
    "#### set rule Loa\n",
    "df = data[data['Category'] == '382']\n",
    "#drop all those columns like (value, value2, value3) where all rows have same values\n",
    "cols = list(df)\n",
    "nunique = df.apply(pd.Series.nunique)\n",
    "cols_to_drop = nunique[nunique == 1].index\n",
    "df = df.drop(cols_to_drop, axis=1)\n",
    "\n",
    "def rule_gia_loa(dataframe):\n",
    "    var = float(dataframe['Gia'])\n",
    "    if var < 200000:\n",
    "        val = 1\n",
    "    elif var < 300000:\n",
    "        val = 2\n",
    "    elif var < 500000:\n",
    "        val = 3\n",
    "    elif var < 700000:\n",
    "        val = 4\n",
    "    elif var < 1000000:\n",
    "        val = 5\n",
    "    elif var <= 1500000:\n",
    "        val = 6\n",
    "    elif var <= 2000000:\n",
    "        val = 7\n",
    "    elif var <= 3000000:\n",
    "        val = 8\n",
    "    elif var <= 4000000:\n",
    "        val = 9\n",
    "    elif var > 4000000:\n",
    "        val = 10\n",
    "    else:\n",
    "        val = 0 #var > 20tr\n",
    "    return val + val*.2\n",
    "\n",
    "def rule_loai_loa(dataframe):\n",
    "    var = (dataframe['Chon loai loa'])\n",
    "    if 'Loa co day' in var:\n",
    "        val = 1\n",
    "    elif 'Loa Bluetooth' in var:\n",
    "        val = 2\n",
    "    else:#Samsung\n",
    "        val = 0\n",
    "    return val * 2\n",
    "\n",
    "def rule_congsuat_loa(dataframe):\n",
    "    var = (dataframe['Tong Cong suat (W)'])\n",
    "    var = re.findall(r\"\\d+\\.?\\d*\", str(var))\n",
    "    if len(var)==2:\n",
    "        var = float(var[0]) * float(var[1])\n",
    "    elif len(var) == 1:\n",
    "        var = float(var[0])\n",
    "    else:\n",
    "        var = np.nan\n",
    "    \n",
    "    if var <= 6:\n",
    "        val = 1\n",
    "    elif var <= 12:\n",
    "        val = 2\n",
    "    elif var <= 20:\n",
    "        val = 3\n",
    "    elif var <= 30:\n",
    "        val = 4\n",
    "    elif var <= 40:\n",
    "        val = 5\n",
    "    elif var <= 60:\n",
    "        val = 6\n",
    "    elif var > 60:\n",
    "        val = 7\n",
    "    else:# chua cap nhat\n",
    "        val = 0\n",
    "    return val\n",
    "\n",
    "# =============================================================================\n",
    "df['Gia2'] = df.apply(rule_gia_loa, axis = 1)\n",
    "df['Cong suat2'] = df.apply(rule_congsuat_loa, axis = 1)\n",
    "df['Loai loa2'] = df.apply(rule_loai_loa, axis = 1)\n",
    "# rule_kieutu_tl\n",
    "\n",
    "df2 = df[['Ma san pham','Gia2', 'Cong suat2', 'Loai loa2']]\n",
    "dataframe_382= calculate_sim(df2)"
   ]
  },
  {
   "cell_type": "code",
   "execution_count": 60,
   "metadata": {
    "jupyter": {
     "outputs_hidden": false
    }
   },
   "outputs": [],
   "source": [
    "# concate two dataframe\n",
    "# db_test = pd.concat([df2, db_test], axis= 1 )"
   ]
  },
  {
   "cell_type": "markdown",
   "metadata": {},
   "source": [
    "# Rule Thẻ nhớ"
   ]
  },
  {
   "cell_type": "code",
   "execution_count": 61,
   "metadata": {
    "code_folding": [
     8,
     38,
     52,
     78
    ],
    "collapsed": true,
    "jupyter": {
     "outputs_hidden": true
    }
   },
   "outputs": [],
   "source": [
    "#### set rule Thẻ nhớ\n",
    "df = data[data['Category'] == '55']\n",
    "#drop all those columns like (value, value2, value3) where all rows have same values\n",
    "cols = list(df)\n",
    "nunique = df.apply(pd.Series.nunique)\n",
    "cols_to_drop = nunique[nunique == 1].index\n",
    "df = df.drop(cols_to_drop, axis=1)\n",
    "\n",
    "def rule_gia_thnh(dataframe):\n",
    "    var = float(dataframe['Gia'])\n",
    "    if var < 100000:\n",
    "        val = 1\n",
    "    elif var < 200000:\n",
    "        val = 2\n",
    "    elif var < 300000:\n",
    "        val = 3\n",
    "    elif var < 400000:\n",
    "        val = 4\n",
    "    elif var < 500000:\n",
    "        val = 5\n",
    "    elif var <= 700000:\n",
    "        val = 6\n",
    "    elif var <= 1000000:\n",
    "        val = 7\n",
    "    elif var <= 1500000:\n",
    "        val = 8\n",
    "    elif var <= 2000000:\n",
    "        val = 9\n",
    "    elif var > 3000000:\n",
    "        val = 10\n",
    "    elif var <= 4000000:\n",
    "        val = 11\n",
    "    elif var > 4000000:\n",
    "        val = 12\n",
    "    else:\n",
    "        val = 0 #var > 20tr\n",
    "    return val + val*.2\n",
    "\n",
    "def rule_loai_thnh(dataframe):\n",
    "    var = (dataframe['Loai the'])\n",
    "    if 'The MicroSD' in var:\n",
    "        val = 1\n",
    "    elif 'The SD' in var:\n",
    "        val = 2\n",
    "    elif 'The CF' in var:\n",
    "        val = 3\n",
    "    elif 'Macbook' in var:\n",
    "        val = 10\n",
    "    else:#Samsung\n",
    "        val = 0\n",
    "    return val\n",
    "\n",
    "def rule_dungluong_thnh(dataframe):\n",
    "    var = (dataframe['Dung luong the'])\n",
    "    var = re.findall(r\"\\d+\\.?\\d*\", str(var))\n",
    "    if len(var)>= 1:\n",
    "        var = float(var[0])\n",
    "    else:\n",
    "        var = np.nan\n",
    "    \n",
    "    if var <= 4:\n",
    "        val = 1\n",
    "    elif var <= 8:\n",
    "        val = 2\n",
    "    elif var <= 16:\n",
    "        val = 3\n",
    "    elif var <= 32:\n",
    "        val = 4\n",
    "    elif var <= 64:\n",
    "        val = 5\n",
    "    elif var <= 128:\n",
    "        val = 6\n",
    "    elif var > 128:\n",
    "        val = 7\n",
    "    else:# chua cap nhat\n",
    "        val = 0\n",
    "    return val\n",
    "\n",
    "def rule_tocdo_thnh(dataframe):\n",
    "    var = (dataframe['Toc do doc/ ghi du lieu'])\n",
    "    var = re.findall(r\"\\d+\\.?\\d*\", str(var))\n",
    "    if len(var)>= 1:\n",
    "        var = float(var[0])\n",
    "    else:\n",
    "        var = np.nan\n",
    "    \n",
    "    if var <= 10:\n",
    "        val = 1\n",
    "    elif var <= 30:\n",
    "        val = 2\n",
    "    elif var <= 50:\n",
    "        val = 3\n",
    "    elif var < 80:\n",
    "        val = 4\n",
    "    elif var <= 100:\n",
    "        val = 5\n",
    "    elif var <= 120:\n",
    "        val = 6\n",
    "    elif var > 120:\n",
    "        val = 7\n",
    "    else:# chua cap nhat\n",
    "        val = 0\n",
    "    return val\n",
    "\n",
    "# =============================================================================\n",
    "df['Gia2'] = df.apply(rule_gia_thnh, axis = 1)\n",
    "df['Dung luong the nho2'] = df.apply(rule_dungluong_thnh, axis = 1)\n",
    "df['Loai the nho2'] = df.apply(rule_loai_thnh, axis = 1)\n",
    "df['Toc do2'] = df.apply(rule_tocdo_thnh, axis = 1)\n",
    "\n",
    "df2 = df[['Ma san pham','Gia2', 'Dung luong the nho2', 'Loai the nho2', 'Toc do2']]\n",
    "dataframe_55 = calculate_sim(df2)"
   ]
  },
  {
   "cell_type": "code",
   "execution_count": 62,
   "metadata": {
    "collapsed": true,
    "jupyter": {
     "outputs_hidden": true
    }
   },
   "outputs": [],
   "source": [
    "# concat two dataframe\n",
    "# db_test = pd.concat([df2, db_test], axis= 1 )"
   ]
  },
  {
   "cell_type": "markdown",
   "metadata": {},
   "source": [
    "# Rule Tai nghe"
   ]
  },
  {
   "cell_type": "code",
   "execution_count": 63,
   "metadata": {
    "code_folding": [
     8,
     38,
     48,
     62
    ],
    "jupyter": {
     "outputs_hidden": false
    }
   },
   "outputs": [],
   "source": [
    "#### set rule Tai nghe\n",
    "df = data[data['Category'] == '54']\n",
    "#drop all those columns like (value, value2, value3) where all rows have same values\n",
    "cols = list(df)\n",
    "nunique = df.apply(pd.Series.nunique)\n",
    "cols_to_drop = nunique[nunique == 1].index\n",
    "df = df.drop(cols_to_drop, axis=1)\n",
    "\n",
    "def rule_gia_tngh(dataframe):\n",
    "    var = float(dataframe['Gia'])\n",
    "    if var < 100000:\n",
    "        val = 1\n",
    "    elif var < 200000:\n",
    "        val = 2\n",
    "    elif var < 300000:\n",
    "        val = 3\n",
    "    elif var < 500000:\n",
    "        val = 4\n",
    "    elif var < 700000:\n",
    "        val = 5\n",
    "    elif var <= 1000000:\n",
    "        val = 6\n",
    "    elif var <= 1500000:\n",
    "        val = 7\n",
    "    elif var <= 2000000:\n",
    "        val = 8\n",
    "    elif var <= 2500000:\n",
    "        val = 9\n",
    "    elif var > 3000000:\n",
    "        val = 10\n",
    "    elif var <= 4000000:\n",
    "        val = 11\n",
    "    elif var > 4000000:\n",
    "        val = 12\n",
    "    else:\n",
    "        val = 0 #var > 20tr\n",
    "    return val + val*.2\n",
    "\n",
    "def rule_loai_tngh(dataframe):\n",
    "    var = (dataframe['Loai tai nghe'])\n",
    "    if 'co day' in var:\n",
    "        val = 1\n",
    "    elif 'Bluetooth' in var:\n",
    "        val = 2\n",
    "    else:#Samsung\n",
    "        val = 0\n",
    "    return val\n",
    "\n",
    "def rule_jackcam_tngh(dataframe):\n",
    "    var = (dataframe['Jack cam'])\n",
    "    if '3.5' in var:\n",
    "        val = 3\n",
    "    elif '2.5' in var:\n",
    "        val = 8\n",
    "    elif 'Micro' in var:\n",
    "        val = 13\n",
    "    elif 'Mini' in var:\n",
    "        val = 8\n",
    "    else:#Samsung\n",
    "        val = 0\n",
    "    return val\n",
    "\n",
    "def rule_kieu_tngh(dataframe):\n",
    "    var = (dataframe['Kieu tai nghe'])\n",
    "    if 'nhet trong' in var:\n",
    "        val = 1\n",
    "    elif 'chup tai' in var:\n",
    "        val = 2\n",
    "    else:#Samsung\n",
    "        val = 0\n",
    "    return val\n",
    "\n",
    "# =============================================================================\n",
    "df['Gia2'] = df.apply(rule_gia_tngh, axis = 1)\n",
    "df['Kieu tai nghe2'] = df.apply(rule_kieu_tngh, axis = 1)\n",
    "df['Loai tai nghe2'] = df.apply(rule_loai_tngh, axis = 1)\n",
    "df['Jack2'] = df.apply(rule_jackcam_tngh, axis = 1)\n",
    "# rule_kieutu_tl\n",
    "\n",
    "df2 = df[['Ma san pham','Gia2', 'Kieu tai nghe2', 'Loai tai nghe2', 'Jack2']]\n",
    "dataframe_54= calculate_sim(df2)"
   ]
  },
  {
   "cell_type": "code",
   "execution_count": 64,
   "metadata": {
    "collapsed": true,
    "jupyter": {
     "outputs_hidden": true
    }
   },
   "outputs": [],
   "source": [
    "# concat two dataframe\n",
    "# db_test = pd.concat([df2, db_test], axis= 1 )"
   ]
  },
  {
   "cell_type": "markdown",
   "metadata": {},
   "source": [
    "# Rule day sac"
   ]
  },
  {
   "cell_type": "code",
   "execution_count": 71,
   "metadata": {
    "jupyter": {
     "outputs_hidden": false
    }
   },
   "outputs": [],
   "source": [
    "# df = data[data['Category'] == '58']\n",
    "# df.columns.unique().tolist()"
   ]
  },
  {
   "cell_type": "code",
   "execution_count": 70,
   "metadata": {
    "code_folding": [
     8,
     47,
     59,
     71
    ],
    "jupyter": {
     "outputs_hidden": false
    }
   },
   "outputs": [],
   "source": [
    "#### set rule Dây sạc\n",
    "df = data[data['Category'] == '58']\n",
    "#drop all those columns like (value, value2, value3) where all rows have same values\n",
    "cols = list(df)\n",
    "nunique = df.apply(pd.Series.nunique)\n",
    "cols_to_drop = nunique[nunique == 1].index\n",
    "df = df.drop(cols_to_drop, axis=1)\n",
    "\n",
    "def rule_gia_sac(dataframe):\n",
    "    var = float(dataframe['Gia'])\n",
    "    if var < 100000:\n",
    "        val = 1\n",
    "    elif var < 250000:\n",
    "        val = 2\n",
    "    elif var < 300000:\n",
    "        val = 3\n",
    "    elif var < 400000:\n",
    "        val = 4\n",
    "    elif var < 500000:\n",
    "        val = 5\n",
    "    elif var <= 700000:\n",
    "        val = 6\n",
    "    elif var > 700000:\n",
    "        val = 12\n",
    "    else:\n",
    "        val = 0 #var > 20tr\n",
    "    return val + val*.2\n",
    "\n",
    "def rule_loaisp_sac(dataframe):\n",
    "    var = (dataframe['Loai san pham.1'])\n",
    "\n",
    "    if 'Micro USB' in var:\n",
    "        val = 1\n",
    "    elif 'Cap chuyen doi'in var:\n",
    "        val = 2\n",
    "    elif 'iPhone' in var:\n",
    "        val = 3\n",
    "    elif 'Adapter' in var or 'cu sac' in var:\n",
    "        val = 4\n",
    "    elif 'Type C'in var:\n",
    "        val = 5\n",
    "    elif 'Nokia dau nho' in var:\n",
    "        val = 6\n",
    "    else:# chua cap nhat\n",
    "        val = 0\n",
    "    return val*10\n",
    "\n",
    "def rule_jack_sac(dataframe):\n",
    "    list_jack = ['Micro USB', '3.5mm', 'iPhone (lightning)', 'USB', 'iPhone 4',\n",
    "       'Ho tro tat ca', 'USB Type-C', 'Nokia dau nho', 'Type-C',\n",
    "       'Micro USB va Apple lightning', 'Micro USB va iPhone 5', 'Khac',\n",
    "       'HDMI 1.4', 'Micro USB va Type C', 'HDMI 2.0']\n",
    "    var = (dataframe['Jack ket noi'])\n",
    "    if var in list_jack:\n",
    "        val = list_jack.index(var)\n",
    "    else:\n",
    "        val = len(list_jack)\n",
    "    return val\n",
    "\n",
    "def rule_dungtrenoto_sac(dataframe):\n",
    "    var = (dataframe['Dung tren Oto'])\n",
    "    if 'Khong' in var:\n",
    "        val = 1\n",
    "    elif 'USB 2.0' in var:\n",
    "        val = 2\n",
    "    elif 'Co' in var:\n",
    "        val = 3\n",
    "    else:#Samsung\n",
    "        val = 0\n",
    "    return val\n",
    "\n",
    "def rule_nguonra_sac(dataframe):\n",
    "    var = (dataframe['Nguon ra'])\n",
    "    var1 = re.findall(r\"\\d+\\.?\\d*A\", str(var)) #var = re.findall(r\"\\d+\\.?\\d*V|\\d+\\.?\\d*A\", str(var))\n",
    "    if len(var1)== 1:\n",
    "        tmp =float(re.findall(r\"\\d+\\.?\\d*\", str(var1[0]))[0])\n",
    "    elif len(var1) >= 2:    \n",
    "        tmp = 99\n",
    "    else:\n",
    "        tmp = 100\n",
    "    \n",
    "    if tmp <= 1:\n",
    "        val = 1\n",
    "    elif tmp <= 2:\n",
    "        val = 2\n",
    "    elif tmp <=3:\n",
    "        val = 3\n",
    "    elif tmp <= 6:\n",
    "        val = 4\n",
    "    elif tmp ==99:\n",
    "        val = 5\n",
    "    else:# chua cap nhat, tmp = 100\n",
    "        val = 0\n",
    "    return val\n",
    "\n",
    "# =============================================================================\n",
    "df['Gia2'] = df.apply(rule_gia_sac, axis = 1)\n",
    "# rule_gia_sac\n",
    "df['Loai san pham2'] = df.apply(rule_loaisp_sac, axis = 1)\n",
    "df['Jack sac2'] = df.apply(rule_jack_sac, axis = 1)\n",
    "df['Dung tren oto2'] = df.apply(rule_dungtrenoto_sac, axis = 1)\n",
    "df['Nguon ra2'] = df.apply(rule_nguonra_sac, axis = 1)\n",
    "# rule_kieutu_tl\n",
    "\n",
    "df2 = df[['Ma san pham','Gia2', 'Loai san pham2', 'Jack sac2', 'Dung tren oto2', 'Nguon ra2']]\n",
    "dataframe_58= calculate_sim(df2)"
   ]
  },
  {
   "cell_type": "code",
   "execution_count": null,
   "metadata": {
    "collapsed": true,
    "jupyter": {
     "outputs_hidden": true
    }
   },
   "outputs": [],
   "source": [
    "# concat two dataframe\n",
    "# db_test = pd.concat([df2, db_test], axis= 1 )"
   ]
  },
  {
   "cell_type": "markdown",
   "metadata": {},
   "source": [
    "# Rule pin dự phòng"
   ]
  },
  {
   "cell_type": "code",
   "execution_count": 72,
   "metadata": {
    "code_folding": [
     8,
     28,
     51,
     78,
     88
    ],
    "jupyter": {
     "outputs_hidden": false
    }
   },
   "outputs": [],
   "source": [
    "#### set rule Pin dự phòng\n",
    "df = data[data['Category'] == '57']\n",
    "#drop all those columns like (value, value2, value3) where all rows have same values\n",
    "cols = list(df)\n",
    "nunique = df.apply(pd.Series.nunique)\n",
    "cols_to_drop = nunique[nunique == 1].index\n",
    "df = df.drop(cols_to_drop, axis=1)\n",
    "\n",
    "def rule_gia_pin(dataframe):\n",
    "    var = float(dataframe['Gia'])\n",
    "    if var < 100000:\n",
    "        val = 1\n",
    "    elif var < 250000:\n",
    "        val = 2\n",
    "    elif var < 300000:\n",
    "        val = 3\n",
    "    elif var < 400000:\n",
    "        val = 4\n",
    "    elif var < 500000:\n",
    "        val = 5\n",
    "    elif var <= 700000:\n",
    "        val = 6\n",
    "    elif var > 700000:\n",
    "        val = 12\n",
    "    else:\n",
    "        val = 0 #var > 20tr\n",
    "    return val + val*.2\n",
    "\n",
    "def rule_dungluong_pin(dataframe):\n",
    "    var = (dataframe['Dung luong'])\n",
    "    var = re.findall(r\"\\d+\\.?\\d*\", str(var))\n",
    "    if len(var)>= 1:\n",
    "        var = float(var[0])\n",
    "    else:\n",
    "        var = np.nan\n",
    "    \n",
    "    if var <= 5000:\n",
    "        val = 1\n",
    "    elif var <= 10000:\n",
    "        val = 2\n",
    "    elif var <= 15000:\n",
    "        val = 3\n",
    "    elif var <= 20000:\n",
    "        val = 4\n",
    "    elif var > 20000:\n",
    "        val = 5\n",
    "    else:# chua cap nhat\n",
    "        val = 0\n",
    "    return val\n",
    "\n",
    "# Thoi gian sac\n",
    "def rule_thoigiansac_pin(dataframe):\n",
    "    var = (dataframe['Thoi gian sac.1'])\n",
    "    var = re.findall(r\"\\d+\\.?\\d*\", str(var))\n",
    "    if len(var)>= 2:\n",
    "        var = (float(var[0]) + float(var[1]))/2\n",
    "    elif len(var)==1:\n",
    "        var = float(var[0])\n",
    "    else:\n",
    "        var = np.nan\n",
    "    if var <= 2:\n",
    "        val = 7\n",
    "    elif var <= 3:\n",
    "        val = 6\n",
    "    elif var <= 4:\n",
    "        val = 5\n",
    "    elif var <= 5:\n",
    "        val = 4\n",
    "    elif var <= 6:\n",
    "        val = 3\n",
    "    elif var <= 7:\n",
    "        val = 2    \n",
    "    elif var > 7:\n",
    "        val = 1\n",
    "    else:# chua cap nhat\n",
    "        val = 0\n",
    "    return val\n",
    "\n",
    "def rule_ngatsac_pin(dataframe):\n",
    "    var = (dataframe['Tu dong ngat khi sac day dien thoai'])\n",
    "    if 'Khong' in var:\n",
    "        val = 1\n",
    "    elif 'Co' in var:\n",
    "        val = 2\n",
    "    else:#Samsung\n",
    "        val = 0\n",
    "    return val\n",
    "\n",
    "def rule_denled_pin(dataframe):\n",
    "    var = (dataframe['Den LED bao hieu'])\n",
    "    if 'Khong' in var:\n",
    "        val = 1\n",
    "    elif 'Co' in var:\n",
    "        val = 2\n",
    "    else:#Samsung\n",
    "        val = 0\n",
    "    return val\n",
    "\n",
    "# =============================================================================\n",
    "df['Gia2'] = df.apply(rule_gia_pin, axis = 1)\n",
    "df['Dung luong pin2'] = df.apply(rule_dungluong_pin, axis = 1)\n",
    "df['Thoi gian sac2'] = df.apply(rule_thoigiansac_pin, axis = 1)\n",
    "df['Ngat sac2'] = df.apply(rule_ngatsac_pin, axis = 1)\n",
    "df['Den led2'] = df.apply(rule_denled_pin, axis = 1)\n",
    "# rule_kieutu_tl\n",
    "\n",
    "df2 = df[['Ma san pham','Gia2', 'Dung luong pin2', 'Thoi gian sac2', 'Ngat sac2', 'Den led2']]\n",
    "dataframe_57= calculate_sim(df2)"
   ]
  },
  {
   "cell_type": "code",
   "execution_count": null,
   "metadata": {
    "collapsed": true,
    "jupyter": {
     "outputs_hidden": true
    }
   },
   "outputs": [],
   "source": [
    "# concat two dataframe\n",
    "# db_test = pd.concat([df2, db_test], axis= 1 )"
   ]
  },
  {
   "cell_type": "code",
   "execution_count": null,
   "metadata": {
    "jupyter": {
     "outputs_hidden": false
    }
   },
   "outputs": [],
   "source": [
    "# \n",
    "# db_test1 = db_test\n",
    "# db_test1 = db_test1.groupby(db_test1.columns, axis=1).agg(np.max)"
   ]
  },
  {
   "cell_type": "code",
   "execution_count": null,
   "metadata": {
    "collapsed": true,
    "jupyter": {
     "outputs_hidden": true
    }
   },
   "outputs": [],
   "source": [
    "# the end"
   ]
  },
  {
   "cell_type": "markdown",
   "metadata": {},
   "source": [
    "# Calculate: one-df2"
   ]
  },
  {
   "cell_type": "code",
   "execution_count": 42,
   "metadata": {
    "jupyter": {
     "outputs_hidden": false
    }
   },
   "outputs": [],
   "source": [
    "#calculate the similarity for special (one) CATE\n",
    "def calculate_sim(df2):\n",
    "    dataframe = pd.DataFrame(index = df2['Ma san pham'], columns= [np.arange(df2.shape[0])])\n",
    "    for a in range(df2.shape[0]):\n",
    "        for b in range(df2.shape[0]):\n",
    "            dataframe.iloc[a][b] = length2(df2.iloc[a][1:], df2.iloc[b][1:])\n",
    "    dataframe.columns = df2['Ma san pham']\n",
    "    \n",
    "    return dataframe"
   ]
  },
  {
   "cell_type": "markdown",
   "metadata": {},
   "source": [
    "# Calculate: multi: data_final"
   ]
  },
  {
   "cell_type": "code",
   "execution_count": 32,
   "metadata": {
    "jupyter": {
     "outputs_hidden": false
    }
   },
   "outputs": [],
   "source": [
    "# #calculate the similarity all items\n",
    "# start_time = time.time()\n",
    "# CATES = data_final['CATE'].unique().tolist()\n",
    "\n",
    "# #list_shape = []\n",
    "# for CATE in CATES:\n",
    "#     df_tmp = data_final[data_final.CATE == CATE]#get sub dataframe\n",
    "    \n",
    "#     dataframe_ = pd.DataFrame(index = df_tmp['Ma_san_pham'], columns= [np.arange(df_tmp.shape[0])])\n",
    "#     dataframe_.columns = df_tmp['Ma_san_pham']\n",
    "#     #list_shape.append(CATE)\n",
    "#     #list_shape.append(dataframe_.shape)\n",
    "#     #asign values to dataframe\n",
    "#     for a in range(df_tmp.shape[0]):\n",
    "#         for b in range(df_tmp.shape[0]):\n",
    "#             dataframe_.iloc[a][b] = length2(df_tmp.iloc[a][[4, 6, 7, 8]], df_tmp.iloc[b][[4, 6, 7, 8]])\n",
    "#     #Add to redis\n",
    "#     for x in dataframe_.columns.values.tolist():\n",
    "#         tmp = list_similar(x, 5, dataframe_)\n",
    "#         for y in range(5):\n",
    "#             rc.zadd('RD_'+x,tmp.values[y], tmp.index[y])  \n",
    "            \n",
    "# #     #Delete \n",
    "# #     for x in dataframe_.columns.values.tolist():\n",
    "# #         rc.delete(str('RD_'+x)) \n",
    "        \n",
    "# run_time = time.time() - start_time\n"
   ]
  },
  {
   "cell_type": "code",
   "execution_count": 42,
   "metadata": {
    "jupyter": {
     "outputs_hidden": false
    }
   },
   "outputs": [],
   "source": [
    "# #calculate the similarity all items, \n",
    "# start_time = time.time()\n",
    "# CATES = data_final['CATE'].unique().tolist()\n",
    "\n",
    "# #list_shape = []\n",
    "# for CATE in CATES:\n",
    "#     df_tmp = data_final[data_final.CATE == CATE]#get sub dataframe\n",
    "    \n",
    "#     exec('dataframe_'+str(CATE) +'= pd.DataFrame(index = df_tmp.Ma_san_pham, columns= [np.arange(df_tmp.shape[0])])')\n",
    "#     exec('dataframe_'+str(CATE)+'.columns = df_tmp.Ma_san_pham')\n",
    "#     #list_shape.append(CATE)\n",
    "#     #list_shape.append(dataframe_.shape)\n",
    "#     #asign values to dataframe\n",
    "#     for a in range(df_tmp.shape[0]):\n",
    "#         for b in range(df_tmp.shape[0]):\n",
    "#             exec('dataframe_'+str(CATE)+ '.iloc[a][b] = length2(df_tmp.iloc[a][[4, 6, 7, 8]], df_tmp.iloc[b][[4, 6, 7, 8]])')\n",
    "# #     #Add to redis\n",
    "# #     for x in dataframe_.columns.values.tolist():\n",
    "# #         tmp = list_similar(x, 5, dataframe_)\n",
    "# #         for y in range(5):\n",
    "# #             rc.zadd('RD_'+x,tmp.values[y], tmp.index[y])  \n",
    "            \n",
    "# #     #Delete \n",
    "# #     for x in dataframe_.columns.values.tolist():\n",
    "# #         rc.delete(str('RD_'+x)) \n",
    "        \n",
    "# run_time = time.time() - start_time\n"
   ]
  },
  {
   "cell_type": "code",
   "execution_count": 43,
   "metadata": {
    "jupyter": {
     "outputs_hidden": false
    }
   },
   "outputs": [
    {
     "ename": "SyntaxError",
     "evalue": "invalid syntax (<string>, line 1)",
     "output_type": "error",
     "traceback": [
      "\u001b[0;36m  File \u001b[0;32m\"<string>\"\u001b[0;36m, line \u001b[0;32m1\u001b[0m\n\u001b[0;31m    dataframe_HU TAM BONG MAI HPB73= pd.DataFrame(index = df_tmp.Ma_san_pham, columns= [np.arange(df_tmp.shape[0])])\u001b[0m\n\u001b[0m                   ^\u001b[0m\n\u001b[0;31mSyntaxError\u001b[0m\u001b[0;31m:\u001b[0m invalid syntax\n"
     ]
    }
   ],
   "source": [
    "#calculate the similarity all items, \n",
    "start_time = time.time()\n",
    "Category = data_final['Category'].unique().tolist()\n",
    "\n",
    "for CATE in Category:\n",
    "    df_tmp = data_final[data_final.Category == CATE]#get sub dataframe\n",
    "\n",
    "    exec('dataframe_'+str(CATE) +'= pd.DataFrame(index = df_tmp.Ma_san_pham, columns= [np.arange(df_tmp.shape[0])])')\n",
    "    exec('dataframe_'+str(CATE)+'.columns = df_tmp.Ma_san_pham')\n",
    "    #list_shape.append(CATE)\n",
    "    #list_shape.append(dataframe_.shape)\n",
    "    #asign values to dataframe\n",
    "    for a in range(df_tmp.shape[0]):\n",
    "        for b in range(df_tmp.shape[0]):\n",
    "            exec('dataframe_'+str(CATE)+ '.iloc[a][b] = length2(df_tmp.iloc[a][[3, 5, 6]], df_tmp.iloc[b][[3, 5, 6]])')\n",
    "\n",
    "# #Add to redis\n",
    "# for x in dataframe_.columns.values.tolist():\n",
    "#     tmp = list_similar(x, 5, dataframe_)\n",
    "#     for y in range(5):\n",
    "#         rc.zadd('RD_'+x,tmp.values[y], tmp.index[y])  \n",
    "\n",
    "# #Delete \n",
    "# for x in dataframe_.columns.values.tolist():\n",
    "#     rc.delete(str('RD_'+x)) \n",
    "        \n",
    "run_time = time.time() - start_time\n"
   ]
  },
  {
   "cell_type": "code",
   "execution_count": null,
   "metadata": {
    "collapsed": true,
    "jupyter": {
     "outputs_hidden": true
    }
   },
   "outputs": [],
   "source": []
  },
  {
   "cell_type": "code",
   "execution_count": 446,
   "metadata": {
    "jupyter": {
     "outputs_hidden": false
    }
   },
   "outputs": [],
   "source": [
    "#check category have how many feature to calculate the similary\n",
    "list_tmp = []\n",
    "CATES = data_final['Category'].unique().tolist()\n",
    "\n",
    "#list_shape = []\n",
    "for CATE in CATES:\n",
    "    df = data[data['Category'] == CATE]\n",
    "    #drop all those columns like (value, value2, value3) where all rows have same values\n",
    "    cols = list(df)\n",
    "    nunique = df.apply(pd.Series.nunique)\n",
    "    cols_to_drop = nunique[nunique == 1].index\n",
    "    df = df.drop(cols_to_drop, axis=1)\n",
    "\n",
    "    list_tmp.append(CATE +': '+ str(df.shape[1]))\n",
    "    \n",
    "# output\n",
    "# list_tmp"
   ]
  },
  {
   "cell_type": "code",
   "execution_count": 116,
   "metadata": {
    "jupyter": {
     "outputs_hidden": false
    }
   },
   "outputs": [],
   "source": [
    "# #write to excel\n",
    "# ew = pd.ExcelWriter('/home/tungrd/TA/recommenderr/thesameall.xlsx', options={'encoding':'utf-8'})\n",
    "# dataframe.to_excel(ew, 'thesameall')\n",
    "# ew.save()\n",
    "\n",
    "# #read file excel\n",
    "# dataframe = pd.read_excel('/home/tungrd/TA/recommenderr/thesameall.xlsx', sheetname='thesameall', header = 0, index_col=0 )"
   ]
  },
  {
   "cell_type": "markdown",
   "metadata": {},
   "source": [
    "    # Visualization demo"
   ]
  },
  {
   "cell_type": "code",
   "execution_count": 25,
   "metadata": {
    "jupyter": {
     "outputs_hidden": false
    }
   },
   "outputs": [],
   "source": [
    "#list_similar(id_produc, number_of_recommended_product)\n",
    "a = list_similar('88538', 10, dataframe)\n",
    "#a= dataframe_['76636'].sort(inplace = False)[:10]"
   ]
  },
  {
   "cell_type": "code",
   "execution_count": 3,
   "metadata": {
    "jupyter": {
     "outputs_hidden": false
    }
   },
   "outputs": [],
   "source": [
    "#review (change df2 or data is name of dataframe)\n",
    "a_value = map(lambda x: np.str(x), list(a.index))\n",
    "df.loc[data['Ma san pham'].isin(a_value)]\n",
    "# data_final.loc[data['Ma san pham'].isin(a_value)]"
   ]
  },
  {
   "cell_type": "markdown",
   "metadata": {},
   "source": [
    "# Save to Redis"
   ]
  },
  {
   "cell_type": "code",
   "execution_count": 2,
   "metadata": {
    "jupyter": {
     "outputs_hidden": false
    }
   },
   "outputs": [],
   "source": [
    "# pip install redis-py-cluster\n",
    "import redis\n",
    "from rediscluster import StrictRedisCluster\n",
    "# Requires at least one node for cluster discovery. Multiple nodes is recommended.\n",
    "startup_nodes = [{\"host\": \"10.1.12.30\", \"port\": \"16379\"}]\n",
    "rc = StrictRedisCluster(startup_nodes=startup_nodes, decode_responses=True)\n",
    "#!redis-cli -h 10.1.12.30 -p 16379 -c\n",
    "#rc.dbsize()"
   ]
  },
  {
   "cell_type": "code",
   "execution_count": 248,
   "metadata": {
    "jupyter": {
     "outputs_hidden": false
    }
   },
   "outputs": [],
   "source": [
    "#Add to redis\n",
    "for x in dataframe.columns.values.tolist():\n",
    "    tmp = list_similar(x, 20, dataframe)\n",
    "    for y in range(20):\n",
    "        rc.zadd('RD_'+x,tmp.values[y], tmp.index[y])"
   ]
  },
  {
   "cell_type": "code",
   "execution_count": 4,
   "metadata": {
    "jupyter": {
     "outputs_hidden": false
    }
   },
   "outputs": [],
   "source": [
    "list_sim = rc.zrange('RD_88475', 0, -1)\n",
    "# data_final.loc[data['Ma san pham'].isin(list_sim)]"
   ]
  },
  {
   "cell_type": "code",
   "execution_count": 7,
   "metadata": {
    "jupyter": {
     "outputs_hidden": false
    }
   },
   "outputs": [],
   "source": [
    "# #delete redis sorted set\n",
    "# for x in range(len(df2['Ma san pham'])):\n",
    "#         rc.delete(str('RD_ml_'+df2['Ma san pham'][x]))\n",
    "\n",
    "for x in dataframe.columns.values.tolist():\n",
    "        rc.delete(str('RD_ml_'+x))"
   ]
  },
  {
   "cell_type": "code",
   "execution_count": 9,
   "metadata": {
    "jupyter": {
     "outputs_hidden": false
    }
   },
   "outputs": [
    {
     "data": {
      "text/plain": [
       "[None, None, None]"
      ]
     },
     "execution_count": 9,
     "metadata": {},
     "output_type": "execute_result"
    }
   ],
   "source": [
    "#save to hash\n",
    "# similar_tmp = {str(df2['Ma san pham'][x]): list_similar(df2['Ma san pham'][x], len(df2['Ma san pham']), dataframe) for x in range(len(df2['Ma san pham']))}\n",
    "# rc.hmset('RD_recommender_maylanh', similar_tmp)\n",
    "# rc.hgetall('RD_recommender_maylanh')\n",
    "# rc.hmget('RD_recommender_maylanh', \"67769\", \"68784\", '75457')"
   ]
  },
  {
   "cell_type": "markdown",
   "metadata": {},
   "source": [
    "# best sale items"
   ]
  },
  {
   "cell_type": "code",
   "execution_count": 82,
   "metadata": {
    "collapsed": true,
    "jupyter": {
     "outputs_hidden": true
    }
   },
   "outputs": [],
   "source": [
    "db = pd.read_excel('/home/tungrd/TA/recommenderr/db.xlsx', sheetname='db', header = 0, index_col=0, convert_float= True)"
   ]
  },
  {
   "cell_type": "code",
   "execution_count": 80,
   "metadata": {
    "jupyter": {
     "outputs_hidden": false
    }
   },
   "outputs": [
    {
     "data": {
      "text/plain": [
       "'73693'"
      ]
     },
     "execution_count": 80,
     "metadata": {},
     "output_type": "execute_result"
    }
   ],
   "source": [
    "# test\n",
    "str(np.int(db.iloc[1][5]))\n",
    "db.isnull().values.any()\n",
    "db.isnull().sum()"
   ]
  },
  {
   "cell_type": "code",
   "execution_count": 284,
   "metadata": {
    "jupyter": {
     "outputs_hidden": false
    }
   },
   "outputs": [],
   "source": [
    "db = db.fillna(value= 0)"
   ]
  },
  {
   "cell_type": "code",
   "execution_count": 247,
   "metadata": {
    "jupyter": {
     "outputs_hidden": false
    }
   },
   "outputs": [],
   "source": [
    "db['cate']= db['cate'].apply(lambda x: str(np.int(x)))\n",
    "db['Web id']= db['Web id'].apply(lambda x: str(np.int(x)))"
   ]
  },
  {
   "cell_type": "code",
   "execution_count": 250,
   "metadata": {
    "jupyter": {
     "outputs_hidden": false
    }
   },
   "outputs": [],
   "source": [
    "#table = db.pivot_table(df, index = ['cate', 'Web id'], aggfunc= {'Web id':'count'})\n",
    "#table.query('cate == [42]')"
   ]
  },
  {
   "cell_type": "code",
   "execution_count": 286,
   "metadata": {
    "jupyter": {
     "outputs_hidden": false
    }
   },
   "outputs": [],
   "source": [
    "best_sale_frame = db['Web id'].groupby([db['cate'], db['Web id']]).count().unstack()\n",
    "best_sale_frame = best_sale_frame.fillna(value=0)\n",
    "best_sale_frame"
   ]
  },
  {
   "cell_type": "code",
   "execution_count": 290,
   "metadata": {
    "jupyter": {
     "outputs_hidden": false
    }
   },
   "outputs": [],
   "source": [
    "# get list best sale items\n",
    "best_tmp = best_sale_frame.loc['42'].sort_values(ascending = False, inplace = False).index.tolist()[0: 10]\n",
    "# \n",
    "best_tmp\n",
    "best_sale_frame.head(10)"
   ]
  },
  {
   "cell_type": "code",
   "execution_count": 306,
   "metadata": {
    "jupyter": {
     "outputs_hidden": false
    }
   },
   "outputs": [],
   "source": [
    "best_sale = list_best_sale('1992',20, best_sale_frame)"
   ]
  },
  {
   "cell_type": "code",
   "execution_count": 315,
   "metadata": {
    "jupyter": {
     "outputs_hidden": false
    }
   },
   "outputs": [],
   "source": [
    "best_sale1 = list_best_sale('42',20, best_sale_frame)"
   ]
  },
  {
   "cell_type": "code",
   "execution_count": 318,
   "metadata": {
    "jupyter": {
     "outputs_hidden": false
    }
   },
   "outputs": [],
   "source": [
    "list_index = best_sale.index.tolist()\n",
    "list_index1 = best_sale1.index.tolist()"
   ]
  },
  {
   "cell_type": "code",
   "execution_count": 319,
   "metadata": {
    "collapsed": true,
    "jupyter": {
     "outputs_hidden": true
    }
   },
   "outputs": [],
   "source": [
    "a = list(set(list_index) & set(list_index1))"
   ]
  },
  {
   "cell_type": "markdown",
   "metadata": {},
   "source": [
    "# Connect to Redis"
   ]
  },
  {
   "cell_type": "code",
   "execution_count": 14,
   "metadata": {
    "collapsed": true,
    "jupyter": {
     "outputs_hidden": true
    }
   },
   "outputs": [],
   "source": [
    "import redis\n",
    "from rediscluster import StrictRedisCluster\n",
    "# Requires at least one node for cluster discovery. Multiple nodes is recommended.\n",
    "startup_nodes = [{\"host\": \"10.1.12.30\", \"port\": \"16379\"}]\n",
    "rc = StrictRedisCluster(startup_nodes=startup_nodes, decode_responses=True)\n",
    "#!redis-cli -h 10.1.12.30 -p 16379 -c\n",
    "#rc.dbsize()"
   ]
  },
  {
   "cell_type": "code",
   "execution_count": 1,
   "metadata": {
    "jupyter": {
     "outputs_hidden": false
    }
   },
   "outputs": [],
   "source": [
    "#Add to redis\n",
    "for x in range(len(best_sale_frame.index)):\n",
    "    a = list_best_sale(best_sale_frame.index[x], 20, best_sale_frame)\n",
    "    for y in range(20):\n",
    "        rc.zadd(str('RD_ml_sale_'+best_sale_frame.index[x]), np.int(a.values[y]), str(a.index[y]))"
   ]
  },
  {
   "cell_type": "code",
   "execution_count": 313,
   "metadata": {
    "jupyter": {
     "outputs_hidden": false
    }
   },
   "outputs": [
    {
     "data": {
      "text/plain": [
       "[]"
      ]
     },
     "execution_count": 313,
     "metadata": {},
     "output_type": "execute_result"
    }
   ],
   "source": [
    "rc.zrangebyscore('RD_ml_sale_1992', 0, 1)"
   ]
  },
  {
   "cell_type": "code",
   "execution_count": 302,
   "metadata": {
    "collapsed": true,
    "jupyter": {
     "outputs_hidden": true
    }
   },
   "outputs": [],
   "source": [
    "#delete redis sorted set\n",
    "for x in range(len(best_sale_frame.index)):\n",
    "        rc.delete(str('RD_ml_sale'+best_sale_frame.index[x]))"
   ]
  },
  {
   "cell_type": "markdown",
   "metadata": {},
   "source": [
    "# recommended by product feature"
   ]
  },
  {
   "cell_type": "code",
   "execution_count": 11,
   "metadata": {
    "jupyter": {
     "outputs_hidden": false
    }
   },
   "outputs": [],
   "source": [
    "# data_final[data_final.Category == '42'].Ma_san_pham.tolist()"
   ]
  },
  {
   "cell_type": "code",
   "execution_count": 46,
   "metadata": {
    "jupyter": {
     "outputs_hidden": false
    }
   },
   "outputs": [],
   "source": [
    "def RDprofeature(dataframe, product_id = '74110', numofpro = 10, show = 0): \n",
    "    product = list(data['Ten san pham'][data['Ma san pham'] == product_id])\n",
    "    a = list_similar(product_id, numofpro, dataframe)\n",
    "    a_value = map(lambda x: np.str(x), list(a.index))#product_id\n",
    "    a_score = map(lambda x: float(x), list(a.values))\n",
    "    df_test = df2.loc[data['Ma san pham'].isin(a_value)]\n",
    "    df_test = df_test.sort_values('Ma san pham')\n",
    "    a = a.to_frame()\n",
    "    # a.sort_index()\n",
    "    a['Ma san pham']= a.index\n",
    "    a = a.sort('Ma san pham')\n",
    "\n",
    "    df_name = data[['Ma san pham', 'Ten san pham', 'Hang san xuat', 'Gia']][data['Ma san pham'].isin(a_value)]\n",
    "    df_name = df_name.sort('Ma san pham')\n",
    "    df_test = df_test.sort('Ma san pham')\n",
    "    df_test['Ten san pham'] = df_name['Ten san pham']\n",
    "    df_test['Ma san pham'] = df_name['Ma san pham']\n",
    "    df_test['Gia'] = df_name['Gia']\n",
    "    df_test['Score'] = list(a[product_id])\n",
    "    df_test = df_test.sort('Score')\n",
    "    if show == 0:\n",
    "        return df_test\n",
    "    elif show == 1:\n",
    "        print('san pham: {} - {}\\n'.format(product_id, product))\n",
    "        return df_test[['Ten san pham', 'Ma san pham', 'Gia', 'Score']]\n",
    "    else:\n",
    "        return df_test"
   ]
  },
  {
   "cell_type": "code",
   "execution_count": 10,
   "metadata": {
    "jupyter": {
     "outputs_hidden": false
    },
    "scrolled": true
   },
   "outputs": [],
   "source": [
    "# RDprofeature(dataframe_42, '87839',4, 1)"
   ]
  },
  {
   "cell_type": "code",
   "execution_count": 11,
   "metadata": {
    "jupyter": {
     "outputs_hidden": false
    }
   },
   "outputs": [],
   "source": [
    "# data[['Ten san pham', 'Gia']][data['Ma san pham'] == '87839']"
   ]
  },
  {
   "cell_type": "code",
   "execution_count": 12,
   "metadata": {
    "jupyter": {
     "outputs_hidden": false
    }
   },
   "outputs": [],
   "source": [
    "# data"
   ]
  },
  {
   "cell_type": "markdown",
   "metadata": {},
   "source": [
    "#     Testing Distance"
   ]
  },
  {
   "cell_type": "code",
   "execution_count": 265,
   "metadata": {
    "jupyter": {
     "outputs_hidden": false
    }
   },
   "outputs": [],
   "source": [
    "# from fuzzywuzzy import fuzz\n",
    "# from fuzzywuzzy import process"
   ]
  },
  {
   "cell_type": "code",
   "execution_count": 266,
   "metadata": {
    "code_folding": [
     0
    ],
    "jupyter": {
     "outputs_hidden": false
    }
   },
   "outputs": [],
   "source": [
    "# Testing Distance\n",
    "# dt = data_final[data_final.Category == '42']\n",
    "# ol = data_final[data_final.Category=='60']\n",
    "# fuzz_data = pd.DataFrame(index = dt['Ma_san_pham'].unique(), columns= ol['Ma_san_pham'].unique())\n",
    "# #asign values to dataframe\n",
    "# for dth in range(fuzz_data.shape[0]):\n",
    "#     for olu in range(fuzz_data.shape[1]):\n",
    "#         fuzz_data.iloc[dth][olu] = fuzz.partial_ratio(dt.Ten_san_pham.iloc[dth], ol.Ten_san_pham.iloc[olu])\n",
    "\n",
    "# #for x in fuzz_data.columns.values.tolist():86689\n",
    "# fuzz_data.loc[\"70258\"].sort(inplace = False)[-1:].values[0] > 68        \n",
    "\n",
    "# fuzz_data.loc['70258'].sort(inplace = False)[-1:].index.tolist()\n",
    "# ol.Ten_san_pham[ol.Ma_san_pham.isin(fuzz_data.loc['70258'].sort(inplace = False)[-1:].index.tolist())].values.tolist()[0]\n",
    "\n",
    "# dt['Op_lung'] = ''\n",
    "# for item in dt.Ma_san_pham.tolist():\n",
    "#     if fuzz_data.loc[item].sort(inplace = False)[-1:].values[0]> 60:\n",
    "#         dt.Op_lung[dt['Ma_san_pham'] == item] = ol.Ten_san_pham[ol.Ma_san_pham.isin(fuzz_data.loc[item].sort(inplace = False)[-1:].index.tolist())].values[0]\n",
    "#     else:\n",
    "#         dt.Op_lung[dt['Ma_san_pham'] == item] = \"\"\n",
    "        \n",
    "\n",
    "# #ol[ol.Ma_san_pham.isin(['91633', '90287', '91713','91635'])]\n",
    "# ol.Ten_san_pham[ol.Ma_san_pham.isin(['91585',\n",
    "# '91535',\n",
    "# '90285',\n",
    "# '90939',\n",
    "# '89671',\n",
    "# '89669',\n",
    "# '90287',\n",
    "# '90368',\n",
    "# '89482',\n",
    "# '90592',\n",
    "# '91638',\n",
    "# '90369',\n",
    "# '90938',\n",
    "# '91713',\n",
    "# '91388',\n",
    "# '91568',\n",
    "# '89673',\n",
    "# '89712',\n",
    "# '89597'])]        "
   ]
  },
  {
   "cell_type": "markdown",
   "metadata": {},
   "source": [
    "# Create table to save into DB"
   ]
  },
  {
   "cell_type": "code",
   "execution_count": 749,
   "metadata": {
    "jupyter": {
     "outputs_hidden": false
    }
   },
   "outputs": [],
   "source": [
    "# Just test, I think it not work...\n",
    "df = data[data['Category'].isin(['42', '44', '54','55','57','58'])]\n",
    "#drop all those columns like (value, value2, value3) where all rows have same values\n",
    "cols = list(df)\n",
    "nunique = df.apply(pd.Series.nunique)\n",
    "cols_to_drop = nunique[nunique == 1].index\n",
    "df = df.drop(cols_to_drop, axis=1)"
   ]
  },
  {
   "cell_type": "code",
   "execution_count": 750,
   "metadata": {
    "jupyter": {
     "outputs_hidden": false
    }
   },
   "outputs": [
    {
     "data": {
      "text/plain": [
       "(596, 180)"
      ]
     },
     "execution_count": 750,
     "metadata": {},
     "output_type": "execute_result"
    }
   ],
   "source": [
    "df.shape"
   ]
  },
  {
   "cell_type": "code",
   "execution_count": 802,
   "metadata": {
    "jupyter": {
     "outputs_hidden": false
    }
   },
   "outputs": [],
   "source": [
    "bf = db_test1"
   ]
  },
  {
   "cell_type": "code",
   "execution_count": 804,
   "metadata": {
    "jupyter": {
     "outputs_hidden": false
    }
   },
   "outputs": [],
   "source": [
    "bf['Ma san pham']=bf['Ma san pham'].apply(lambda x: int(x))"
   ]
  },
  {
   "cell_type": "code",
   "execution_count": 7,
   "metadata": {
    "jupyter": {
     "outputs_hidden": false
    },
    "scrolled": true
   },
   "outputs": [],
   "source": [
    "# set index for dataframe\n",
    "bf = bf.set_index(bf['Ma san pham'])\n",
    "del bf['Ma san pham']\n",
    "# bf.head()"
   ]
  },
  {
   "cell_type": "code",
   "execution_count": 806,
   "metadata": {
    "collapsed": true,
    "jupyter": {
     "outputs_hidden": true
    }
   },
   "outputs": [],
   "source": [
    "# normalize value to [0;1]\n",
    "bf -= bf.min()\n",
    "bf /= bf.max()"
   ]
  },
  {
   "cell_type": "code",
   "execution_count": 807,
   "metadata": {
    "jupyter": {
     "outputs_hidden": false
    }
   },
   "outputs": [],
   "source": [
    "b =pd.DataFrame(bf.unstack(level= -3))"
   ]
  },
  {
   "cell_type": "code",
   "execution_count": 808,
   "metadata": {
    "jupyter": {
     "outputs_hidden": false
    }
   },
   "outputs": [
    {
     "data": {
      "text/plain": [
       "pandas.core.frame.DataFrame"
      ]
     },
     "execution_count": 808,
     "metadata": {},
     "output_type": "execute_result"
    }
   ],
   "source": [
    "type(b)"
   ]
  },
  {
   "cell_type": "code",
   "execution_count": 809,
   "metadata": {
    "jupyter": {
     "outputs_hidden": false
    }
   },
   "outputs": [
    {
     "data": {
      "text/plain": [
       "(26360, 1)"
      ]
     },
     "execution_count": 809,
     "metadata": {},
     "output_type": "execute_result"
    }
   ],
   "source": [
    "b.shape"
   ]
  },
  {
   "cell_type": "code",
   "execution_count": 810,
   "metadata": {
    "jupyter": {
     "outputs_hidden": false
    }
   },
   "outputs": [],
   "source": [
    "b = b.reset_index()"
   ]
  },
  {
   "cell_type": "code",
   "execution_count": 811,
   "metadata": {
    "jupyter": {
     "outputs_hidden": false
    }
   },
   "outputs": [],
   "source": [
    "# convert string to np.nan\n",
    "b = b.applymap(lambda x: pd.to_numeric(x, errors='coerce') if(x =='nan') else x)\n",
    "# drop value is np.nan\n",
    "b = b.dropna(axis = 0, how= 'any')"
   ]
  },
  {
   "cell_type": "code",
   "execution_count": 812,
   "metadata": {
    "jupyter": {
     "outputs_hidden": false
    }
   },
   "outputs": [],
   "source": [
    "b = b.icol([1, 0 , 2])"
   ]
  },
  {
   "cell_type": "code",
   "execution_count": 813,
   "metadata": {
    "jupyter": {
     "outputs_hidden": false
    }
   },
   "outputs": [],
   "source": [
    "# set name for columns\n",
    "b.columns = ['ProductID', 'Property', 'Value']"
   ]
  },
  {
   "cell_type": "code",
   "execution_count": 8,
   "metadata": {
    "jupyter": {
     "outputs_hidden": false
    }
   },
   "outputs": [],
   "source": [
    "b[b['ProductID'] == 77866]"
   ]
  },
  {
   "cell_type": "code",
   "execution_count": 819,
   "metadata": {
    "collapsed": true,
    "jupyter": {
     "outputs_hidden": true
    }
   },
   "outputs": [],
   "source": [
    "#write to excel\n",
    "ew = pd.ExcelWriter('/home/tungrd/TA/recommenderr/save_db_test.xlsx', options={'encoding':'utf-8'})\n",
    "b.to_excel(ew, 'save_db_test')\n",
    "ew.save()\n",
    "\n",
    "# #read file excel\n",
    "# dataframe = pd.read_excel('/home/tungrd/TA/recommenderr/thesameall.xlsx', sheetname='thesameall', header = 0, index_col=0 )"
   ]
  },
  {
   "cell_type": "code",
   "execution_count": 867,
   "metadata": {
    "jupyter": {
     "outputs_hidden": false
    }
   },
   "outputs": [
    {
     "data": {
      "text/plain": [
       "(659, 40)"
      ]
     },
     "execution_count": 867,
     "metadata": {},
     "output_type": "execute_result"
    }
   ],
   "source": [
    "bf.shape"
   ]
  },
  {
   "cell_type": "code",
   "execution_count": 9,
   "metadata": {
    "jupyter": {
     "outputs_hidden": false
    }
   },
   "outputs": [],
   "source": [
    "#calculate the similarity for special CATE\n",
    "\n",
    "dataframe = pd.DataFrame(index = bf.index, columns= [np.arange(bf.shape[0])])\n",
    "for a in range(bf.shape[0]):\n",
    "    for b in range(df2.shape[0]):\n",
    "        dataframe.iloc[a][b] = similar(bf.iloc[a][:], bf.iloc[b][:])#length3\n",
    "        \n",
    "dataframe.columns = bf.index"
   ]
  },
  {
   "cell_type": "code",
   "execution_count": 936,
   "metadata": {
    "jupyter": {
     "outputs_hidden": false
    }
   },
   "outputs": [
    {
     "data": {
      "text/plain": [
       "0.27623934040049253"
      ]
     },
     "execution_count": 936,
     "metadata": {},
     "output_type": "execute_result"
    }
   ],
   "source": [
    "# length3(bf.loc[87649], bf.loc[60677])\n",
    "similar(bf.loc[87649], bf.loc[60677])"
   ]
  },
  {
   "cell_type": "code",
   "execution_count": 10,
   "metadata": {
    "jupyter": {
     "outputs_hidden": false
    }
   },
   "outputs": [],
   "source": [
    "#list_similar(id_produc, number_of_recommended_product)\n",
    "a = dataframe[75180].sort(inplace = False)[: 10]\n",
    "#a= dataframe_['76636'].sort(inplace = False)[:10]\n",
    "#review (change df2 or data is name of dataframe)\n",
    "a_value = map(lambda x: np.str(x), list(a.index))\n",
    "a_value = [int(x) for x in a_value]\n",
    "db_test1.loc[db_test1['Ma san pham'].isin(a_value)]\n",
    "# data_final.loc[data['Ma san pham'].isin(a_value)]"
   ]
  },
  {
   "cell_type": "code",
   "execution_count": 939,
   "metadata": {
    "jupyter": {
     "outputs_hidden": false
    }
   },
   "outputs": [],
   "source": [
    "a_value = [int(x) for x in a_value]\n",
    "a_value"
   ]
  },
  {
   "cell_type": "code",
   "execution_count": null,
   "metadata": {
    "collapsed": true,
    "jupyter": {
     "outputs_hidden": true
    }
   },
   "outputs": [],
   "source": []
  }
 ],
 "metadata": {
  "anaconda-cloud": {},
  "kernelspec": {
   "display_name": "Python 3",
   "language": "python",
   "name": "python3"
  },
  "language_info": {
   "codemirror_mode": {
    "name": "ipython",
    "version": 3
   },
   "file_extension": ".py",
   "mimetype": "text/x-python",
   "name": "python",
   "nbconvert_exporter": "python",
   "pygments_lexer": "ipython3",
   "version": "3.7.3"
  }
 },
 "nbformat": 4,
 "nbformat_minor": 4
}
