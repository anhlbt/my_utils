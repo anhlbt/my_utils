{
 "cells": [
  {
   "cell_type": "code",
   "execution_count": 2,
   "metadata": {},
   "outputs": [],
   "source": [
    "# !sudo pip install pymssql\n",
    "# !sudo pip install pydot\n",
    "# !sudo pip install pydotplus\n",
    "# !sudo pip install graphviz\n",
    "# !sudo apt-get install graphviz\n",
    "\n",
    "\n",
    "# 1 -Luot xem\n",
    "# 2 - Luot mua\n",
    "# 3 - Bo khoi gio hang\n",
    "# 4 - San pham xem lien truoc"
   ]
  },
  {
   "cell_type": "code",
   "execution_count": 291,
   "metadata": {},
   "outputs": [],
   "source": [
    "import os\n",
    "import networkx as nx\n",
    "import pandas as pd\n",
    "import time\n",
    "import sys\n",
    "reload(sys)\n",
    "sys.setdefaultencoding('utf-8')\n",
    "import numpy as np\n",
    "import re\n",
    "import json\n",
    "import datetime\n",
    "import dateutil.parser"
   ]
  },
  {
   "cell_type": "code",
   "execution_count": 296,
   "metadata": {},
   "outputs": [],
   "source": [
    "'''\n",
    "Created on 27 Mar 2016\n",
    "\n",
    "@author: lbtanh\n",
    "'''\n",
    "import pymssql\n",
    "from os import getenv\n",
    "server = \"10.1.12.197\"\n",
    "user = \"rd\"\n",
    "password = \"rd123456\"\n",
    "conn = pymssql.connect(server, user, password, \"RD\")\n",
    "cursor = conn.cursor(as_dict = True)\n"
   ]
  },
  {
   "cell_type": "code",
   "execution_count": 281,
   "metadata": {},
   "outputs": [
    {
     "data": {
      "text/plain": [
       "105.19970393180847"
      ]
     },
     "execution_count": 281,
     "metadata": {},
     "output_type": "execute_result"
    }
   ],
   "source": [
    "# select tracking data\n",
    "start = time.time()\n",
    "# tracking_data = 'use RD SELECT [COOKIE] ,[SESSION],[CREATEDTIME],[URL]  FROM [RD].[dbo].[TRACKINGDATA] where SITEID = 8'\n",
    "tracking_data = 'use RD SELECT [COOKIE] ,[SESSION],[CREATEDTIME], [RD].[dbo].[TRACKINGDATA].[URL], vuivui.Product.ProductID, vuivui.Product.CategoryID FROM [RD].[dbo].[TRACKINGDATA] left join [RD].[vuivui].[Product] on vuivui.Product.Url = RD.dbo.TRACKINGDATA.URL where SITEID = 8'\n",
    "cursor.execute(tracking_data)\n",
    "tracking_data = cursor.fetchall()\n",
    "tracking_data = pd.DataFrame(tracking_data)\n",
    "time.time() - start "
   ]
  },
  {
   "cell_type": "code",
   "execution_count": 297,
   "metadata": {
    "code_folding": []
   },
   "outputs": [],
   "source": [
    "\n",
    "hot_product = 'use RD SELECT RD.dbo.TRACKINGDATASUMMARIZE.ProductID, Price, SUM(Value) as Views, vuivui.Product.CategoryID FROM RD.dbo.TRACKINGDATASUMMARIZE join vuivui.Product on vuivui.Product.ProductID = RD.dbo.TRACKINGDATASUMMARIZE.ProductID where Type = 1  group by RD.dbo.TRACKINGDATASUMMARIZE.ProductID, RefProductID, Price, ProductName, vuivui.Product.CategoryID order by vuivui.Product.CategoryID,SUM(Value) desc'\n",
    "cursor.execute(hot_product)\n",
    "hot_product = cursor.fetchall()\n",
    "hot_product = pd.DataFrame(hot_product)"
   ]
  },
  {
   "cell_type": "code",
   "execution_count": 298,
   "metadata": {
    "collapsed": true
   },
   "outputs": [],
   "source": [
    "# get all product id in site vuivui.com\n",
    "list_product = 'use RD select ProductID from vuivui.Product'\n",
    "cursor.execute(list_product)\n",
    "list_product = cursor.fetchall()\n",
    "list_product = pd.DataFrame(list_product)"
   ]
  },
  {
   "cell_type": "code",
   "execution_count": 299,
   "metadata": {},
   "outputs": [],
   "source": [
    "conn.close()"
   ]
  },
  {
   "cell_type": "code",
   "execution_count": 293,
   "metadata": {},
   "outputs": [],
   "source": [
    "# select tracking table\n",
    "sql = \"SELECT RD.dbo.TRACKINGDATASUMMARIZE.ProductID, RefProductID, Price, ProductName, SUM(Value) as Views, vuivui.Product.CategoryID FROM RD.dbo.TRACKINGDATASUMMARIZE join vuivui.Product on vuivui.Product.ProductID = RD.dbo.TRACKINGDATASUMMARIZE.RefProductID where Type = 4 group by RD.dbo.TRACKINGDATASUMMARIZE.ProductID, RefProductID, Price, ProductName, vuivui.Product.CategoryID order by SUM(Value) desc\"\n",
    "sql1 = 'SELECT * FROM RD.dbo.TRACKINGDATASUMMARIZE where ProductID != RefProductID AND DayKey = 20170326 order by Value desc'\n",
    "cursor.execute(sql)\n",
    "a = cursor.fetchall()\n",
    "\n",
    "#get info product\n",
    "produc_cate = 'use RD SELECT [ProductID] ,[ProductName] ,[CategoryID] ,[Price] FROM [RD].[vuivui].[Product]'\n",
    "cursor.execute(produc_cate)\n",
    "info_product = cursor.fetchall()\n",
    "info_product_all = pd.DataFrame(info_product)\n",
    "info_product  = info_product_all.drop_duplicates()"
   ]
  },
  {
   "cell_type": "code",
   "execution_count": 294,
   "metadata": {
    "collapsed": true
   },
   "outputs": [],
   "source": [
    "conn.close()"
   ]
  },
  {
   "cell_type": "code",
   "execution_count": 295,
   "metadata": {},
   "outputs": [
    {
     "data": {
      "text/plain": [
       "(13754, 4)"
      ]
     },
     "execution_count": 295,
     "metadata": {},
     "output_type": "execute_result"
    }
   ],
   "source": [
    "info_product_all.shape"
   ]
  },
  {
   "cell_type": "code",
   "execution_count": 341,
   "metadata": {},
   "outputs": [],
   "source": [
    "# select product name in tracking\n",
    "# sql3 = 'use RD'\\\n",
    "# ' SELECT RefProductID, Price, ProductName'\\\n",
    "#   ' FROM RD.dbo.TRACKINGDATASUMMARIZE'\\\n",
    "#   ' join vuivui.Product on vuivui.Product.ProductID = RD.dbo.TRACKINGDATASUMMARIZE.RefProductID'\\\n",
    "#   ' group by RD.dbo.TRACKINGDATASUMMARIZE.ProductID, RefProductID, Price, ProductName'\n",
    "# cursor.execute(sql3)\n",
    "# c = cursor.fetchall()\n",
    "# name  = pd.DataFrame(c)\n",
    "# conn.close()"
   ]
  },
  {
   "cell_type": "code",
   "execution_count": 300,
   "metadata": {},
   "outputs": [],
   "source": [
    "data_graph = pd.DataFrame(a)\n",
    "data_graph = data_graph[data_graph['Price'] != -1]\n",
    "data_graph = data_graph[data_graph['Price'] != 0]\n",
    "\n",
    "test = data_graph[['ProductID','RefProductID', 'Views']]\n",
    "testA = data_graph#all dataset\n"
   ]
  },
  {
   "cell_type": "code",
   "execution_count": 302,
   "metadata": {},
   "outputs": [],
   "source": [
    "# testA = testA.rename(columns={'ProductName':'RefProductName'})\n",
    "# name  = name.drop_duplicates()\n",
    "# join \n",
    "testA = pd.merge(testA, info_product.iloc[:,],how = 'left', left_on = 'ProductID',right_on = 'ProductID')\n",
    "testA.rename(columns={'Price_x':'RefPrice', 'Price_y':'ProductPrice', 'CategoryID_x':'RefCategoryID', 'CategoryID_y':'CategoryID', 'ProductName_x':'RefProductName', 'ProductName_y':'ProductName'}, inplace=True)\n",
    "\n",
    "# drop NaN value in columns RefProductID\n",
    "testA = testA.dropna(axis = 0, how='any', subset = ['RefProductID', 'ProductID'])\n",
    "testA = testA.loc[:,['ProductID', 'ProductName', 'ProductPrice', 'RefProductID', 'RefProductName','RefPrice', 'Views', 'CategoryID', 'RefCategoryID']]"
   ]
  },
  {
   "cell_type": "markdown",
   "metadata": {},
   "source": [
    "# Remove accent Vietnamese"
   ]
  },
  {
   "cell_type": "code",
   "execution_count": 303,
   "metadata": {},
   "outputs": [],
   "source": [
    "def rmlistchar(text):\n",
    "    a = re.findall(r\"[^][)\\\"(']\", text)\n",
    "    a = ''.join(a)\n",
    "    return a\n",
    "\n",
    "# !pip install Graphviz\n",
    "# download version *.msi\n",
    "#remove accents vietnamese\n",
    "def remove_accents(text):\n",
    "    s1 = u'ÀÁÂÃÈÉÊÌÍÒÓÔÕÙÚÝàáâãèéêìíòóôõùúýĂăĐđĨĩŨũƠơƯưẠạẢảẤấẦầẨẩẪẫẬậẮắẰằẲẳẴẵẶặẸẹẺẻẼẽẾếỀềỂểỄễỆệỈỉỊịỌọỎỏỐốỒồỔổỖỗỘộỚớỜờỞởỠỡỢợỤụỦủỨứỪừỬửỮữỰựỲỳỴỵỶỷỸỹ'\n",
    "    s0 = u'AAAAEEEIIOOOOUUYaaaaeeeiioooouuyAaDdIiUuOoUuAaAaAaAaAaAaAaAaAaAaAaAaEeEeEeEeEeEeEeEeIiIiOoOoOoOoOoOoOoOoOoOoOoOoUuUuUuUuUuUuUuYyYyYyYy'\n",
    "#     s1.encode('utf-8')\n",
    "#     s0.encode('utf-8')\n",
    "    if text == np.nan or text == np.NAN or text == np.NaN:\n",
    "        return text\n",
    "    else:    \n",
    "        s = ''\n",
    "        text = str(text)\n",
    "        text = text.decode('utf-8')\n",
    "\n",
    "        for c in text:\n",
    "            if c in s1:\n",
    "                s += s0[s1.index(c)]\n",
    "            else:\n",
    "                s += c\n",
    "        return s.strip()\n",
    "\n",
    "    \n",
    "# remove accent and stopwords\n",
    "# ProductID\tProductName\tProductPrice\tRefProductID\tRefProductName\tRefPrice\tViews\n",
    "\n",
    "testA[['ProductName', 'RefProductName']] = testA[['ProductName', 'RefProductName']].applymap(remove_accents)\n",
    "testA[['ProductName', 'RefProductName']] = testA[['ProductName', 'RefProductName']].applymap(rmlistchar)\n",
    "\n",
    "# testA.iloc[:, 0] = testA.iloc[:,0].apply(lambda x: int(float(x)))#convert to int\n",
    "# testA.RefProductID = testA.RefProductID.apply(lambda x: int(float(x)))#convert to int\n",
    "# testA.iloc[:, 6] = testA.iloc[:,6].apply(lambda x: int(float(x)))#convert to int\n",
    "# testA.iloc[:, 7] = testA.iloc[:,7].apply(lambda x: int(float(x)))#convert to int\n",
    "# testA.iloc[:, 1] = testA.iloc[:, 1].apply(rmlistchar)\n",
    "# testA.iloc[:, 4] = testA.iloc[:, 4].apply(rmlistchar)    \n"
   ]
  },
  {
   "cell_type": "code",
   "execution_count": null,
   "metadata": {},
   "outputs": [],
   "source": [
    "# visual graph\n",
    "# test.cloumns = ['ProductID\tProductName\tProductPrice\tRefProductID\tRefProductName\tRefPrice\tViews']\n",
    "def drawn_graph(test):\n",
    "#     test = test.applymap(lambda x: int(x))\n",
    "\n",
    "    #write to file\n",
    "    f = open('demo.txt','w')\n",
    "    f.writelines('digraph G {\\nnode [width=.5,height=.3,style=filled,color=skyblue, fixedsize=false];\\noverlap=\"true\";\\nsize=\"1000\";\\nconcentrate=false;\\nrankdir=\"LR\";\\n')\n",
    "    f.writelines\n",
    "\n",
    "    for i in range(test.shape[0]):     \n",
    "        #get weight\n",
    "        weight = test.iloc[i][6]\n",
    "        if(weight < 1000):\n",
    "            clor = 'black'\n",
    "        elif weight < 2000:\n",
    "            clor = 'green'\n",
    "        elif weight < 4000:\n",
    "            clor = 'blue'\n",
    "        else:\n",
    "            clor = 'red'\n",
    "        #RefPrice\tProductID\tRefProductName\tRefProductID\tViews\tProductPrice\tProductName    \n",
    "        s= '      \"'+ str(test.iloc[i][1])+'\\n' + str(test.iloc[i][2])+'\"'\n",
    "        s +=  ' -> ' + '\"'+ str(test.iloc[i][4])+'\\n'+str(test.iloc[i][5])+'\"' + ' [label=\"' + str(weight) + '\",penwidth='+str(round(test.iloc[i][6]/2000, 2))+',color='+clor+']'\n",
    "        if s!='      '+ str(test.iloc[i][6]):\n",
    "            s+=';\\n'\n",
    "            f.writelines(s)\n",
    "\n",
    "    f.writelines('}')\n",
    "    f.close()\n",
    "\n",
    "    #generate graph image from graph text file\n",
    "#     os.system(\"dot -Tpng -odemo.png demo.txt\")\n"
   ]
  },
  {
   "cell_type": "code",
   "execution_count": null,
   "metadata": {},
   "outputs": [],
   "source": [
    "# drawn_graph(testA[:20])\n",
    "# # command line (cmd)\n",
    "# !dot -Tpng -x -odemo.png demo.txt"
   ]
  },
  {
   "cell_type": "code",
   "execution_count": null,
   "metadata": {},
   "outputs": [],
   "source": [
    "# try:\n",
    "#     import matplotlib.pyplot as plt\n",
    "# except:\n",
    "#     raise \n",
    "    \n",
    "# import networkx as nx\n",
    "\n",
    "# G=nx.path_graph(8)\n",
    "# nx.draw(G)\n",
    "# plt.savefig(\"simple_path.png\") # save as png\n",
    "# plt.show() # display\n",
    "# nx.nx_pydot.write_dot(G, 'writedot.txt')\n",
    "# G1 = nx.nx_pydot.read_dot('DiGraph.txt')"
   ]
  },
  {
   "cell_type": "code",
   "execution_count": null,
   "metadata": {},
   "outputs": [],
   "source": [
    "# G1 = nx.nx_pydot.read_dot('WeightGraph.txt')\n",
    "# type(G1)\n",
    "# G1.subgraph()"
   ]
  },
  {
   "cell_type": "code",
   "execution_count": null,
   "metadata": {},
   "outputs": [],
   "source": [
    "# # save image\n",
    "# import pygraphviz as pgv\n",
    "# from IPython.display import Image\n",
    "\n",
    "# G=pgv.AGraph('dotgraph.txt')\n",
    "# G.layout(prog = 'dot')\n",
    "# G.draw('testgraph1.png')\n",
    "# Image(filename='testgraph1.png') "
   ]
  },
  {
   "cell_type": "code",
   "execution_count": null,
   "metadata": {},
   "outputs": [],
   "source": [
    "# save dataframe to txt (edgelist format to read into networkx)\n",
    "# import numpy as np\n",
    "# np.savetxt(r'/home/tgdd/TA_69/recommenderr/tracklog.txt', df_tmp.values, fmt='%s', delimiter='\\t')\n",
    "\n",
    "# undirected graph\n",
    "# tracklog = nx.read_edgelist('tracklog.txt', nodetype=int, data=(('weight',int),))\n",
    "\n",
    "# nx.nx_pydot.write_dot(g, 'g.txt')\n",
    "# os.system(\"dot -Tpng -og.png g.txt\")"
   ]
  },
  {
   "cell_type": "markdown",
   "metadata": {},
   "source": [
    "# Create graph"
   ]
  },
  {
   "cell_type": "code",
   "execution_count": 304,
   "metadata": {
    "collapsed": true
   },
   "outputs": [],
   "source": [
    "# input: dataframe testA\n",
    "# create graph by ID\n",
    "def create_graph(test):\n",
    "    g = nx.DiGraph((raw['ProductID'], raw['RefProductID'], {'weight': raw['Views']}) for index, raw in test.iterrows())\n",
    "    return g\n",
    "\n",
    "# create graph by name\n",
    "def create_graph1(test):\n",
    "    g = nx.DiGraph((raw['ProductName'], raw['RefProductName'], {'weight': raw['Views'], 'label':str(raw['Views'])}) for index, raw in test.iterrows())\n",
    "    return g"
   ]
  },
  {
   "cell_type": "code",
   "execution_count": null,
   "metadata": {},
   "outputs": [],
   "source": [
    "# start = time.time()\n",
    "# g1 = create_graph1(testA[0: -1])\n",
    "# g = create_graph(testA[0: -1])\n",
    "# duration = time.time() - start\n",
    "# g1.edges()"
   ]
  },
  {
   "cell_type": "code",
   "execution_count": null,
   "metadata": {},
   "outputs": [],
   "source": [
    "duration"
   ]
  },
  {
   "cell_type": "markdown",
   "metadata": {},
   "source": [
    "# Get testdata"
   ]
  },
  {
   "cell_type": "code",
   "execution_count": null,
   "metadata": {},
   "outputs": [],
   "source": [
    "# get subgraph to test RD by mr.Tan\n",
    "# create new graph\n",
    "G1 = nx.DiGraph()#new graph\n",
    "for edge in g.in_edges([87839, 88540, 88397, 88537, 90342, 91748, 92015, 86689, 91751, 92073], data = True):\n",
    "    if len(edge) > 0 and float(edge[2]['weight']) > 100: #some nodes have zero edges going into it\n",
    "        G1.add_edge(edge[0], edge[1],weight= edge[2]['weight'])\n",
    "for edge in g.out_edges([87839, 88540, 88397, 88537, 90342, 91748, 92015, 86689, 91751, 92073], data = True):\n",
    "    if len(edge) > 0 and float(edge[2]['weight']) > 100: #some nodes have zero edges going into it\n",
    "        G1.add_edge(edge[0], edge[1],weight= edge[2]['weight'])   \n"
   ]
  },
  {
   "cell_type": "code",
   "execution_count": null,
   "metadata": {},
   "outputs": [],
   "source": [
    "list_it=pd.DataFrame(G1.edges())[0].tolist()\n",
    "list_it = list(set(list_it))"
   ]
  },
  {
   "cell_type": "code",
   "execution_count": null,
   "metadata": {},
   "outputs": [],
   "source": [
    "# pd.DataFrame(G1.edges(data = True))"
   ]
  },
  {
   "cell_type": "code",
   "execution_count": null,
   "metadata": {},
   "outputs": [],
   "source": [
    "# [86689,  92962, 91781, 72198, 91751, 86152, 89161, 73898, 88268, 74017]\n",
    "H = g.subgraph(list_it)\n",
    "nx.nx_pydot.write_dot(H, 'RD_AT.txt')"
   ]
  },
  {
   "cell_type": "code",
   "execution_count": null,
   "metadata": {},
   "outputs": [],
   "source": [
    "RD_AT= pd.DataFrame(H.edges(data= 'weight'))\n",
    "RD_AT.columns = ['ProductID', 'RefProductID', 'Views']"
   ]
  },
  {
   "cell_type": "code",
   "execution_count": null,
   "metadata": {},
   "outputs": [],
   "source": [
    "RD_AT=RD_AT.merge(name, how = 'left', left_on='ProductID', right_on='RefProductID')\n",
    "del RD_AT['RefProductID_y']\n",
    "RD_AT= RD_AT.merge(name, how = 'left', left_on='RefProductID_x', right_on='RefProductID')\n",
    "del RD_AT['RefProductID_x']\n",
    "RD_AT=RD_AT.rename(columns={'Price_x':'Price', 'ProductName_x': 'ProductName', 'Price_y': 'RefPrice', 'ProductName_y':'RefProductName'})\n"
   ]
  },
  {
   "cell_type": "code",
   "execution_count": null,
   "metadata": {},
   "outputs": [],
   "source": [
    "# create graph by dataframe\n",
    "H1 = nx.DiGraph((raw['ProductName'], raw['RefProductName'], {'weight': raw['Views'], 'label':str(raw['Views']), 'penwidth':1}) for index, raw in RD_AT.iterrows())\n",
    "# 'penwidth':str(round(raw['Views']/2000, 2))\n",
    "nx.nx_pydot.write_dot(H1, 'RD_AT1.txt')"
   ]
  },
  {
   "cell_type": "code",
   "execution_count": null,
   "metadata": {},
   "outputs": [],
   "source": [
    "list_test = [87839, 88540, 88397, 88537, 90342, 91748, 92015, 86689, 91751, 92073]\n",
    "# Get list item with property of them\n",
    "property_list = name[name['RefProductID'].isin(list_test)]#list_it or list_test\n",
    "ew = pd.ExcelWriter('/home/tgdd/TA_69/recommenderr/list_test.xlsx', options={'encoding':'utf-8'})\n",
    "property_list.to_excel(ew, 'list_test')\n",
    "ew.save()\n",
    "\n",
    "property_list=name[name['ProductID'].isin(list_it)]#list_it or list_test\n",
    "ew = pd.ExcelWriter('/home/tgdd/TA_69/recommenderr/list_property.xlsx', options={'encoding':'utf-8'})\n",
    "property_list.to_excel(ew, 'list_property')\n",
    "ew.save()\n"
   ]
  },
  {
   "cell_type": "code",
   "execution_count": null,
   "metadata": {
    "collapsed": true
   },
   "outputs": [],
   "source": []
  },
  {
   "cell_type": "markdown",
   "metadata": {},
   "source": [
    "# competing product (same or not same with branch)"
   ]
  },
  {
   "cell_type": "code",
   "execution_count": null,
   "metadata": {},
   "outputs": [],
   "source": [
    " # read into graph   \n",
    "testA.loc[:,['ProductID', 'RefProductID', 'Views']] = testA.loc[:,['ProductID', 'RefProductID', 'Views']].applymap(lambda x: int(float(x)))\n",
    "test1= testA.iloc[:200, ]\n"
   ]
  },
  {
   "cell_type": "code",
   "execution_count": null,
   "metadata": {},
   "outputs": [],
   "source": [
    "#read dataset ten_hang and normalize\n",
    "tenhang = pd.read_excel('/home/tgdd/TA_69/recommenderr/Property_vuivui.xlsx', sheetname='Sheet3', header = 0)\n",
    "#df = df.replace(np.NAN, 'Not available')"
   ]
  },
  {
   "cell_type": "code",
   "execution_count": null,
   "metadata": {},
   "outputs": [],
   "source": [
    "tenhang1 = tenhang.iloc[:, [0, 4]]\n",
    "tenhang1.columns = ['Ma san pham', 'Hang san xuat']\n",
    "test1 = test1.join(tenhang1.set_index('Ma san pham'), on = 'ProductID')\n",
    "test1 = test1.rename(columns = {'Hang san xuat':\"ProBranch\"})\n",
    "test1 = test1.join(tenhang1.set_index('Ma san pham'), on = 'RefProductID')\n",
    "test1 = test1.rename(columns = {'Hang san xuat':\"RefBranch\"})"
   ]
  },
  {
   "cell_type": "code",
   "execution_count": null,
   "metadata": {
    "collapsed": true
   },
   "outputs": [],
   "source": [
    "#to change competing_product have the same branch\n",
    "# test1 = test1[test1['ProBranch']==test1['RefBranch']]"
   ]
  },
  {
   "cell_type": "code",
   "execution_count": null,
   "metadata": {},
   "outputs": [],
   "source": [
    "test1 = test1.dropna(axis = 0, how='any', subset = ['ProBranch', 'RefBranch'])"
   ]
  },
  {
   "cell_type": "code",
   "execution_count": null,
   "metadata": {},
   "outputs": [],
   "source": [
    "g = nx.DiGraph((raw['ProductID'], raw['RefProductID'], {'weight': raw['Views'], 'label':str(raw['Views'])}) for index, raw in test1.iterrows())\n",
    "# print(g.edges(data=True))"
   ]
  },
  {
   "cell_type": "code",
   "execution_count": null,
   "metadata": {},
   "outputs": [],
   "source": [
    "# calculate: competing product \n",
    "tmp = []#list of tuple to write into Graph\n",
    "for node in g.nodes():\n",
    "    for out_node in g.successors(node):\n",
    "        if g.has_successor(out_node, node):\n",
    "            a = abs(g[node][out_node]['weight'] - g[out_node][node]['weight'])/(1.0 * max(g[node][out_node]['weight'],g[out_node][node]['weight']))\n",
    "            if a  < 0.25:# ratio between the number of Views of 2 product\n",
    "                tmp.append((node, out_node,g[node][out_node]['weight'], a))"
   ]
  },
  {
   "cell_type": "code",
   "execution_count": null,
   "metadata": {},
   "outputs": [],
   "source": [
    "# convert list of tuple to df\n",
    "tmp = sorted(tmp, key = lambda x: x[3], reverse= False)\n",
    "df_tmp = pd.DataFrame(tmp)\n",
    "df_tmp.columns = ['ProductID', 'RefProductID', 'Views', 'Weight']"
   ]
  },
  {
   "cell_type": "code",
   "execution_count": null,
   "metadata": {},
   "outputs": [],
   "source": [
    "#vlookup\n",
    "df_tmp = df_tmp.merge(name.iloc[:, 1:3], how = 'left', left_on='ProductID', right_on='RefProductID')\n",
    "del df_tmp['RefProductID_y']\n",
    "df_tmp = df_tmp.rename(columns={'RefProductID_x':'RefProductID'})\n",
    "df_tmp = df_tmp.merge(name.iloc[:, 1:3], how = 'left', left_on='RefProductID', right_on='RefProductID')"
   ]
  },
  {
   "cell_type": "code",
   "execution_count": null,
   "metadata": {},
   "outputs": [],
   "source": [
    "# df_tmp.iloc[:, [0, 1, 2]]= df_tmp.iloc[:, [0, 1, 2]].applymap(lambda x: int(x))\n",
    "df_tmp = df_tmp.iloc[:-1, ]#how many pair product do you want to get\n",
    "df_tmp = df_tmp.sort_values(['Weight', 'Views'])"
   ]
  },
  {
   "cell_type": "code",
   "execution_count": null,
   "metadata": {},
   "outputs": [],
   "source": [
    "# g1 = nx.DiGraph((raw['ProductName_x'], raw['ProductName_y'], {'weight': raw['Views'], 'label':(str(raw['Weight'])+'\\n'+str(raw['Views']))}) for index, raw in df_tmp.iterrows())\n",
    "# g1 = g1.to_undirected(reciprocal = True)\n",
    "\n",
    "# the same with two lines above\n",
    "df_tmp = df_tmp.iloc[::2]\n",
    "g1 = nx.Graph((raw['ProductName_x'], raw['ProductName_y'], {'weight': raw['Views'], 'label':(str(raw['Weight'])+'\\n'+str(raw['Views']))}) for index, raw in df_tmp.iterrows())\n",
    "\n",
    "nx.nx_pydot.write_dot(g1, 'RD_AT.txt')"
   ]
  },
  {
   "cell_type": "code",
   "execution_count": null,
   "metadata": {
    "collapsed": true
   },
   "outputs": [],
   "source": [
    "#"
   ]
  },
  {
   "cell_type": "code",
   "execution_count": 83,
   "metadata": {},
   "outputs": [],
   "source": [
    "#write to excel\n",
    "ew = pd.ExcelWriter('/home/tgdd/TA_69/recommenderr/cunghang.xlsx', options={'encoding':'utf-8'})\n",
    "df_tmp.to_excel(ew, 'cunghang')\n",
    "ew.save()\n",
    "\n",
    "# #read file excel\n",
    "# dataframe = pd.read_excel('/home/tungrd/TA/recommenderr/thesameall.xlsx', sheetname='thesameall', header = 0, index_col=0 )"
   ]
  },
  {
   "cell_type": "code",
   "execution_count": 106,
   "metadata": {},
   "outputs": [],
   "source": [
    "# can not install graphviz on ubuntu 16.04 server, \n",
    "# !dot -Tpng -x -ocunghang.png cunghang.txt\n",
    "# sorted(g1.edges('Samsung Galaxy A7 (2017)', data= 'weight'), key = lambda x: x[2], reverse= True)"
   ]
  },
  {
   "cell_type": "code",
   "execution_count": 185,
   "metadata": {
    "collapsed": true
   },
   "outputs": [],
   "source": [
    "#Cây khung, tra ve do thi, moi canh co trong so lon nhat\n",
    "G1 = nx.Graph()#new graph\n",
    "#for each node in nodes, add edges(u, v) into G1, which have the degree = max\n",
    "for node in g1.nodes():\n",
    "    edges = g1.edges(node, data=True)\n",
    "    if len(edges) > 0: #some nodes have zero edges going into it\n",
    "        max_weight = max([edge[2]['weight'] for edge in edges])\n",
    "        for edge in edges:\n",
    "            if edge[2]['weight'] == max_weight:\n",
    "                G1.add_edge(edge[0], edge[1],weight= edge[2]['weight'])\n",
    "                \n",
    "G1.edges(data = True)                "
   ]
  },
  {
   "cell_type": "code",
   "execution_count": 187,
   "metadata": {},
   "outputs": [
    {
     "data": {
      "text/plain": [
       "1752"
      ]
     },
     "execution_count": 187,
     "metadata": {},
     "output_type": "execute_result"
    }
   ],
   "source": [
    "G1.number_of_nodes()\n",
    "G1.number_of_selfloops()\n",
    "nx.nx_pydot.write_dot(G1, 'cunghang.txt')"
   ]
  },
  {
   "cell_type": "code",
   "execution_count": 159,
   "metadata": {
    "collapsed": true
   },
   "outputs": [],
   "source": [
    "# import networkx as nx\n",
    "\n",
    "# G = nx.Graph()\n",
    "# G.add_edge('A','B', weight=1.0)\n",
    "# G.add_edge('A','C', weight=1.0)\n",
    "# G.add_edge('A','D', weight=0.5)\n",
    "# G.add_edge('B','C', weight=0.9)\n",
    "# G.add_edge('B','D', weight=0.8)\n",
    "# G.add_edge('C','D', weight=0.9)\n",
    "\n",
    "# print \"all edges\"\n",
    "# print G.edges(data=True)\n",
    "\n",
    "# print \"edges >= 0.9\"\n",
    "# print [(u,v,d) for (u,v,d) in G.edges(data=True) if d['weight'] >= 0.9]\n",
    "\n",
    "# print \"sorted by weight\"\n",
    "# print sorted(G.edges(data=True), key=lambda (source,target,data): data['weight'])\n",
    "\n",
    "\n",
    "# G1 = nx.Graph()\n",
    "# for node in G.nodes():\n",
    "#     edges = G.edges(node, data=True)\n",
    "#     if len(edges) > 0: #some nodes have zero edges going into it\n",
    "#         max_weight = max([edge[2]['weight'] for edge in edges])\n",
    "#         for edge in edges:\n",
    "#             if edge[2]['weight'] == max_weight:\n",
    "#                 G1.add_edge(edge[0], edge[1],weight= edge[2]['weight'])\n",
    "                "
   ]
  },
  {
   "cell_type": "code",
   "execution_count": 164,
   "metadata": {},
   "outputs": [],
   "source": [
    "nx.nx_pydot.write_dot(a, 'a.txt')\n",
    "# # run command line\n",
    "# os.system(\"dot -Tpng -oa.png a.txt\")\n",
    "# a =nx.maximum_branching(g)"
   ]
  },
  {
   "cell_type": "code",
   "execution_count": null,
   "metadata": {
    "collapsed": true
   },
   "outputs": [],
   "source": [
    "# end"
   ]
  },
  {
   "cell_type": "code",
   "execution_count": 22,
   "metadata": {},
   "outputs": [],
   "source": [
    "# find root node of tree by recursion\n",
    "def find_root(G,node):\n",
    "    if G.predecessors(node):  #True if there is a predecessor, False otherwise\n",
    "        root = find_root(G,G.predecessors(node)[0])\n",
    "    else:\n",
    "        root = node\n",
    "    return root"
   ]
  },
  {
   "cell_type": "code",
   "execution_count": null,
   "metadata": {},
   "outputs": [],
   "source": [
    "#get limit time execute program\n",
    "import sys\n",
    "sys.getrecursionlimit()\n",
    "sys.setrecursionlimit(10000)\n",
    "find_root(g,74017)"
   ]
  },
  {
   "cell_type": "code",
   "execution_count": 11,
   "metadata": {},
   "outputs": [
    {
     "data": {
      "text/plain": [
       "[92082, 80639]"
      ]
     },
     "execution_count": 11,
     "metadata": {},
     "output_type": "execute_result"
    }
   ],
   "source": [
    "# find root node\n",
    "[n for n,d in g.in_degree().items() if d==0] "
   ]
  },
  {
   "cell_type": "code",
   "execution_count": null,
   "metadata": {
    "collapsed": true
   },
   "outputs": [],
   "source": [
    "# we need to solve: find root node, or in_degree is smallest and out_degree is largest"
   ]
  },
  {
   "cell_type": "markdown",
   "metadata": {},
   "source": [
    "# Test hang"
   ]
  },
  {
   "cell_type": "code",
   "execution_count": 217,
   "metadata": {},
   "outputs": [],
   "source": [
    "#read dataset and normalize\n",
    "data_ = pd.read_excel('/home/tgdd/TA_69/recommenderr/Property_vuivui.xlsx', sheetname='by_branch', header = 0)\n",
    "#df = df.replace(np.NAN, 'Not available')"
   ]
  },
  {
   "cell_type": "code",
   "execution_count": 383,
   "metadata": {},
   "outputs": [],
   "source": [
    "data_hang = data_[data_['Total']>1000]\n"
   ]
  },
  {
   "cell_type": "code",
   "execution_count": 238,
   "metadata": {},
   "outputs": [
    {
     "data": {
      "text/plain": [
       "32512"
      ]
     },
     "execution_count": 238,
     "metadata": {},
     "output_type": "execute_result"
    }
   ],
   "source": [
    "# data_hang['Total'].groupby([data_hang['Branch'], data_hang['RefBranch']]).sum()\n",
    "g_hang = nx.DiGraph((raw['Branch'], raw['RefBranch'], {'weight': raw['Total'], 'label':str(raw['Total'])}) for index, raw in data_hang.iterrows())\n",
    "# print(g.edges(data=True))\n",
    "nx.nx_pydot.write_dot(g_hang, 'g_hang.txt')\n",
    "os.system(\"dot -Tpng -og_hang.png g_hang.txt\")\n"
   ]
  },
  {
   "cell_type": "code",
   "execution_count": 239,
   "metadata": {},
   "outputs": [],
   "source": [
    "# Remove selfloop egdes\n",
    "for node in g_hang.nodes():\n",
    "    if(g_hang.has_edge(node, node)):\n",
    "        g_hang.remove_edge(node, node)"
   ]
  },
  {
   "cell_type": "code",
   "execution_count": 240,
   "metadata": {
    "collapsed": true
   },
   "outputs": [],
   "source": [
    "G1 = nx.DiGraph()#new graph\n",
    "#for each node in nodes, add edges(u, v) into G1, which have the degree = max\n",
    "for node in g_hang.nodes():\n",
    "    edges = g_hang.out_edges(node, data=True)\n",
    "    if len(edges) > 0: #some nodes have zero edges going into it\n",
    "        max_weight = max([edge[2]['weight'] for edge in edges])\n",
    "        for edge in edges:\n",
    "            if edge[2]['weight'] == max_weight:\n",
    "                G1.add_edge(edge[0], edge[1],weight= edge[2]['weight'])"
   ]
  },
  {
   "cell_type": "markdown",
   "metadata": {
    "collapsed": true
   },
   "source": [
    "# Plot data"
   ]
  },
  {
   "cell_type": "code",
   "execution_count": 581,
   "metadata": {},
   "outputs": [],
   "source": [
    "# import numpy as np\n",
    "# ts = pd.Series(np.random.randn(1000), index=pd.date_range('1/1/2000', periods=1000))\n",
    "# ts = ts.cumsum()\n",
    "# ts.plot()\n",
    "# plt.show()"
   ]
  },
  {
   "cell_type": "code",
   "execution_count": 64,
   "metadata": {},
   "outputs": [
    {
     "data": {
      "text/plain": [
       "<matplotlib.figure.Figure at 0x7f1340663710>"
      ]
     },
     "metadata": {},
     "output_type": "display_data"
    },
    {
     "data": {
      "image/png": "[encoded data removed]",
      "text/plain": [
       "<matplotlib.figure.Figure at 0x7f13425f3810>"
      ]
     },
     "metadata": {},
     "output_type": "display_data"
    }
   ],
   "source": [
    "import pandas as pd\n",
    "import matplotlib.pyplot as plt\n",
    "import numpy as np\n",
    "\n",
    "df = pd.DataFrame(np.random.randn(1000, 4), index = ts.index, columns=list('ABCD'))\n",
    "\n",
    "df = df.cumsum(axis = 0)\n",
    "plt.figure(); df.plot(); plt.legend(loc='best')\n",
    "plt.show()"
   ]
  },
  {
   "cell_type": "code",
   "execution_count": 582,
   "metadata": {},
   "outputs": [],
   "source": [
    "# df.plot(subplots=True, figsize=(6, 6)); plt.legend(loc='best')\n",
    "# plt.show()"
   ]
  },
  {
   "cell_type": "code",
   "execution_count": 251,
   "metadata": {},
   "outputs": [],
   "source": [
    "tmp_plot = plot_data.iloc[:-1,:]\n",
    "tmp_plot = tmp_plot[tmp_plot['DayKey']!=0]\n",
    "tmp_plot = tmp_plot[tmp_plot['DayKey']!=20170322]\n",
    "tmp_plot.DayKey = tmp_plot.DayKey.apply(lambda x: str(x))\n",
    "tmp_plot.DayKey= tmp_plot.DayKey.str[0:4] +'-'+tmp_plot.DayKey.str[4:6] +'-'+tmp_plot.DayKey.str[6:8]\n",
    "tmp_plot.DayKey = tmp_plot.DayKey.apply(lambda x: pd.Timestamp(x))\n"
   ]
  },
  {
   "cell_type": "code",
   "execution_count": 252,
   "metadata": {},
   "outputs": [],
   "source": [
    "# ========================= write to file ===================================================\n",
    "#Get Views Info by Date,\n",
    "# [86689,  92962, 91781, 72198, 91751, 86152, 89161, 73898, 88268, 74017]\n",
    "tmp_plot = tmp_plot[tmp_plot['ProductID'].isin(list_it)\n",
    "         & (tmp_plot['Value']>0)\n",
    "         & tmp_plot['RefProductID'].isin(list_it)]\n",
    "#write to excel, number of views\n",
    "ew = pd.ExcelWriter('/home/tgdd/TA_69/recommenderr/info10_view.xlsx', options={'encoding':'utf-8'})\n",
    "tmp_plot.to_excel(ew, 'info10_view')\n",
    "ew.save()"
   ]
  },
  {
   "cell_type": "code",
   "execution_count": 25,
   "metadata": {},
   "outputs": [],
   "source": [
    "#Get info of list _ product\n",
    "data = pd.read_excel('/home/tgdd/TA_69/recommenderr/Property_vuivui.xlsx', sheetname='Sheet3', header = 0)\n",
    "data= data.rename(columns={' Category':'Category'})\n",
    "df = data[data['Category'] == 42]\n",
    "nunique = df.apply(pd.Series.nunique)\n",
    "cols_to_drop = nunique[nunique == 1].index\n",
    "df = df.drop(cols_to_drop, axis=1)\n",
    "df = df.dropna(axis = 1, how='all')\n",
    "info10 = df\n",
    "# info10 = df[df.icol(0).isin(list_it)]\n",
    "# info10 = info10.dropna(axis = 1, how='all')"
   ]
  },
  {
   "cell_type": "code",
   "execution_count": null,
   "metadata": {
    "collapsed": true
   },
   "outputs": [],
   "source": []
  },
  {
   "cell_type": "code",
   "execution_count": 29,
   "metadata": {},
   "outputs": [],
   "source": [
    "# get product property \n",
    "info10 = info10[[u'Mã sản phẩm', u'Tên sản phẩm',  u'Hãng sản xuất', u' Giá', u'RAM',u'Tốc độ CPU',u'Màn hình rộng', u'Chipset (hãng SX CPU)', u'Bộ nhớ trong']]\n",
    "info10[u'Chipset (hãng SX CPU)']= info10[u'Chipset (hãng SX CPU)'].apply(remove_accents)\n",
    "def sonhan(text):\n",
    "    var1 = re.findall(r\"\\d\\ nhan\", str(text))\n",
    "    if len(var1)>0:\n",
    "        var1 = var1[0]\n",
    "    else:\n",
    "        var1 = np.nan\n",
    "    return var1\n",
    "\n",
    "def manhinh(text):\n",
    "    var1 = re.findall(r\"\\d+\\.?\\d*\", str(text))\n",
    "    if len(var1)>0:\n",
    "        var1 = var1[0]\n",
    "    else:\n",
    "        var1 = ''\n",
    "    return var1\n",
    "\n",
    "def cpu(text):\n",
    "    var1 = re.findall(r\"\\d+\\.?\\d* GHz\", str(text))\n",
    "    if len(var1)>0:\n",
    "        var1 = var1[0]\n",
    "    else:\n",
    "        var1 = ''\n",
    "    return var1\n",
    "    \n",
    "\n",
    "info10['So nhan'] = info10[u'Chipset (hãng SX CPU)'].apply(sonhan)\n",
    "info10['Man hinh rong'] = info10[u'Màn hình rộng'].apply(manhinh)\n",
    "#write to excel\n",
    "\n",
    "ew = pd.ExcelWriter('/home/tgdd/TA_69/recommenderr/info10.xlsx', options={'encoding':'utf-8'})\n",
    "info10.to_excel(ew, 'info10')\n",
    "ew.save()\n",
    "\n",
    "# ===================================== the ends (write to file) =============================="
   ]
  },
  {
   "cell_type": "code",
   "execution_count": 42,
   "metadata": {},
   "outputs": [],
   "source": [
    "# aggregations = {\n",
    "#     'duration': { # work on the \"duration\" column\n",
    "#         'total_duration': 'sum',  # get the sum, and call this result 'total_duration'\n",
    "#         'average_duration': 'mean', # get mean, call result 'average_duration'\n",
    "#         'num_calls': 'count'\n",
    "#     },\n",
    "#     'date': {     # Now work on the \"date\" column\n",
    "#         'max_date': 'max',   # Find the max, call the result \"max_date\"\n",
    "#         'min_date': 'min',\n",
    "#         'num_days': lambda x: max(x) - min(x)  # Calculate the date range per group\n",
    "#     },\n",
    "#     'network': [\"count\", \"max\"]  # Calculate two results for the 'network' column with a list\n",
    "# }\n",
    " \n",
    "# # Perform groupby aggregation by \"month\", but only on the rows that are of type \"call\"\n",
    "# data[data['item'] == 'call'].groupby('month').agg(aggregations)\n",
    "\n",
    "# # Group the data frame by month and item and extract a number of stats from each group\n",
    "# data.groupby(['month', 'item']).agg({'duration':sum,      # find the sum of the durations for each group\n",
    "#                                      'network_type': \"count\", # find the number of network type entries\n",
    "#                                      'date': 'first'})    # get the first date per group"
   ]
  },
  {
   "cell_type": "code",
   "execution_count": 53,
   "metadata": {},
   "outputs": [
    {
     "name": "stderr",
     "output_type": "stream",
     "text": [
      "/usr/local/lib/python2.7/dist-packages/ipykernel/__main__.py:3: FutureWarning: sort(columns=....) is deprecated, use sort_values(by=.....)\n",
      "  app.launch_new_instance()\n"
     ]
    }
   ],
   "source": [
    "#groupby ProductID\n",
    "groupbyID = tmp_plot.groupby(['ProductID']).agg({'Value':sum})\n",
    "groupbyID=groupbyID.sort(columns='Value', ascending=False)\n",
    "list_draw= groupbyID.head(10).index.tolist() #number of product to drawn"
   ]
  },
  {
   "cell_type": "code",
   "execution_count": 54,
   "metadata": {},
   "outputs": [],
   "source": [
    "grouped = tmp_plot.groupby(['DayKey','ProductID','RefProductID']).agg({'Value':sum})\n",
    "# grouped.get_group('20170418')  \n",
    "# grouped = dict(list(grouped))\n",
    "grouped = grouped.reset_index()\n",
    "grouped =grouped.set_index(grouped['DayKey'])"
   ]
  },
  {
   "cell_type": "code",
   "execution_count": 55,
   "metadata": {},
   "outputs": [],
   "source": [
    "#\n",
    "list_name = pd.DataFrame(list_draw, columns= ['RefProductID'])\n",
    "list_name = list_name.merge(name[['RefProductID','ProductName']], how='left', on= 'RefProductID')"
   ]
  },
  {
   "cell_type": "code",
   "execution_count": 56,
   "metadata": {},
   "outputs": [],
   "source": [
    "df = grouped.pivot_table(values= 'Value', index = 'DayKey', columns='ProductID', fill_value=0)\n"
   ]
  },
  {
   "cell_type": "code",
   "execution_count": 57,
   "metadata": {},
   "outputs": [],
   "source": [
    "# tmp_plot[tmp_plot['DayKey']=='20170419'][tmp_plot['ProductID']==98826]\n",
    "# tmp = grouped[grouped['ProductID']==92569][[ 'Value']]\n",
    "df = df[list_draw[0:10]]\n",
    "df.columns = list_name.ProductName[0:10]\n"
   ]
  },
  {
   "cell_type": "code",
   "execution_count": 58,
   "metadata": {},
   "outputs": [
    {
     "ename": "NameError",
     "evalue": "name 'plt' is not defined",
     "output_type": "error",
     "traceback": [
      "\u001b[0;31m---------------------------------------------------------------------------\u001b[0m",
      "\u001b[0;31mNameError\u001b[0m                                 Traceback (most recent call last)",
      "\u001b[0;32m<ipython-input-58-2529bf080868>\u001b[0m in \u001b[0;36m<module>\u001b[0;34m()\u001b[0m\n\u001b[0;32m----> 1\u001b[0;31m \u001b[0mplt\u001b[0m\u001b[0;34m.\u001b[0m\u001b[0mfigure\u001b[0m\u001b[0;34m(\u001b[0m\u001b[0mfigsize\u001b[0m \u001b[0;34m=\u001b[0m \u001b[0;34m(\u001b[0m\u001b[0;36m30\u001b[0m\u001b[0;34m,\u001b[0m \u001b[0;36m30\u001b[0m\u001b[0;34m)\u001b[0m\u001b[0;34m)\u001b[0m\u001b[0;34m;\u001b[0m \u001b[0mdf\u001b[0m\u001b[0;34m.\u001b[0m\u001b[0mplot\u001b[0m\u001b[0;34m(\u001b[0m\u001b[0;34m)\u001b[0m\u001b[0;34m\u001b[0m\u001b[0m\n\u001b[0m\u001b[1;32m      2\u001b[0m \u001b[0;34m\u001b[0m\u001b[0m\n\u001b[1;32m      3\u001b[0m \u001b[0;31m# plt.legend(loc='best')\u001b[0m\u001b[0;34m\u001b[0m\u001b[0;34m\u001b[0m\u001b[0m\n\u001b[1;32m      4\u001b[0m \u001b[0mplt\u001b[0m\u001b[0;34m.\u001b[0m\u001b[0mlegend\u001b[0m\u001b[0;34m(\u001b[0m\u001b[0mloc\u001b[0m\u001b[0;34m=\u001b[0m\u001b[0;34m'upper center'\u001b[0m\u001b[0;34m,\u001b[0m \u001b[0mbbox_to_anchor\u001b[0m\u001b[0;34m=\u001b[0m\u001b[0;34m(\u001b[0m\u001b[0;36m0.5\u001b[0m\u001b[0;34m,\u001b[0m \u001b[0;34m-\u001b[0m\u001b[0;36m0.25\u001b[0m\u001b[0;34m)\u001b[0m\u001b[0;34m,\u001b[0m \u001b[0mfancybox\u001b[0m\u001b[0;34m=\u001b[0m\u001b[0mTrue\u001b[0m\u001b[0;34m,\u001b[0m \u001b[0mshadow\u001b[0m\u001b[0;34m=\u001b[0m\u001b[0mTrue\u001b[0m\u001b[0;34m,\u001b[0m \u001b[0mncol\u001b[0m\u001b[0;34m=\u001b[0m\u001b[0;36m5\u001b[0m\u001b[0;34m)\u001b[0m\u001b[0;34m\u001b[0m\u001b[0m\n\u001b[1;32m      5\u001b[0m \u001b[0mplt\u001b[0m\u001b[0;34m.\u001b[0m\u001b[0mshow\u001b[0m\u001b[0;34m(\u001b[0m\u001b[0;34m)\u001b[0m\u001b[0;34m\u001b[0m\u001b[0m\n",
      "\u001b[0;31mNameError\u001b[0m: name 'plt' is not defined"
     ]
    }
   ],
   "source": [
    "plt.figure(figsize = (30, 30)); df.plot()\n",
    "\n",
    "# plt.legend(loc='best')\n",
    "plt.legend(loc='upper center', bbox_to_anchor=(0.5, -0.25), fancybox=True, shadow=True, ncol=5)\n",
    "plt.show()"
   ]
  },
  {
   "cell_type": "code",
   "execution_count": null,
   "metadata": {
    "collapsed": true
   },
   "outputs": [],
   "source": [
    "## tmp.plot()\n",
    "# plt.axis('normal')\n",
    "plt.xticks(tmp.index, rotation='vertical')\n",
    "\n",
    "plt.show()"
   ]
  },
  {
   "cell_type": "markdown",
   "metadata": {},
   "source": [
    "### initial graph"
   ]
  },
  {
   "cell_type": "code",
   "execution_count": 34,
   "metadata": {},
   "outputs": [],
   "source": [
    "tmpID = info_product\n",
    "categoryID = tmpID.CategoryID.unique().tolist()\n",
    "# testA[(testA.CategoryID == 42) & (testA.RefCategoryID == 42)].shape"
   ]
  },
  {
   "cell_type": "code",
   "execution_count": 86,
   "metadata": {},
   "outputs": [],
   "source": [
    "#create multiple varibles, format cate_42\n",
    "#each category have \n",
    "#strvar = 'cate_'+str(cate)+ '= testA[testA.CategoryID =='+str(cate)+']'\n",
    "for cate in categoryID:\n",
    "    exec('cate_'+str(cate)+ '= testA[(testA.CategoryID =='+str(cate)+ ') & (testA.RefCategoryID ==' +str(cate)+')]')\n",
    "    exec('g_'+str(cate)+ '= create_graph(cate_'+str(cate)+')')"
   ]
  },
  {
   "cell_type": "markdown",
   "metadata": {
    "collapsed": true
   },
   "source": [
    "# recommended by hot products"
   ]
  },
  {
   "cell_type": "code",
   "execution_count": null,
   "metadata": {
    "collapsed": true
   },
   "outputs": [],
   "source": [
    "# # nx.set_node_attributes(g,1, 'test_' )\n",
    "# G = nx.Graph()\n",
    "# # ... build or do whatever to the graph\n",
    "# nodes = filter(lambda (n, d): d['color'] == 'red', G.nodes_iter(data=True))\n",
    "# subgraph = G.subgraph(nodes)"
   ]
  },
  {
   "cell_type": "code",
   "execution_count": 146,
   "metadata": {},
   "outputs": [],
   "source": [
    "#return list of product have the Price difference less than #threshold_Price_Percent\n",
    "# dataframe have format: ProductID | Weight | Price\n",
    "# \n",
    "def Price_threshold(product_id, numofpro, df, info_product,threshold_Percent = 0.15, threshold_Views =10):\n",
    "    cate_pro = int(info_product['CategoryID'][info_product['ProductID']==product_id])\n",
    "    df = df[df['CategoryID']==cate_pro]\n",
    "#     g = create_graph(df[:-1])\n",
    "#     degree_weight = pd.DataFrame(g.degree(weight='weight').items())\n",
    "#     degree_weight.columns = ['ProductID', 'Weight']\n",
    "#     degree_weight=degree_weight.sort_values('Weight',axis=0, ascending=False)\n",
    "#     degree_weight = degree_weight[degree_weight['Weight']>threshold_Views]\n",
    "#     df_hot_list = degree_weight.merge(info_product[['ProductID', 'Price']], how ='left', left_on='ProductID', right_on='ProductID')\n",
    "\n",
    "#     df_hot_list.Price = df_hot_list.Price.map(lambda x: float(x))\n",
    "\n",
    "    product_Price = float(info_product[info_product['ProductID']==product_id]['Price'])\n",
    "    list_Item = [raw for index, raw in df.iterrows() if abs(raw['Price'] - product_Price)/product_Price < threshold_Percent]\n",
    "    result = pd.DataFrame(list_Item[:numofpro]).sort(columns = ['Views'], ascending = False)\n",
    "#     return result[result.ProductID != product_id].ProductID.tolist()\n",
    "    return result[result.ProductID != product_id]\n"
   ]
  },
  {
   "cell_type": "code",
   "execution_count": 149,
   "metadata": {},
   "outputs": [
    {
     "data": {
      "text/html": [
       "<div>\n",
       "<table border=\"1\" class=\"dataframe\">\n",
       "  <thead>\n",
       "    <tr style=\"text-align: right;\">\n",
       "      <th></th>\n",
       "      <th>CategoryID</th>\n",
       "      <th>Price</th>\n",
       "      <th>ProductID</th>\n",
       "      <th>Views</th>\n",
       "      <th>ProductName</th>\n",
       "    </tr>\n",
       "  </thead>\n",
       "  <tbody>\n",
       "    <tr>\n",
       "      <th>0</th>\n",
       "      <td>1943.0</td>\n",
       "      <td>5380000.0</td>\n",
       "      <td>84916.0</td>\n",
       "      <td>27162.0</td>\n",
       "      <td>Tủ lạnh Panasonic NR-BA178PSVN</td>\n",
       "    </tr>\n",
       "    <tr>\n",
       "      <th>1</th>\n",
       "      <td>1943.0</td>\n",
       "      <td>6160000.0</td>\n",
       "      <td>84922.0</td>\n",
       "      <td>18560.0</td>\n",
       "      <td>Tủ lạnh Panasonic NR-BA228PSVN</td>\n",
       "    </tr>\n",
       "    <tr>\n",
       "      <th>2</th>\n",
       "      <td>1943.0</td>\n",
       "      <td>5690000.0</td>\n",
       "      <td>71398.0</td>\n",
       "      <td>18028.0</td>\n",
       "      <td>Tủ lạnh LG GN-L205PS 189 lít</td>\n",
       "    </tr>\n",
       "    <tr>\n",
       "      <th>3</th>\n",
       "      <td>1943.0</td>\n",
       "      <td>5990000.0</td>\n",
       "      <td>71397.0</td>\n",
       "      <td>13709.0</td>\n",
       "      <td>Tủ lạnh LG GN-L205BS 189 lít</td>\n",
       "    </tr>\n",
       "    <tr>\n",
       "      <th>4</th>\n",
       "      <td>1943.0</td>\n",
       "      <td>6160000.0</td>\n",
       "      <td>80735.0</td>\n",
       "      <td>8164.0</td>\n",
       "      <td>Tủ lạnh Aqua 204 lít AQR-I226BN</td>\n",
       "    </tr>\n",
       "  </tbody>\n",
       "</table>\n",
       "</div>"
      ],
      "text/plain": [
       "   CategoryID      Price  ProductID    Views                      ProductName\n",
       "0      1943.0  5380000.0    84916.0  27162.0   Tủ lạnh Panasonic NR-BA178PSVN\n",
       "1      1943.0  6160000.0    84922.0  18560.0   Tủ lạnh Panasonic NR-BA228PSVN\n",
       "2      1943.0  5690000.0    71398.0  18028.0     Tủ lạnh LG GN-L205PS 189 lít\n",
       "3      1943.0  5990000.0    71397.0  13709.0     Tủ lạnh LG GN-L205BS 189 lít\n",
       "4      1943.0  6160000.0    80735.0   8164.0  Tủ lạnh Aqua 204 lít AQR-I226BN"
      ]
     },
     "execution_count": 149,
     "metadata": {},
     "output_type": "execute_result"
    }
   ],
   "source": [
    "list_hot_pro = Price_threshold(74645, 5, hot_product, info_product)\n",
    "list_hot_pro = list_hot_pro.merge(info_product[['ProductID', u'ProductName']], how='left', left_on='ProductID', right_on='ProductID')\n",
    "list_hot_pro"
   ]
  },
  {
   "cell_type": "markdown",
   "metadata": {},
   "source": [
    "# recommended by tracking data"
   ]
  },
  {
   "cell_type": "code",
   "execution_count": 475,
   "metadata": {
    "collapsed": true
   },
   "outputs": [],
   "source": [
    "# return \n",
    "def out_graph(df, info_product, productid, numofpro, typegraph = 'out'):\n",
    "    # return list of tuples which was sorted by weight out edges\n",
    "    cate_pro = int(info_product['CategoryID'][info_product['ProductID']==productid])\n",
    "#     df = df[df['CategoryID']==cate_pro]\n",
    "#     g = create_graph(df[:-1])\n",
    "    exec('g=g_'+str(cate_pro))\n",
    "    if typegraph == 'out':\n",
    "        df_weight = pd.DataFrame(g.out_edges(productid, data='weight'))\n",
    "        df_weight.columns = ['ProductID','RefProductID', 'Views']\n",
    "        df_weight=df_weight.sort(columns = ['Views'], ascending = False)[:numofpro]\n",
    "#         tmp = testA[testA.columns][testA.RefProductID.isin(df_weight['RefProductID'])]\n",
    "#         return tmp[tmp.ProductID == productid]\n",
    "    else:\n",
    "        df_weight = pd.DataFrame(g.in_edges(productid, data='weight'))\n",
    "        df_weight.columns = ['ProductID','RefProductID', 'Views']\n",
    "        df_weight=df_weight.sort(columns = ['Views'], ascending = False)[:numofpro]\n",
    "#         tmp = testA[testA.columns][testA.ProductID.isin(df_weight['ProductID'])]\n",
    "#         return tmp[tmp.RefProductID == productid]\n",
    "    #sorted by \n",
    "    return df_weight"
   ]
  },
  {
   "cell_type": "code",
   "execution_count": 476,
   "metadata": {},
   "outputs": [
    {
     "data": {
      "text/html": [
       "<div>\n",
       "<table border=\"1\" class=\"dataframe\">\n",
       "  <thead>\n",
       "    <tr style=\"text-align: right;\">\n",
       "      <th></th>\n",
       "      <th>ProductID</th>\n",
       "      <th>RefProductID</th>\n",
       "      <th>Views</th>\n",
       "    </tr>\n",
       "  </thead>\n",
       "  <tbody>\n",
       "    <tr>\n",
       "      <th>54</th>\n",
       "      <td>84916</td>\n",
       "      <td>71398</td>\n",
       "      <td>1180.0</td>\n",
       "    </tr>\n",
       "    <tr>\n",
       "      <th>3</th>\n",
       "      <td>84916</td>\n",
       "      <td>89177</td>\n",
       "      <td>792.0</td>\n",
       "    </tr>\n",
       "    <tr>\n",
       "      <th>98</th>\n",
       "      <td>84916</td>\n",
       "      <td>84922</td>\n",
       "      <td>759.0</td>\n",
       "    </tr>\n",
       "    <tr>\n",
       "      <th>43</th>\n",
       "      <td>84916</td>\n",
       "      <td>69308</td>\n",
       "      <td>383.0</td>\n",
       "    </tr>\n",
       "    <tr>\n",
       "      <th>53</th>\n",
       "      <td>84916</td>\n",
       "      <td>71397</td>\n",
       "      <td>362.0</td>\n",
       "    </tr>\n",
       "  </tbody>\n",
       "</table>\n",
       "</div>"
      ],
      "text/plain": [
       "    ProductID  RefProductID   Views\n",
       "54      84916         71398  1180.0\n",
       "3       84916         89177   792.0\n",
       "98      84916         84922   759.0\n",
       "43      84916         69308   383.0\n",
       "53      84916         71397   362.0"
      ]
     },
     "execution_count": 476,
     "metadata": {},
     "output_type": "execute_result"
    }
   ],
   "source": [
    "out_graph(testA, info_product, 84916, 5, 'out')"
   ]
  },
  {
   "cell_type": "markdown",
   "metadata": {},
   "source": [
    "# Webservice"
   ]
  },
  {
   "cell_type": "code",
   "execution_count": 330,
   "metadata": {},
   "outputs": [],
   "source": [
    "import zeep\n",
    "import sys\n",
    "reload(sys)\n",
    "sys.setdefaultencoding('utf-8')\n",
    "\n",
    "wsdl = 'http://clusterapi.thegioididong.com/ProductSvc.svc?wsdl'\n",
    "client = zeep.Client(wsdl=wsdl)\n",
    "# len(client.service.GetProductDetailByProductID(92082))\n",
    "# client.service.GetProductDetailByProductID(92082)[2]['propertyNameField']"
   ]
  },
  {
   "cell_type": "code",
   "execution_count": 332,
   "metadata": {},
   "outputs": [],
   "source": [
    "# client.service.GetProduct(8, 75373, 3, \"vi-VN\", \"\")"
   ]
  },
  {
   "cell_type": "code",
   "execution_count": 307,
   "metadata": {},
   "outputs": [],
   "source": [
    "list_product = info_product_all.drop_duplicates(subset = ['CategoryID'], keep = 'first')"
   ]
  },
  {
   "cell_type": "code",
   "execution_count": 308,
   "metadata": {},
   "outputs": [],
   "source": [
    "dth = info_product_all[info_product_all.CategoryID==42]"
   ]
  },
  {
   "cell_type": "code",
   "execution_count": 435,
   "metadata": {},
   "outputs": [],
   "source": [
    "# client.service.GetProduct(8, 75373, 3, \"vi-VN\", \"\")\n",
    "list_product = dth.ProductID.tolist()\n",
    "list_name = []\n",
    "for productID in list_product:\n",
    "    a = len(client.service.GetProductDetailByProductID(productID))\n",
    "    for Property in range(a):\n",
    "        propertyNameField = client.service.GetProductDetailByProductID(productID)[Property]['propertyNameField']\n",
    "        propValueField = client.service.GetProductDetailByProductID(productID)[Property]['propValueField']\n",
    "        propertyIDField = client.service.GetProductDetailByProductID(productID)[Property]['propertyIDField']\n",
    "#         if propertyIDField not in list_name:\n",
    "# #             list_name.append(propertyIDField)\n",
    "#             dth[propertyNameField] = np.nan\n",
    "#         dth.ix[dth.ProductID == productID, propertyNameField] = propValueField\n",
    "            \n",
    "\n",
    "# item.propertyIDField, item.propertyNameField, item.propValueField\n"
   ]
  },
  {
   "cell_type": "code",
   "execution_count": 451,
   "metadata": {},
   "outputs": [
    {
     "data": {
      "text/plain": [
       "21.545963048934937"
      ]
     },
     "execution_count": 451,
     "metadata": {},
     "output_type": "execute_result"
    }
   ],
   "source": [
    "start = time.time()\n",
    "file = open('dienthoai.txt', 'wb')\n",
    "list_product = dth.ProductID.tolist()\n",
    "for productID in list_product:\n",
    "    file.writelines(str(client.service.GetProductDetailByProductID(productID)))    \n",
    "file.close()     \n",
    "time.time() - start    "
   ]
  },
  {
   "cell_type": "code",
   "execution_count": 311,
   "metadata": {},
   "outputs": [
    {
     "data": {
      "text/plain": [
       "325"
      ]
     },
     "execution_count": 311,
     "metadata": {},
     "output_type": "execute_result"
    }
   ],
   "source": [
    "len(list_product)"
   ]
  },
  {
   "cell_type": "markdown",
   "metadata": {
    "collapsed": true
   },
   "source": [
    "# Get data saleorder"
   ]
  },
  {
   "cell_type": "code",
   "execution_count": 335,
   "metadata": {},
   "outputs": [],
   "source": [
    "import zeep\n",
    "import sys\n",
    "reload(sys)\n",
    "sys.setdefaultencoding('utf-8')\n",
    "\n",
    "\n",
    "# import suds\n",
    "# from suds.client import Client\n",
    "# url='http://erpwebsupportservices.thegioididong.com/Web/WSWeb.asmx'\n",
    "# client=suds.client.Client(url)\n",
    "\n",
    "wsdl = 'http://erpwebsupportservices.thegioididong.com/Web/WSWeb.asmx?WSDL'\n",
    "client = zeep.Client(wsdl=wsdl)\n"
   ]
  },
  {
   "cell_type": "code",
   "execution_count": 340,
   "metadata": {},
   "outputs": [
    {
     "ename": "AttributeError",
     "evalue": "Service has no operation 'ResultMessage'",
     "output_type": "error",
     "traceback": [
      "\u001b[0;31m---------------------------------------------------------------------------\u001b[0m",
      "\u001b[0;31mAttributeError\u001b[0m                            Traceback (most recent call last)",
      "\u001b[0;32m<ipython-input-340-5303b17d7470>\u001b[0m in \u001b[0;36m<module>\u001b[0;34m()\u001b[0m\n\u001b[0;32m----> 1\u001b[0;31m \u001b[0ma\u001b[0m \u001b[0;34m=\u001b[0m \u001b[0mclient\u001b[0m\u001b[0;34m.\u001b[0m\u001b[0mservice\u001b[0m\u001b[0;34m.\u001b[0m\u001b[0mResultMessage\u001b[0m\u001b[0;34m(\u001b[0m\u001b[0;34m)\u001b[0m\u001b[0;34m\u001b[0m\u001b[0m\n\u001b[0m\u001b[1;32m      2\u001b[0m \u001b[0mclient\u001b[0m\u001b[0;34m.\u001b[0m\u001b[0mservice\u001b[0m\u001b[0;34m.\u001b[0m\u001b[0mLoadSaleOrderInfo\u001b[0m\u001b[0;34m(\u001b[0m\u001b[0ma\u001b[0m\u001b[0;34m,\u001b[0m \u001b[0;34m'00002SO1701826767'\u001b[0m\u001b[0;34m,\u001b[0m \u001b[0mTrue\u001b[0m\u001b[0;34m)\u001b[0m\u001b[0;34m\u001b[0m\u001b[0m\n",
      "\u001b[0;32m/usr/local/lib/python2.7/dist-packages/zeep/client.pyc\u001b[0m in \u001b[0;36m__getattr__\u001b[0;34m(self, key)\u001b[0m\n\u001b[1;32m     55\u001b[0m \u001b[0;34m\u001b[0m\u001b[0m\n\u001b[1;32m     56\u001b[0m         \"\"\"\n\u001b[0;32m---> 57\u001b[0;31m         \u001b[0;32mreturn\u001b[0m \u001b[0mself\u001b[0m\u001b[0;34m[\u001b[0m\u001b[0mkey\u001b[0m\u001b[0;34m]\u001b[0m\u001b[0;34m\u001b[0m\u001b[0m\n\u001b[0m\u001b[1;32m     58\u001b[0m \u001b[0;34m\u001b[0m\u001b[0m\n\u001b[1;32m     59\u001b[0m     \u001b[0;32mdef\u001b[0m \u001b[0m__getitem__\u001b[0m\u001b[0;34m(\u001b[0m\u001b[0mself\u001b[0m\u001b[0;34m,\u001b[0m \u001b[0mkey\u001b[0m\u001b[0;34m)\u001b[0m\u001b[0;34m:\u001b[0m\u001b[0;34m\u001b[0m\u001b[0m\n",
      "\u001b[0;32m/usr/local/lib/python2.7/dist-packages/zeep/client.pyc\u001b[0m in \u001b[0;36m__getitem__\u001b[0;34m(self, key)\u001b[0m\n\u001b[1;32m     66\u001b[0m             \u001b[0mself\u001b[0m\u001b[0;34m.\u001b[0m\u001b[0m_binding\u001b[0m\u001b[0;34m.\u001b[0m\u001b[0mget\u001b[0m\u001b[0;34m(\u001b[0m\u001b[0mkey\u001b[0m\u001b[0;34m)\u001b[0m\u001b[0;34m\u001b[0m\u001b[0m\n\u001b[1;32m     67\u001b[0m         \u001b[0;32mexcept\u001b[0m \u001b[0mValueError\u001b[0m\u001b[0;34m:\u001b[0m\u001b[0;34m\u001b[0m\u001b[0m\n\u001b[0;32m---> 68\u001b[0;31m             \u001b[0;32mraise\u001b[0m \u001b[0mAttributeError\u001b[0m\u001b[0;34m(\u001b[0m\u001b[0;34m'Service has no operation %r'\u001b[0m \u001b[0;34m%\u001b[0m \u001b[0mkey\u001b[0m\u001b[0;34m)\u001b[0m\u001b[0;34m\u001b[0m\u001b[0m\n\u001b[0m\u001b[1;32m     69\u001b[0m         \u001b[0;32mreturn\u001b[0m \u001b[0mOperationProxy\u001b[0m\u001b[0;34m(\u001b[0m\u001b[0mself\u001b[0m\u001b[0;34m,\u001b[0m \u001b[0mkey\u001b[0m\u001b[0;34m)\u001b[0m\u001b[0;34m\u001b[0m\u001b[0m\n\u001b[1;32m     70\u001b[0m \u001b[0;34m\u001b[0m\u001b[0m\n",
      "\u001b[0;31mAttributeError\u001b[0m: Service has no operation 'ResultMessage'"
     ]
    }
   ],
   "source": [
    "a = client.service.ResultMessage() \n",
    "client.service.LoadSaleOrderInfo(a, '00002SO1701826767', True)\n"
   ]
  },
  {
   "cell_type": "code",
   "execution_count": null,
   "metadata": {
    "collapsed": true
   },
   "outputs": [],
   "source": []
  },
  {
   "cell_type": "markdown",
   "metadata": {},
   "source": [
    "# Get tracking_data"
   ]
  },
  {
   "cell_type": "code",
   "execution_count": 77,
   "metadata": {},
   "outputs": [],
   "source": [
    "tracking_data = pd.read_csv('/home/tgdd/TA_69/recommenderr/tracking_data2.txt', delimiter='\\t', header=0)\n",
    "# tracking_data = pd.read_excel('/home/tgdd/TA_69/recommenderr/tracking_data.xlsx',sheet = 'Sheet1', sep='\\t', delimiter='\\t')\n",
    "# import csv\n",
    "# with open('/home/tgdd/TA_69/recommenderr/test.txt', 'rb') as csvfile:\n",
    "#     tracking_data = csv.reader(csvfile, delimiter='\\t')\n",
    "#     for row in tracking_data:\n",
    "#          print ', '.join(row)"
   ]
  },
  {
   "cell_type": "code",
   "execution_count": 144,
   "metadata": {},
   "outputs": [],
   "source": [
    "#write to excel, number of views\n",
    "ew = pd.ExcelWriter('/home/tgdd/TA_69/recommenderr/tracking_vuivui.xlsx', options={'encoding':'utf-8'})\n",
    "tracking_data.to_excel(ew, 'tracking_vuivui')\n",
    "ew.save()"
   ]
  },
  {
   "cell_type": "code",
   "execution_count": 190,
   "metadata": {},
   "outputs": [],
   "source": [
    "tracking_data = tracking_data.sort(columns=['COOKIE', 'CREATEDTIME', 'CategoryID'])"
   ]
  },
  {
   "cell_type": "code",
   "execution_count": 143,
   "metadata": {
    "collapsed": true
   },
   "outputs": [],
   "source": [
    "tracking_data = tracking_data[tracking_data.ProductID > 0]"
   ]
  },
  {
   "cell_type": "code",
   "execution_count": 132,
   "metadata": {},
   "outputs": [],
   "source": [
    "# df = tracking_data.pivot_table(values= ['URL', 'SESSION', 'ProductID', 'COOKIE'], index = ['COOKIE', 'ProductID'], aggfunc=lambda x: len(x.unique()))\n",
    "# df = tracking_data['COOKIE'].groupby(tracking_data['ProductID']).agg(lambda x: len(x.unique()))\n",
    "df = tracking_data.groupby(['COOKIE', 'ProductID']).count()"
   ]
  },
  {
   "cell_type": "code",
   "execution_count": 133,
   "metadata": {},
   "outputs": [],
   "source": [
    "df = df.sort(columns='URL', ascending=False)"
   ]
  },
  {
   "cell_type": "code",
   "execution_count": 136,
   "metadata": {},
   "outputs": [
    {
     "data": {
      "text/plain": [
       "Index([u'CREATEDTIME', u'SESSION', u'URL'], dtype='object')"
      ]
     },
     "execution_count": 136,
     "metadata": {},
     "output_type": "execute_result"
    }
   ],
   "source": [
    "df.columns"
   ]
  },
  {
   "cell_type": "code",
   "execution_count": 146,
   "metadata": {
    "collapsed": true
   },
   "outputs": [],
   "source": [
    "import datetime"
   ]
  },
  {
   "cell_type": "code",
   "execution_count": 162,
   "metadata": {},
   "outputs": [],
   "source": [
    "# Datetime example\n",
    "# import datetime\n",
    "# datetime.datetime.now()\n",
    "# s = pd.Series(pd.date_range(pd.Timestamp('now'), periods=2))\n",
    "# s = s.map(lambda x: x.strftime('%Y-%m-%d %H:%M:%S'))\n",
    "# a = pd.Timestamp('2015-06-06 07:34:35') -  pd.Timestamp('2017-05-08 17:34:25')\n",
    "# a.seconds"
   ]
  },
  {
   "cell_type": "code",
   "execution_count": 200,
   "metadata": {
    "collapsed": true
   },
   "outputs": [],
   "source": [
    "datetimes = tracking_data['CREATEDTIME']"
   ]
  },
  {
   "cell_type": "code",
   "execution_count": 204,
   "metadata": {},
   "outputs": [],
   "source": [
    "now = datetime.datetime.now()\n",
    "youngest = max(dt for dt in datetimes if dt < now)"
   ]
  },
  {
   "cell_type": "code",
   "execution_count": 278,
   "metadata": {},
   "outputs": [],
   "source": [
    "def GetDataByCookieID(CookieID, dataframe, timedelta = 7):\n",
    "    df = dataframe[dataframe['COOKIE'] == CookieID] \n",
    "    youngest_day = max(dt for dt in df['CREATEDTIME'] if dt < datetime.datetime.now())\n",
    "    df = df[df['CREATEDTIME'] > youngest_day - datetime.timedelta(days=timedelta)]\n",
    "    list_of_list_proID = []\n",
    "    for categoryID in df.CategoryID.unique():\n",
    "        list_of_list_proID.append(unique_list_order(df[df.CategoryID==categoryID].ProductID.tolist()))\n",
    "    return list_of_list_proID\n",
    "\n",
    "def unique_list_order(seq):\n",
    "    seen = set()\n",
    "    seen_add = seen.add\n",
    "    return [x for x in seq if not (x in seen or seen_add(x))]"
   ]
  },
  {
   "cell_type": "code",
   "execution_count": 282,
   "metadata": {},
   "outputs": [
    {
     "data": {
      "text/plain": [
       "[[], [88034.0], [90200.0], [91203.0], [92068.0, 73953.0]]"
      ]
     },
     "execution_count": 282,
     "metadata": {},
     "output_type": "execute_result"
    }
   ],
   "source": [
    "GetDataByCookieID('003e4006-89b8-404e-980b-21be80ab5009', tracking_data, 35)"
   ]
  },
  {
   "cell_type": "code",
   "execution_count": 283,
   "metadata": {},
   "outputs": [],
   "source": [
    "CookieID = '003e4006-89b8-404e-980b-21be80ab5009'\n",
    "df = tracking_data[tracking_data['COOKIE'] == CookieID]\n",
    "now = datetime.datetime.now()\n",
    "youngest = max(dt for dt in df['CREATEDTIME'] if dt < now)\n",
    "df = df[df['CREATEDTIME'] > youngest - datetime.timedelta(days=35)]"
   ]
  },
  {
   "cell_type": "code",
   "execution_count": 284,
   "metadata": {},
   "outputs": [],
   "source": [
    "list_of_list_proID = []\n",
    "for categoryID in df.CategoryID.unique():\n",
    "    list_of_list_proID.append(unique_list_order(df[df.CategoryID==categoryID].ProductID.tolist()))"
   ]
  },
  {
   "cell_type": "code",
   "execution_count": 285,
   "metadata": {},
   "outputs": [
    {
     "data": {
      "text/plain": [
       "[[], [88034.0], [90200.0], [91203.0], [92068.0, 73953.0]]"
      ]
     },
     "execution_count": 285,
     "metadata": {},
     "output_type": "execute_result"
    }
   ],
   "source": [
    "list_of_list_proID"
   ]
  },
  {
   "cell_type": "code",
   "execution_count": 245,
   "metadata": {},
   "outputs": [
    {
     "data": {
      "text/plain": [
       "635711    92068.0\n",
       "638307    73953.0\n",
       "Name: ProductID, dtype: float64"
      ]
     },
     "execution_count": 245,
     "metadata": {},
     "output_type": "execute_result"
    }
   ],
   "source": [
    "df[df.CategoryID==42].ProductID"
   ]
  },
  {
   "cell_type": "markdown",
   "metadata": {
    "collapsed": true
   },
   "source": [
    "# unique multiple columns"
   ]
  },
  {
   "cell_type": "code",
   "execution_count": null,
   "metadata": {
    "collapsed": true
   },
   "outputs": [],
   "source": [
    " np.unique(df[['Col1', 'Col2']]) ##np.unique(df[['Col1', 'Col2']].values)"
   ]
  }
 ],
 "metadata": {
  "anaconda-cloud": {},
  "kernelspec": {
   "display_name": "Python 3",
   "language": "python",
   "name": "python3"
  },
  "language_info": {
   "codemirror_mode": {
    "name": "ipython",
    "version": 3
   },
   "file_extension": ".py",
   "mimetype": "text/x-python",
   "name": "python",
   "nbconvert_exporter": "python",
   "pygments_lexer": "ipython3",
   "version": "3.7.3"
  }
 },
 "nbformat": 4,
 "nbformat_minor": 2
}
