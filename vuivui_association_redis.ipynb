{
 "cells": [
  {
   "cell_type": "raw",
   "metadata": {},
   "source": [
    "1. read data saleordersfsfasdfsadf\n",
    "2. preprocessing\n",
    "    a. read cateID of product\n",
    "    b. read cate name of cateID\n",
    "3. run apriori algorithm\n",
    "4. save to redis\n"
   ]
  },
  {
   "cell_type": "markdown",
   "metadata": {},
   "source": [
    "# preprocessing data"
   ]
  },
  {
   "cell_type": "code",
   "execution_count": 1,
   "metadata": {
    "collapsed": true,
    "jupyter": {
     "outputs_hidden": true
    }
   },
   "outputs": [],
   "source": [
    "\n",
    "#!/usr/bin/env python\n",
    "#-*- coding: utf-8 -*-\n",
    "import pandas as pd\n",
    "import numpy as np\n",
    "import time\n",
    "import requests  # pip install requests\n",
    "import json\n",
    "import re\n",
    "import sys\n",
    "reload(sys)\n",
    "sys.setdefaultencoding('utf-8')\n",
    "import xml.etree.ElementTree as ET\n",
    "import datetime\n",
    "import pymssql\n",
    "import numpy as np\n",
    "\n",
    "#remove accents vietnamese\n",
    "def remove_accents(text):\n",
    "    s1 = u'ÀÁÂÃÈÉÊÌÍÒÓÔÕÙÚÝàáâãèéêìíòóôõùúýĂăĐđĨĩŨũƠơƯưẠạẢảẤấẦầẨẩẪẫẬậẮắẰằẲẳẴẵẶặẸẹẺẻẼẽẾếỀềỂểỄễỆệỈỉỊịỌọỎỏỐốỒồỔổỖỗỘộỚớỜờỞởỠỡỢợỤụỦủỨứỪừỬửỮữỰựỲỳỴỵỶỷỸỹ'\n",
    "    s0 = u'AAAAEEEIIOOOOUUYaaaaeeeiioooouuyAaDdIiUuOoUuAaAaAaAaAaAaAaAaAaAaAaAaEeEeEeEeEeEeEeEeIiIiOoOoOoOoOoOoOoOoOoOoOoOoUuUuUuUuUuUuUuYyYyYyYy'\n",
    "#     s1.encode('utf-8')\n",
    "#     s0.encode('utf-8')\n",
    "    if text == np.nan or text == np.NAN or text == np.NaN:\n",
    "        return text\n",
    "    else:    \n",
    "        s = ''\n",
    "        text = str(text)\n",
    "        text = text.decode('utf-8')\n",
    "\n",
    "        for c in text:\n",
    "            if c in s1:\n",
    "                s += s0[s1.index(c)]\n",
    "            else:\n",
    "                s += c\n",
    "        return s.strip().replace(\" \",\"_\").replace(\",\", \"-\")\n",
    "\n",
    "    \n",
    "# logging\n",
    "def log():\n",
    "    import logging\n",
    "    logging.basicConfig(filename='/home/tgdd/TA_69/recommenderr/log.recommendation/log_vuivui.txt',\n",
    "                                filemode='a',\n",
    "                                format = \"%(asctime) -10s, %(levelname)s, %(module)s:%(lineno)s, %(funcName)s, %(message)s\",\n",
    "                                level=logging.ERROR)\n",
    "    logger = logging.getLogger()\n",
    "    return logger\n",
    "\n",
    "log = log()"
   ]
  },
  {
   "cell_type": "code",
   "execution_count": 2,
   "metadata": {
    "code_folding": [],
    "collapsed": true,
    "jupyter": {
     "outputs_hidden": true
    }
   },
   "outputs": [],
   "source": [
    "#connect to our cluster\n",
    "from elasticsearch import Elasticsearch\n",
    "es = Elasticsearch([{'host': '172.16.3.105', 'port': 9200}])\n",
    "# res = requests.get('http://172.16.3.105:9200/index_product/product/86734')\n",
    "# print(res.content)\n",
    "\n",
    "# get list category ID by list product ID\n",
    "def get_list_cate_ID(list_product_ID):  \n",
    "    global list_cate_ID\n",
    "    list_cate_ID = []\n",
    "#     f = open('product_cate.txt', 'wb')\n",
    "    for productID in list_product_ID:\n",
    "        try:\n",
    "            pathCate = es.get(index=\"index_product\", doc_type=\"product\", id=str(productID))['_source']['categoryPath']\n",
    "            listCate = pathCate.split(\" \")\n",
    "#             f.write(str(productID) +','+listCate[-1]+\"\\n\")\n",
    "            list_cate_ID.append(listCate[-1])\n",
    "        except Exception as error:\n",
    "            log.exception(str(error))\n",
    "#     f.close()\n",
    "    return list_cate_ID\n",
    "\n",
    "\n",
    "def get_cate_ID_by_proID_position(productID, position, es):\n",
    "    try:\n",
    "        #connect to our cluster\n",
    "#         from elasticsearch import Elasticsearch\n",
    "#         es = Elasticsearch([{'host': '172.16.3.105', 'port': 9200}])\n",
    "        # res = requests.get('http://172.16.3.105:9200/index_product/product/86734')\n",
    "        # print(res.content)\n",
    "        pathCate = es.get(index=\"index_product\", doc_type=\"product\", id=str(productID))['_source']['categoryPath']\n",
    "        listCate = pathCate.split(\" \")\n",
    "        return int(listCate[position])\n",
    "    except Exception as error:\n",
    "        log.exception(str(error))   \n",
    "        return np.nan\n",
    "\n",
    "def get_cate_ID_by_proID(productID):\n",
    "    try:\n",
    "        pathCate = es.get(index=\"index_product\", doc_type=\"product\", id=str(productID))['_source']['categoryPath']\n",
    "        listCate = pathCate.split(\" \")\n",
    "        return int(listCate[-1])\n",
    "    except Exception as error:\n",
    "        return np.nan\n",
    "    \n",
    "\n",
    "def get_name_cate_by_cate_ID(cate_ID):\n",
    "    try: \n",
    "        url = 'http://webservice.vuivui.com/productsvc.asmx/GetProductCategoryByCate?intSiteID=8&intCategoryID='\n",
    "        url = url + str(int(cate_ID))\n",
    "        res = requests.get(url)\n",
    "        xml = ET.fromstring(res.content)\n",
    "        return xml[0][1].text\n",
    "    except Exception as error:\n",
    "        log.exception(str(error))\n",
    "        return \"\"\n",
    "    \n",
    "#     get list name cate by list cate ID\n",
    "def get_list_name_cate(list_cate_ID, filename = 'cate_name.txt'):\n",
    "    f = open(filename, 'wb')\n",
    "    for cate_ID in list_cate_ID:\n",
    "        f.write(cate_ID + ',' + get_name_cate_by_cate_ID(cate_ID) + '\\n')\n",
    "    f.close()    "
   ]
  },
  {
   "cell_type": "code",
   "execution_count": 3,
   "metadata": {
    "collapsed": true,
    "jupyter": {
     "outputs_hidden": true
    }
   },
   "outputs": [],
   "source": [
    "# ////////////////////////"
   ]
  },
  {
   "cell_type": "code",
   "execution_count": 4,
   "metadata": {
    "collapsed": true,
    "jupyter": {
     "outputs_hidden": true
    }
   },
   "outputs": [],
   "source": [
    "def read_all_csv_into_df(path = r'/home/tgdd/TA_69/vuivui/data_vuivui'):\n",
    "    import glob\n",
    "#     path =r'/home/tgdd/TA_69/vuivui/data_vuivui' # use your path\n",
    "    allFiles = glob.glob(path + \"/*.csv\")\n",
    "    frame = pd.DataFrame()\n",
    "    try:\n",
    "        for file_ in allFiles:\n",
    "            df = pd.read_csv(file_, header=None)\n",
    "            frame = frame.append(df)\n",
    "    except:\n",
    "        pass\n",
    "    return frame\n",
    "\n",
    "def read_df_fromfile():\n",
    "    # read saleoder data,'/home/tgdd/TA_69/vuivui/20170614.csv'\n",
    "    \n",
    "    data_file =read_all_csv_into_df()\n",
    "    data_file.columns = ['SaleOrderID','ProductID','Quantity','StandardSalePrice']\n",
    "\n",
    "    saleorderDF = data_file[['SaleOrderID','ProductID','Quantity']]\n",
    "    # data1['CateID'] = data1[\"ProductID\"].apply(get_cate_ID_by_proID)\n",
    "    # data1['CateID_'] = data1['CateID']\n",
    "    # data1['ProductID_']=data1['ProductID']\n",
    "    # data1['NameCate'] = data1['CateID'].apply(get_name_cate_by_cate_ID).apply(remove_accents)\n",
    "\n",
    "    list_product_ID = list(set(saleorderDF.ProductID))\n",
    "    df = pd.DataFrame(list_product_ID, columns=['ProductID'])\n",
    "    df['CateID'] = df.ProductID.apply(get_cate_ID_by_proID)\n",
    "    df['CateID_'] = df['CateID']\n",
    "    df = df.dropna(how = 'any', subset=['CateID'])\n",
    "    df = df.drop_duplicates()\n",
    "    df = df[~df.CateID.isin(['3103', '2102'])]\n",
    "    # df['NameCate']= df.CateID.apply(get_name_cate_by_cate_ID)\n",
    "    # df['NameCate_']=df['NameCate'].apply(remove_accents)\n",
    "    saleorderDF = saleorderDF.merge(df, how='left', on = 'ProductID')\n",
    "    # data1['NameCate_2']=data1['NameCate_']\n",
    "    return saleorderDF\n",
    "\n",
    "\n",
    "def convert_format_csv(pivot_DF, filename):\n",
    "    pivot_DF.to_csv('big_df_tmp.txt',header=False, index=False)#write dataframe to text file, separate = \",\"\n",
    "    f1 = open(filename, 'wb')#read file big_df.txt then write into sparse_df.txt, sparse dataframe\n",
    "    f = open('big_df_tmp.txt', 'rb')\n",
    "    for line in f:\n",
    "        line = ' '.join(line.split(','))\n",
    "        a = ','.join(line.split())\n",
    "        if(len(a)>0):\n",
    "            f1.write(a+'\\n')\n",
    "    f1.close()\n",
    "    f.close()\n"
   ]
  },
  {
   "cell_type": "code",
   "execution_count": 5,
   "metadata": {
    "collapsed": true,
    "jupyter": {
     "outputs_hidden": true
    }
   },
   "outputs": [],
   "source": [
    "# # data2.columns = data2.columns.droplevel(0) #remove amount\n",
    "# data2.columns.name = None               #remove categories\n",
    "# data2 = data2.reset_index() \n",
    "\n",
    "# start = time.time()\n",
    "# # write dataframe to text file, it not good due to run slowlly (shouldn't use)\n",
    "# f = open(\"df_to_text.txt\", 'wb')\n",
    "# for i in range(data2.shape[0]):\n",
    "#     for j in range(data2.shape[1]):\n",
    "#         if(data2.iloc[i][j] > 0):\n",
    "#             f.write(str(data2.columns[j]) + ',')\n",
    "#     f.write('\\n')\n",
    "# f.close()\n",
    "\n",
    "# duration = time.time() - start            "
   ]
  },
  {
   "cell_type": "markdown",
   "metadata": {},
   "source": [
    "# Connect to Redis"
   ]
  },
  {
   "cell_type": "code",
   "execution_count": 6,
   "metadata": {
    "collapsed": true,
    "jupyter": {
     "outputs_hidden": true
    }
   },
   "outputs": [],
   "source": [
    "\n",
    "\n",
    "def connect_to_redis():\n",
    "    # pip install redis-py-cluster\n",
    "    import redis\n",
    "    from rediscluster import StrictRedisCluster\n",
    "    # Requires at least one node for cluster discovery. Multiple nodes is recommended.\n",
    "#     startup_nodes = [{\"host\": \"192.168.2.190\", \"port\": \"6379\"}]\n",
    "    startup_nodes = [{\"host\": \"10.1.12.30\", \"port\": \"16379\"}]\n",
    "    rc = StrictRedisCluster(startup_nodes=startup_nodes, decode_responses=True)\n",
    "    return rc\n",
    "    #!redis-cli -h 10.1.12.30 -p 16379 -c\n",
    "    #rc.dbsize()\n",
    "\n",
    "def sethash(hashname, tmp2, rc):\n",
    "    for index, row in tmp2.iterrows():\n",
    "        rc.hset(hashname,str(row.A).replace(' ', ''), str(row.B).replace(' ', ''))\n",
    "\n",
    "def getall(hashname, rc):\n",
    "    return rc.hgetall(hashname)\n",
    "#     def deletehash(self, hashname):\n",
    "#         if\n",
    "\n"
   ]
  },
  {
   "cell_type": "markdown",
   "metadata": {},
   "source": [
    "# get automatically saleorderID"
   ]
  },
  {
   "cell_type": "code",
   "execution_count": 7,
   "metadata": {
    "collapsed": true,
    "jupyter": {
     "outputs_hidden": true
    },
    "scrolled": true
   },
   "outputs": [],
   "source": [
    "#! /usr/bin/env python\n",
    "# need to install freeSSHd.exe and config on remote machine\n",
    "\n",
    "'''\n",
    "it will run file webservices.exe from 10.1.12.111\\C:\\Release\\webservices.exe\n",
    "result file save at 10.1.12.111\\C:\\Program Files (x86)\\freeSSHd\n",
    "with name is the date that it run\n",
    "then it will be copy result file to 10.1.4.60\n",
    "'''\n",
    "import paramiko\n",
    "import sys\n",
    "import time\n",
    "\n",
    "SERVER = '10.1.12.111'\n",
    "USER = 'tgdd'\n",
    "PASSWORD = 'Tgdd2012'\n",
    "port = 8896\n",
    "\n",
    "def up_file():\n",
    "    try:\n",
    "        paramiko.util.log_to_file('paramiko.log')\n",
    "        transport = paramiko.Transport((SERVER, port))\n",
    "        transport.connect(username=USER, password=PASSWORD)\n",
    "        sftp = paramiko.SFTPClient.from_transport(transport)\n",
    "\n",
    "        sftp.chdir('')\n",
    "        filename = time.strftime(\"%Y%m%d\")+'.csv'#get today\n",
    "        filepath = './'+filename\n",
    "        localpath = '/home/tgdd/TA_69/vuivui/data_vuivui/'+filename\n",
    "        sftp.get(filepath, localpath)\n",
    "    #         filepath = '/home/zeth/lenna.jpg'\n",
    "    #         localpath = '/home/zeth/lenna.jpg'\n",
    "    #         sftp.put(filepath, localpath)\n",
    "    finally:\n",
    "        sftp.close()\n",
    "        transport.close()\n",
    "\n",
    "\n",
    "class MySSHClient():\n",
    "    def __init__(self, domain=SERVER, username=USER, password=PASSWORD, port = port):\n",
    "        self.domain = domain\n",
    "        self.username = username\n",
    "        self.password = password\n",
    "        self.port = port\n",
    "        self.connection = None\n",
    "        self.return_str = ''\n",
    "        self.has_error = False\n",
    "\n",
    "    def do_connect(self):\n",
    "        self.connection = paramiko.SSHClient()\n",
    "        self.connection.set_missing_host_key_policy(paramiko.AutoAddPolicy())\n",
    "        self.connection.connect(self.domain, username=self.username, password=self.password, port = self.port)\n",
    "\n",
    "    def execute_command(self, command):\n",
    "        if command:\n",
    "            stdin, stdout, stderr = self.connection.exec_command(command)\n",
    "            stdin.close()\n",
    "            error = str(stderr.read())\n",
    "            if error:\n",
    "                self.has_error = True\n",
    "                self.return_str = error\n",
    "                print 'has error'\n",
    "            else:\n",
    "                # reset has_error to the default value\n",
    "                self.has_error = False\n",
    "                self.return_str = str(stdout.read())\n",
    "                print 'no error'\n",
    "\n",
    "            print self.return_str\n",
    "        else:\n",
    "            print \"no command to execute\"\n",
    "\n",
    "    def do_close(self):\n",
    "        self.connection.close()\n",
    "      \n",
    "        \n",
    "# if __name__ == '__main__':\n",
    "#     client = MySSHClient()\n",
    "#     client.do_connect()\n",
    "#     today = datetime.date.today()\n",
    "#     today = today.strftime('%d/%m/%Y')\n",
    "\n",
    "# #     command = sys.argv[1]\n",
    "# #     command = \"cmd /c cd D:\\Data && D: && fibonaci.exe\"\n",
    "#     command = 'cmd.exe /c echo start C:\\Release\\\\webservices.exe '+today+' '+ today +'> C:\\Release\\\\runme.bat && C:\\Release\\\\runme.bat'\n",
    "# #     command = 'cmd /c C:\\test\\Debug\\test.exe'\n",
    "\n",
    "#     client.execute_command(command)\n",
    "#     client.do_close()\n",
    "# # turn off interactive services detection"
   ]
  },
  {
   "cell_type": "markdown",
   "metadata": {},
   "source": [
    "# Apriori algorithm"
   ]
  },
  {
   "cell_type": "code",
   "execution_count": 8,
   "metadata": {
    "code_folding": [
     11
    ],
    "collapsed": true,
    "jupyter": {
     "outputs_hidden": true
    }
   },
   "outputs": [],
   "source": [
    "\"\"\"\n",
    "Usage:\n",
    "    $python apriori.py -f DATASET.csv -s minSupport  -c minConfidence\n",
    "    $python apriori.py -f DATASET.csv -s 0.15 -c 0.6\n",
    "\"\"\"\n",
    "import sys\n",
    "import time\n",
    "from itertools import chain, combinations\n",
    "from collections import defaultdict\n",
    "from optparse import OptionParser\n",
    "from threading import Thread\n",
    "import time\n",
    "\n",
    "class Apriori:\n",
    "    minSupport = 0\n",
    "    minConfidence = 0\n",
    "    def __init__(self, Support, Confidence):\n",
    "        self.minSupport = Support\n",
    "        self.minConfidence = Confidence\n",
    "        \n",
    "    def subsets(self,arr):\n",
    "        \"\"\" Returns non empty subsets of arr\"\"\"\n",
    "        return chain(*[combinations(arr, i + 1) for i, a in enumerate(arr)])\n",
    "\n",
    "    def returnItemsWithMinSupport(self,itemSet, transactionList, minSupport, freqSet):\n",
    "            \"\"\"calculates the support for items in the itemSet and returns a subset\n",
    "           of the itemSet each of whose elements satisfies the minimum support\"\"\"\n",
    "            _itemSet = set()\n",
    "            localSet = defaultdict(int)\n",
    "\n",
    "            for item in itemSet:\n",
    "                    for transaction in transactionList:\n",
    "                            if item.issubset(transaction):\n",
    "                                    freqSet[item] += 1\n",
    "                                    localSet[item] += 1\n",
    "\n",
    "            for item, count in localSet.items():\n",
    "                    support = float(count)/len(transactionList)\n",
    "\n",
    "                    if support >= minSupport:#>=\n",
    "                            _itemSet.add(item)\n",
    "\n",
    "            return _itemSet\n",
    "\n",
    "\n",
    "    def joinSet(self,itemSet, length):\n",
    "            \"\"\"Join a set with itself and returns the n-element itemsets\"\"\"\n",
    "            return set([i.union(j) for i in itemSet for j in itemSet if len(i.union(j)) == length])\n",
    "\n",
    "\n",
    "    def getItemSetTransactionList(self,data_iterator):\n",
    "        transactionList = list()\n",
    "        itemSet = set()\n",
    "        for record in data_iterator:\n",
    "            transaction = frozenset(record)\n",
    "            transactionList.append(transaction)\n",
    "            for item in transaction:\n",
    "                itemSet.add(frozenset([item]))              # Generate 1-itemSets\n",
    "        return itemSet, transactionList\n",
    "\n",
    "\n",
    "    def runApriori(self,data_iter, minSupport, minConfidence):\n",
    "        \"\"\"\n",
    "        run the apriori algorithm. data_iter is a record iterator\n",
    "        Return both:\n",
    "         - items (tuple, support)\n",
    "         - rules ((pretuple, posttuple), confidence)\n",
    "        \"\"\"\n",
    "        itemSet, transactionList = self.getItemSetTransactionList(data_iter)\n",
    "\n",
    "        freqSet = defaultdict(int)\n",
    "        largeSet = dict()\n",
    "        # Global dictionary which stores (key=n-itemSets,value=support)\n",
    "        # which satisfy minSupport\n",
    "\n",
    "        assocRules = dict()\n",
    "        # Dictionary which stores Association Rules\n",
    "\n",
    "        oneCSet = self.returnItemsWithMinSupport(itemSet,\n",
    "                                            transactionList,\n",
    "                                            minSupport,\n",
    "                                            freqSet)\n",
    "\n",
    "        currentLSet = oneCSet\n",
    "        k = 2\n",
    "        while(currentLSet != set([])):\n",
    "            largeSet[k-1] = currentLSet\n",
    "            currentLSet = self.joinSet(currentLSet, k)\n",
    "            currentCSet = self.returnItemsWithMinSupport(currentLSet,\n",
    "                                                    transactionList,\n",
    "                                                    minSupport,\n",
    "                                                    freqSet)\n",
    "            currentLSet = currentCSet\n",
    "            k = k + 1\n",
    "\n",
    "        def getSupport(item):\n",
    "                \"\"\"local function which Returns the support of an item\"\"\"\n",
    "                return float(freqSet[item])/len(transactionList)\n",
    "\n",
    "        toRetItems = []\n",
    "        for key, value in largeSet.items():\n",
    "            toRetItems.extend([(tuple(item), getSupport(item))\n",
    "                               for item in value])\n",
    "\n",
    "        toRetRules = []\n",
    "        for key, value in largeSet.items()[1:]:\n",
    "            for item in value:\n",
    "                _subsets = map(frozenset, [x for x in self.subsets(item)])\n",
    "                for element in _subsets:\n",
    "                    remain = item.difference(element)\n",
    "                    if len(remain) > 0:\n",
    "                        confidence = getSupport(item)/getSupport(element)\n",
    "                        if confidence >= minConfidence:\n",
    "                            toRetRules.append(((tuple(element), tuple(remain)),\n",
    "                                               confidence))\n",
    "        return toRetItems, toRetRules\n",
    "\n",
    "\n",
    "    def printResults(self,items, rules):\n",
    "        \"\"\"prints the generated itemsets sorted by support and the confidence rules sorted by confidence\"\"\"\n",
    "        for item, support in sorted(items, key=lambda (item, support): support):\n",
    "            print \"item: %s , %.3f\" % (str(item), support)\n",
    "        print \"\\n------------------------ RULES:\"\n",
    "        for rule, confidence in sorted(rules, key=lambda (rule, confidence): confidence):\n",
    "            pre, post = rule\n",
    "            print \"Rule: %s ==> %s , %.3f\" % (str(pre), str(post), confidence)\n",
    "    def saveResults(self,items, rules):\n",
    "        \"\"\"save the generated itemsets sorted by support and the confidence rules sorted by confidence\"\"\"\n",
    "        f = open('results.txt', 'wb')\n",
    "        for item, support in sorted(items, key=lambda (item, support): support):\n",
    "            f.write(\"\\nitem: %s , %.3f\" % (str(item), support)) \n",
    "        f.write(\"\\n------------------------ RULES:\")\n",
    "        i = 0\n",
    "        for rule, confidence in sorted(rules, key=lambda (rule, confidence): confidence):\n",
    "            pre, post = rule\n",
    "            i+=1\n",
    "            f.write(\"\\nRule %s : %s ==> %s , %.3f\" % (str(i), str(pre), str(post), confidence)) \n",
    "\n",
    "    def dataFromFile(self,fname):\n",
    "            \"\"\"Function which reads from the file and yields a generator\"\"\"\n",
    "            file_iter = open(fname, 'rU')\n",
    "            for line in file_iter:\n",
    "                    line = line.strip().rstrip(',')                         # Remove trailing comma\n",
    "                    record = frozenset(line.split(','))\n",
    "                    yield record\n",
    "\n",
    "        \n",
    "def run_apriori(saleorderDF):\n",
    "    pivot_saleorderDF = saleorderDF.pivot_table('CateID', index = 'SaleOrderID',columns='CateID_',aggfunc=lambda x: ' '.join(str(v) for v in x))\n",
    "    convert_format_csv(pivot_saleorderDF, 'sparse_df.txt')\n",
    "    \n",
    "    test = Apriori(0.0005, 0.5)\n",
    "    inFile = test.dataFromFile('sparse_df.txt')\n",
    "    items, rules = test.runApriori(inFile,test.minSupport,test.minConfidence)\n",
    "    test.saveResults(items, rules)\n",
    "    \n",
    "    tmp = pd.DataFrame(rules)\n",
    "    tmp1 = pd.DataFrame(list((tmp[0].values)))\n",
    "    tmp1.columns = ['A', 'B']\n",
    "    tmp2 = pd.pivot_table(tmp1, index='A', aggfunc=lambda x: ' '.join(str(v) for v in x))\n",
    "    tmp2 = tmp2.reset_index()\n",
    "    tmp2.B = tmp2['B'].apply(lambda row: [int(float(x)) for x in re.findall(r\"\\d+\\.?\\d*\", str(row))])\n",
    "    #     add\n",
    "    tmp2.B = tmp2['B'].apply(lambda row: list(set(row)))\n",
    "    tmp2.A = tmp2['A'].apply(lambda row: sorted(list(int(float(x)) for x in row)))\n",
    "    return tmp2\n",
    "\n",
    "def thread_run_apriori(threadname):\n",
    "    while 1:\n",
    "        try:\n",
    "            tmp2 = run_apriori(saleorderDF)\n",
    "            rc = connect_to_redis()\n",
    "            if rc.exists('RecomSys_tmp') and tmp2.shape[0] > 100:\n",
    "                rc.delete('RecomSys_tmp')\n",
    "            sethash('RecomSys_tmp', tmp2, rc)\n",
    "            rc.expire('RecomSys_tmp', 5184000)#set a key's time to live in seconds\n",
    "            log.error('\\n===================thread_run_apriori is working...======================')\n",
    "            time.sleep(2*86400)\n",
    "        except Exception as error:\n",
    "            log.exception(str(error))\n",
    "            \n",
    "\n",
    "def pull_data_from_server():\n",
    "    global saleorderDF\n",
    "    client = MySSHClient()\n",
    "    client.do_connect()\n",
    "    today = datetime.date.today()\n",
    "    start_date = today - datetime.timedelta(days=2)\n",
    "    today = today.strftime('%d/%m/%Y')\n",
    "    start_date = start_date.strftime('%d/%m/%Y')\n",
    "#     command = sys.argv[1]\n",
    "#     command = \"cmd /c cd D:\\Data && D: && fibonaci.exe\"\n",
    "    command = 'cmd.exe /c echo start C:\\Release\\\\webservices.exe '+start_date+' '+ today +'> C:\\Release\\\\runme.bat && C:\\Release\\\\runme.bat'\n",
    "#     command = 'cmd /c C:\\test\\Debug\\test.exe'\n",
    "\n",
    "    client.execute_command(command)\n",
    "    client.do_close()\n",
    "# turn off interactive services detection\n",
    "    time.sleep(200)#set time to sleep in seconds to wait the job pull data finish\n",
    "    up_file()\n",
    "    time.sleep(10)\n",
    "    saleorderDF = read_df_fromfile()\n",
    "\n",
    "\n",
    "def thread_pull_data(threadname):\n",
    "    while 1:\n",
    "        pull_data_from_server()\n",
    "        log.error('\\n======================thread_pull_data is working...=========================')\n",
    "        time.sleep(2*86400)\n",
    "        \n",
    "    \n",
    "        \n",
    "if __name__ == \"__main__\":\n",
    "#     read all csv files then preprocessing\n",
    "    saleorderDF = 0\n",
    "    thread_pull_data = Thread( target = thread_pull_data, args =('Thread pull data from server', ))\n",
    "    thread_pull_data.start()\n",
    "    time.sleep(50)\n",
    "#     run apriori, get result to store into redis db\n",
    "    thread_run_apriori = Thread( target=thread_run_apriori, args=(\"Thread run apriori algorithm\", ) )\n",
    "    thread_run_apriori.start()\n",
    "    \n",
    "\n"
   ]
  },
  {
   "cell_type": "markdown",
   "metadata": {},
   "source": [
    "# run association rule for each user"
   ]
  },
  {
   "cell_type": "code",
   "execution_count": 9,
   "metadata": {
    "collapsed": true,
    "jupyter": {
     "outputs_hidden": true
    }
   },
   "outputs": [],
   "source": [
    "# a9d84f26-0e54-4c24-b40e-1f6713987677\n",
    "# 2b05443b-ab18-4437-9090-c434aba3d7da\n",
    "def connectDB():\n",
    "    server = \"10.1.12.197\"\n",
    "    user = \"rd\"\n",
    "    password = \"rd123456\"\n",
    "    conn = pymssql.connect(server, user, password, \"RD\")\n",
    "    cursor = conn.cursor(as_dict = True)\n",
    "    return cursor\n",
    "\n",
    "def get_basket_customer():\n",
    "    cursor = connectDB()\n",
    "#     basket_customer = \"use RD SELECT ID, SESSION, PRODUCTID, NUMBERITEM FROM [RD].[dbo].[TRACKINGDATA] \\\n",
    "#     where SITEID = 8 and PRODUCTID != -1 and [COOKIE] = {0} order by ID desc\".format(\"'\"+user_cookie+\"'\", 'utf8')\n",
    "    basket_customer = \"use RD SELECT ID, COOKIE, CREATEDTIME,  SESSION, PRODUCTID, NUMBERITEM FROM [RD].[dbo].[TRACKINGDATA] \\\n",
    "    where SITEID = 8 and PRODUCTID != -1 order by ID desc\"\n",
    "    cursor.execute(basket_customer)\n",
    "    basket_customer = cursor.fetchall()\n",
    "    basket_customer = pd.DataFrame(basket_customer)\n",
    "    cursor.close()\n",
    "    basket_customer['CREATEDDAY'] = basket_customer.CREATEDTIME.apply(lambda x: x.to_pydatetime().strftime('%Y%m%d'))\n",
    "    return basket_customer\n",
    "\n",
    "def get_transaction(basket_customer, user_cookie):\n",
    "    list_order_id = list()\n",
    "    list_session = list()\n",
    "    basket_market_one_user = basket_customer[basket_customer['COOKIE']== user_cookie]\n",
    "    list_session = list(basket_market_one_user.SESSION.unique())\n",
    "    # re.findall(r\"\\d+\\.?\\d*\", str(row))\n",
    "    list_day = list(basket_market_one_user.CREATEDDAY.unique())\n",
    "#     if len(list_session) < 2 and len(list_day) > 1: #kiem tra xem khach chi dung 1 session duy nhat, de tach don hang\n",
    "    for day in list_day:#loc theo ngay\n",
    "        basket_customer_day = basket_market_one_user[basket_market_one_user['CREATEDDAY']==day]\n",
    "        data = basket_customer_day.drop_duplicates(subset = ['PRODUCTID'])\n",
    "        for item in list(data[data['NUMBERITEM']< 0].PRODUCTID):\n",
    "            data.loc[data.PRODUCTID == item, 'NUMBERITEM'] = basket_customer_day[basket_customer_day['PRODUCTID']==item].NUMBERITEM.sum()\n",
    "        record = data[data['NUMBERITEM']>0]\n",
    "        if record.shape[0] > 0:\n",
    "#                 list_order_id.append(list(record.PRODUCTID.unique()))\n",
    "            record1 = frozenset(record.PRODUCTID)\n",
    "            yield record1\n",
    "# # ////\n",
    "#     else:   \n",
    "#         for session in list_session:#loc theo session\n",
    "#             basket_customer_session = basket_market_one_user[basket_market_one_user['SESSION']==session]\n",
    "#             data = basket_customer_session.drop_duplicates(subset = ['PRODUCTID'])\n",
    "#             for item in list(data[data['NUMBERITEM']< 0].PRODUCTID):\n",
    "#                 data.loc[data.PRODUCTID == item, 'NUMBERITEM'] = basket_customer_session[basket_customer_session['PRODUCTID']==item].NUMBERITEM.sum()\n",
    "#             record = data[data['NUMBERITEM']>0]\n",
    "#             if record.shape[0] > 0:\n",
    "# #                 list_order_id.append(list(record.PRODUCTID.unique()))\n",
    "#                 record1 = frozenset(record.PRODUCTID)\n",
    "#                 yield record1\n",
    "        \n",
    "    \n",
    "    \n",
    "    #     write to file record       \n",
    "#     with open(\"list_to_file1.txt\", \"w\") as output:\n",
    "#         for item in list_order_id:\n",
    "#             output.write('%s\\n' %','.join(map(str,item)))    \n",
    "\n",
    "def recommend_for_one_user(basket_customer, user_cookie):\n",
    "    # need to increase minsupport when enough data\n",
    "    total_transaction = sum(1 for i in get_transaction(basket_customer, user_cookie))\n",
    "    if total_transaction > 1:# nhieu hon 1 don hang\n",
    "        if total_transaction < 10:\n",
    "            minsupport = 2.0/total_transaction\n",
    "        elif total_transaction < 30:    \n",
    "            minsupport = 3.0/total_transaction #get_transaction is the total transaction\n",
    "        elif total_transaction >= 30: \n",
    "            minsupport = 4.0/total_transaction\n",
    "\n",
    "        test1 = Apriori(minsupport, 0.5)\n",
    "        inFile = get_transaction(basket_customer,user_cookie)\n",
    "        items, rules = test1.runApriori(inFile,test1.minSupport,test1.minConfidence)\n",
    "        test1.saveResults(items, rules)\n",
    "\n",
    "        tmp = pd.DataFrame(rules)\n",
    "        if tmp.shape[0]> 0:\n",
    "            tmp1 = pd.DataFrame(list((tmp[0].values)))\n",
    "            tmp1.columns = ['A', 'B']\n",
    "            tmp2 = pd.pivot_table(tmp1, index='A', aggfunc=lambda x: ' '.join(str(v) for v in x))\n",
    "            tmp2 = tmp2.reset_index()\n",
    "            tmp2.B = tmp2['B'].apply(lambda row: [int(float(x)) for x in re.findall(r\"\\d+\\.?\\d*\", str(row))])\n",
    "        #     add\n",
    "            tmp2.B = tmp2['B'].apply(lambda row: list(set(row)))\n",
    "            tmp2.A = tmp2['A'].apply(lambda row: sorted(list(int(float(x)) for x in row)))\n",
    "        #     sort by lenght of values in columns A\n",
    "            s = tmp2.A.str.len().sort_values().index\n",
    "            tmp2=tmp2.reindex(s)\n",
    "            # pd.DataFrame.reindex(s)\n",
    "        #     just get the values have lenght equal 1\n",
    "            tmp2 = tmp2[tmp2.A.str.len()==1]\n",
    "\n",
    "            not_recommend = [2644, 2423, 2424, 4549, 3851, 4788]#dong ho, dien tu, dien lanh, dien gia dung, dien may, thiet bi van phong, dien thoai, lap top, linh kien, balo...\n",
    "            for index_, raw in tmp2.iterrows():\n",
    "                if get_cate_ID_by_proID_position(raw.A[0], 0, es) in not_recommend:\n",
    "                    tmp2.drop(index_,  inplace = True)#delete the product in not_recommend\n",
    "        else: \n",
    "            tmp2 = []\n",
    "        return tmp2\n",
    "    else:\n",
    "        return []\n",
    "    \n",
    "\n",
    "# how to auto-adjust the minimum support threshold according the data size\n",
    "# minsup = | x * e^(-ax - b) + c|\n",
    "\n"
   ]
  },
  {
   "cell_type": "code",
   "execution_count": 13,
   "metadata": {},
   "outputs": [
    {
     "ename": "IOError",
     "evalue": "[Errno 2] No such file",
     "output_type": "error",
     "traceback": [
      "\u001b[0;31m---------------------------------------------------------------------------\u001b[0m",
      "\u001b[0;31mIOError\u001b[0m                                   Traceback (most recent call last)",
      "\u001b[0;32m<ipython-input-13-bb8c7cef52b1>\u001b[0m in \u001b[0;36m<module>\u001b[0;34m()\u001b[0m\n\u001b[0;32m----> 1\u001b[0;31m \u001b[0mpull_data_from_server\u001b[0m\u001b[0;34m(\u001b[0m\u001b[0;34m)\u001b[0m\u001b[0;34m\u001b[0m\u001b[0m\n\u001b[0m",
      "\u001b[0;32m<ipython-input-11-5a114b3d3468>\u001b[0m in \u001b[0;36mpull_data_from_server\u001b[0;34m()\u001b[0m\n\u001b[1;32m    198\u001b[0m \u001b[0;31m# turn off interactive services detection\u001b[0m\u001b[0;34m\u001b[0m\u001b[0;34m\u001b[0m\u001b[0m\n\u001b[1;32m    199\u001b[0m     \u001b[0mtime\u001b[0m\u001b[0;34m.\u001b[0m\u001b[0msleep\u001b[0m\u001b[0;34m(\u001b[0m\u001b[0;36m200\u001b[0m\u001b[0;34m)\u001b[0m\u001b[0;31m#set time to sleep in seconds to wait the job pull data finish\u001b[0m\u001b[0;34m\u001b[0m\u001b[0m\n\u001b[0;32m--> 200\u001b[0;31m     \u001b[0mup_file\u001b[0m\u001b[0;34m(\u001b[0m\u001b[0;34m)\u001b[0m\u001b[0;34m\u001b[0m\u001b[0m\n\u001b[0m\u001b[1;32m    201\u001b[0m     \u001b[0mtime\u001b[0m\u001b[0;34m.\u001b[0m\u001b[0msleep\u001b[0m\u001b[0;34m(\u001b[0m\u001b[0;36m10\u001b[0m\u001b[0;34m)\u001b[0m\u001b[0;34m\u001b[0m\u001b[0m\n\u001b[1;32m    202\u001b[0m     \u001b[0msaleorderDF\u001b[0m \u001b[0;34m=\u001b[0m \u001b[0mread_df_fromfile\u001b[0m\u001b[0;34m(\u001b[0m\u001b[0;34m)\u001b[0m\u001b[0;34m\u001b[0m\u001b[0m\n",
      "\u001b[0;32m<ipython-input-10-bc29777d05ef>\u001b[0m in \u001b[0;36mup_file\u001b[0;34m()\u001b[0m\n\u001b[1;32m     28\u001b[0m         \u001b[0mfilepath\u001b[0m \u001b[0;34m=\u001b[0m \u001b[0;34m'./'\u001b[0m\u001b[0;34m+\u001b[0m\u001b[0mfilename\u001b[0m\u001b[0;34m\u001b[0m\u001b[0m\n\u001b[1;32m     29\u001b[0m         \u001b[0mlocalpath\u001b[0m \u001b[0;34m=\u001b[0m \u001b[0;34m'/home/tgdd/TA_69/vuivui/data_vuivui/'\u001b[0m\u001b[0;34m+\u001b[0m\u001b[0mfilename\u001b[0m\u001b[0;34m\u001b[0m\u001b[0m\n\u001b[0;32m---> 30\u001b[0;31m         \u001b[0msftp\u001b[0m\u001b[0;34m.\u001b[0m\u001b[0mget\u001b[0m\u001b[0;34m(\u001b[0m\u001b[0mfilepath\u001b[0m\u001b[0;34m,\u001b[0m \u001b[0mlocalpath\u001b[0m\u001b[0;34m)\u001b[0m\u001b[0;34m\u001b[0m\u001b[0m\n\u001b[0m\u001b[1;32m     31\u001b[0m     \u001b[0;31m#         filepath = '/home/zeth/lenna.jpg'\u001b[0m\u001b[0;34m\u001b[0m\u001b[0;34m\u001b[0m\u001b[0m\n\u001b[1;32m     32\u001b[0m     \u001b[0;31m#         localpath = '/home/zeth/lenna.jpg'\u001b[0m\u001b[0;34m\u001b[0m\u001b[0;34m\u001b[0m\u001b[0m\n",
      "\u001b[0;32m/usr/local/lib/python2.7/dist-packages/paramiko/sftp_client.pyc\u001b[0m in \u001b[0;36mget\u001b[0;34m(self, remotepath, localpath, callback)\u001b[0m\n\u001b[1;32m    719\u001b[0m         \"\"\"\n\u001b[1;32m    720\u001b[0m         \u001b[0;32mwith\u001b[0m \u001b[0mopen\u001b[0m\u001b[0;34m(\u001b[0m\u001b[0mlocalpath\u001b[0m\u001b[0;34m,\u001b[0m \u001b[0;34m'wb'\u001b[0m\u001b[0;34m)\u001b[0m \u001b[0;32mas\u001b[0m \u001b[0mfl\u001b[0m\u001b[0;34m:\u001b[0m\u001b[0;34m\u001b[0m\u001b[0m\n\u001b[0;32m--> 721\u001b[0;31m             \u001b[0msize\u001b[0m \u001b[0;34m=\u001b[0m \u001b[0mself\u001b[0m\u001b[0;34m.\u001b[0m\u001b[0mgetfo\u001b[0m\u001b[0;34m(\u001b[0m\u001b[0mremotepath\u001b[0m\u001b[0;34m,\u001b[0m \u001b[0mfl\u001b[0m\u001b[0;34m,\u001b[0m \u001b[0mcallback\u001b[0m\u001b[0;34m)\u001b[0m\u001b[0;34m\u001b[0m\u001b[0m\n\u001b[0m\u001b[1;32m    722\u001b[0m         \u001b[0ms\u001b[0m \u001b[0;34m=\u001b[0m \u001b[0mos\u001b[0m\u001b[0;34m.\u001b[0m\u001b[0mstat\u001b[0m\u001b[0;34m(\u001b[0m\u001b[0mlocalpath\u001b[0m\u001b[0;34m)\u001b[0m\u001b[0;34m\u001b[0m\u001b[0m\n\u001b[1;32m    723\u001b[0m         \u001b[0;32mif\u001b[0m \u001b[0ms\u001b[0m\u001b[0;34m.\u001b[0m\u001b[0mst_size\u001b[0m \u001b[0;34m!=\u001b[0m \u001b[0msize\u001b[0m\u001b[0;34m:\u001b[0m\u001b[0;34m\u001b[0m\u001b[0m\n",
      "\u001b[0;32m/usr/local/lib/python2.7/dist-packages/paramiko/sftp_client.pyc\u001b[0m in \u001b[0;36mgetfo\u001b[0;34m(self, remotepath, fl, callback)\u001b[0m\n\u001b[1;32m    693\u001b[0m         \u001b[0;34m.\u001b[0m\u001b[0;34m.\u001b[0m \u001b[0mversionadded\u001b[0m\u001b[0;34m:\u001b[0m\u001b[0;34m:\u001b[0m \u001b[0;36m1.10\u001b[0m\u001b[0;34m\u001b[0m\u001b[0m\n\u001b[1;32m    694\u001b[0m         \"\"\"\n\u001b[0;32m--> 695\u001b[0;31m         \u001b[0mfile_size\u001b[0m \u001b[0;34m=\u001b[0m \u001b[0mself\u001b[0m\u001b[0;34m.\u001b[0m\u001b[0mstat\u001b[0m\u001b[0;34m(\u001b[0m\u001b[0mremotepath\u001b[0m\u001b[0;34m)\u001b[0m\u001b[0;34m.\u001b[0m\u001b[0mst_size\u001b[0m\u001b[0;34m\u001b[0m\u001b[0m\n\u001b[0m\u001b[1;32m    696\u001b[0m         \u001b[0;32mwith\u001b[0m \u001b[0mself\u001b[0m\u001b[0;34m.\u001b[0m\u001b[0mopen\u001b[0m\u001b[0;34m(\u001b[0m\u001b[0mremotepath\u001b[0m\u001b[0;34m,\u001b[0m \u001b[0;34m'rb'\u001b[0m\u001b[0;34m)\u001b[0m \u001b[0;32mas\u001b[0m \u001b[0mfr\u001b[0m\u001b[0;34m:\u001b[0m\u001b[0;34m\u001b[0m\u001b[0m\n\u001b[1;32m    697\u001b[0m             \u001b[0mfr\u001b[0m\u001b[0;34m.\u001b[0m\u001b[0mprefetch\u001b[0m\u001b[0;34m(\u001b[0m\u001b[0mfile_size\u001b[0m\u001b[0;34m)\u001b[0m\u001b[0;34m\u001b[0m\u001b[0m\n",
      "\u001b[0;32m/usr/local/lib/python2.7/dist-packages/paramiko/sftp_client.pyc\u001b[0m in \u001b[0;36mstat\u001b[0;34m(self, path)\u001b[0m\n\u001b[1;32m    411\u001b[0m         \u001b[0mpath\u001b[0m \u001b[0;34m=\u001b[0m \u001b[0mself\u001b[0m\u001b[0;34m.\u001b[0m\u001b[0m_adjust_cwd\u001b[0m\u001b[0;34m(\u001b[0m\u001b[0mpath\u001b[0m\u001b[0;34m)\u001b[0m\u001b[0;34m\u001b[0m\u001b[0m\n\u001b[1;32m    412\u001b[0m         \u001b[0mself\u001b[0m\u001b[0;34m.\u001b[0m\u001b[0m_log\u001b[0m\u001b[0;34m(\u001b[0m\u001b[0mDEBUG\u001b[0m\u001b[0;34m,\u001b[0m \u001b[0;34m'stat(%r)'\u001b[0m \u001b[0;34m%\u001b[0m \u001b[0mpath\u001b[0m\u001b[0;34m)\u001b[0m\u001b[0;34m\u001b[0m\u001b[0m\n\u001b[0;32m--> 413\u001b[0;31m         \u001b[0mt\u001b[0m\u001b[0;34m,\u001b[0m \u001b[0mmsg\u001b[0m \u001b[0;34m=\u001b[0m \u001b[0mself\u001b[0m\u001b[0;34m.\u001b[0m\u001b[0m_request\u001b[0m\u001b[0;34m(\u001b[0m\u001b[0mCMD_STAT\u001b[0m\u001b[0;34m,\u001b[0m \u001b[0mpath\u001b[0m\u001b[0;34m)\u001b[0m\u001b[0;34m\u001b[0m\u001b[0m\n\u001b[0m\u001b[1;32m    414\u001b[0m         \u001b[0;32mif\u001b[0m \u001b[0mt\u001b[0m \u001b[0;34m!=\u001b[0m \u001b[0mCMD_ATTRS\u001b[0m\u001b[0;34m:\u001b[0m\u001b[0;34m\u001b[0m\u001b[0m\n\u001b[1;32m    415\u001b[0m             \u001b[0;32mraise\u001b[0m \u001b[0mSFTPError\u001b[0m\u001b[0;34m(\u001b[0m\u001b[0;34m'Expected attributes'\u001b[0m\u001b[0;34m)\u001b[0m\u001b[0;34m\u001b[0m\u001b[0m\n",
      "\u001b[0;32m/usr/local/lib/python2.7/dist-packages/paramiko/sftp_client.pyc\u001b[0m in \u001b[0;36m_request\u001b[0;34m(self, t, *arg)\u001b[0m\n\u001b[1;32m    728\u001b[0m     \u001b[0;32mdef\u001b[0m \u001b[0m_request\u001b[0m\u001b[0;34m(\u001b[0m\u001b[0mself\u001b[0m\u001b[0;34m,\u001b[0m \u001b[0mt\u001b[0m\u001b[0;34m,\u001b[0m \u001b[0;34m*\u001b[0m\u001b[0marg\u001b[0m\u001b[0;34m)\u001b[0m\u001b[0;34m:\u001b[0m\u001b[0;34m\u001b[0m\u001b[0m\n\u001b[1;32m    729\u001b[0m         \u001b[0mnum\u001b[0m \u001b[0;34m=\u001b[0m \u001b[0mself\u001b[0m\u001b[0;34m.\u001b[0m\u001b[0m_async_request\u001b[0m\u001b[0;34m(\u001b[0m\u001b[0mtype\u001b[0m\u001b[0;34m(\u001b[0m\u001b[0mNone\u001b[0m\u001b[0;34m)\u001b[0m\u001b[0;34m,\u001b[0m \u001b[0mt\u001b[0m\u001b[0;34m,\u001b[0m \u001b[0;34m*\u001b[0m\u001b[0marg\u001b[0m\u001b[0;34m)\u001b[0m\u001b[0;34m\u001b[0m\u001b[0m\n\u001b[0;32m--> 730\u001b[0;31m         \u001b[0;32mreturn\u001b[0m \u001b[0mself\u001b[0m\u001b[0;34m.\u001b[0m\u001b[0m_read_response\u001b[0m\u001b[0;34m(\u001b[0m\u001b[0mnum\u001b[0m\u001b[0;34m)\u001b[0m\u001b[0;34m\u001b[0m\u001b[0m\n\u001b[0m\u001b[1;32m    731\u001b[0m \u001b[0;34m\u001b[0m\u001b[0m\n\u001b[1;32m    732\u001b[0m     \u001b[0;32mdef\u001b[0m \u001b[0m_async_request\u001b[0m\u001b[0;34m(\u001b[0m\u001b[0mself\u001b[0m\u001b[0;34m,\u001b[0m \u001b[0mfileobj\u001b[0m\u001b[0;34m,\u001b[0m \u001b[0mt\u001b[0m\u001b[0;34m,\u001b[0m \u001b[0;34m*\u001b[0m\u001b[0marg\u001b[0m\u001b[0;34m)\u001b[0m\u001b[0;34m:\u001b[0m\u001b[0;34m\u001b[0m\u001b[0m\n",
      "\u001b[0;32m/usr/local/lib/python2.7/dist-packages/paramiko/sftp_client.pyc\u001b[0m in \u001b[0;36m_read_response\u001b[0;34m(self, waitfor)\u001b[0m\n\u001b[1;32m    779\u001b[0m                 \u001b[0;31m# synchronous\u001b[0m\u001b[0;34m\u001b[0m\u001b[0;34m\u001b[0m\u001b[0m\n\u001b[1;32m    780\u001b[0m                 \u001b[0;32mif\u001b[0m \u001b[0mt\u001b[0m \u001b[0;34m==\u001b[0m \u001b[0mCMD_STATUS\u001b[0m\u001b[0;34m:\u001b[0m\u001b[0;34m\u001b[0m\u001b[0m\n\u001b[0;32m--> 781\u001b[0;31m                     \u001b[0mself\u001b[0m\u001b[0;34m.\u001b[0m\u001b[0m_convert_status\u001b[0m\u001b[0;34m(\u001b[0m\u001b[0mmsg\u001b[0m\u001b[0;34m)\u001b[0m\u001b[0;34m\u001b[0m\u001b[0m\n\u001b[0m\u001b[1;32m    782\u001b[0m                 \u001b[0;32mreturn\u001b[0m \u001b[0mt\u001b[0m\u001b[0;34m,\u001b[0m \u001b[0mmsg\u001b[0m\u001b[0;34m\u001b[0m\u001b[0m\n\u001b[1;32m    783\u001b[0m             \u001b[0;32mif\u001b[0m \u001b[0mfileobj\u001b[0m \u001b[0;32mis\u001b[0m \u001b[0;32mnot\u001b[0m \u001b[0mtype\u001b[0m\u001b[0;34m(\u001b[0m\u001b[0mNone\u001b[0m\u001b[0;34m)\u001b[0m\u001b[0;34m:\u001b[0m\u001b[0;34m\u001b[0m\u001b[0m\n",
      "\u001b[0;32m/usr/local/lib/python2.7/dist-packages/paramiko/sftp_client.pyc\u001b[0m in \u001b[0;36m_convert_status\u001b[0;34m(self, msg)\u001b[0m\n\u001b[1;32m    805\u001b[0m         \u001b[0;32melif\u001b[0m \u001b[0mcode\u001b[0m \u001b[0;34m==\u001b[0m \u001b[0mSFTP_NO_SUCH_FILE\u001b[0m\u001b[0;34m:\u001b[0m\u001b[0;34m\u001b[0m\u001b[0m\n\u001b[1;32m    806\u001b[0m             \u001b[0;31m# clever idea from john a. meinel: map the error codes to errno\u001b[0m\u001b[0;34m\u001b[0m\u001b[0;34m\u001b[0m\u001b[0m\n\u001b[0;32m--> 807\u001b[0;31m             \u001b[0;32mraise\u001b[0m \u001b[0mIOError\u001b[0m\u001b[0;34m(\u001b[0m\u001b[0merrno\u001b[0m\u001b[0;34m.\u001b[0m\u001b[0mENOENT\u001b[0m\u001b[0;34m,\u001b[0m \u001b[0mtext\u001b[0m\u001b[0;34m)\u001b[0m\u001b[0;34m\u001b[0m\u001b[0m\n\u001b[0m\u001b[1;32m    808\u001b[0m         \u001b[0;32melif\u001b[0m \u001b[0mcode\u001b[0m \u001b[0;34m==\u001b[0m \u001b[0mSFTP_PERMISSION_DENIED\u001b[0m\u001b[0;34m:\u001b[0m\u001b[0;34m\u001b[0m\u001b[0m\n\u001b[1;32m    809\u001b[0m             \u001b[0;32mraise\u001b[0m \u001b[0mIOError\u001b[0m\u001b[0;34m(\u001b[0m\u001b[0merrno\u001b[0m\u001b[0;34m.\u001b[0m\u001b[0mEACCES\u001b[0m\u001b[0;34m,\u001b[0m \u001b[0mtext\u001b[0m\u001b[0;34m)\u001b[0m\u001b[0;34m\u001b[0m\u001b[0m\n",
      "\u001b[0;31mIOError\u001b[0m: [Errno 2] No such file"
     ]
    }
   ],
   "source": [
    "pull_data_from_server()"
   ]
  },
  {
   "cell_type": "code",
   "execution_count": 13,
   "metadata": {
    "collapsed": true,
    "jupyter": {
     "outputs_hidden": true
    }
   },
   "outputs": [],
   "source": [
    "basket_customer= pd.read_csv('basket_customer')"
   ]
  },
  {
   "cell_type": "code",
   "execution_count": 23,
   "metadata": {
    "collapsed": true,
    "jupyter": {
     "outputs_hidden": true
    }
   },
   "outputs": [],
   "source": [
    "def get_transaction(basket_customer, user_cookie):\n",
    "    list_order_id = list()\n",
    "    list_session = list()\n",
    "    basket_market_one_user = basket_customer[basket_customer['COOKIE']== user_cookie]\n",
    "    list_session = list(basket_market_one_user.SESSION.unique())\n",
    "    # re.findall(r\"\\d+\\.?\\d*\", str(row))\n",
    "    list_day = list(basket_market_one_user.CREATEDDAY.unique())\n",
    "#     if len(list_session) < 2 and len(list_day) > 1: #kiem tra xem khach chi dung 1 session duy nhat, de tach don hang\n",
    "    for day in list_day:#loc theo ngay\n",
    "        basket_customer_day = basket_market_one_user[basket_market_one_user['CREATEDDAY']==day]\n",
    "        data = basket_customer_day.drop_duplicates(subset = ['PRODUCTID'])\n",
    "        for item in list(data[data['NUMBERITEM']< 0].PRODUCTID):\n",
    "            data.loc[data.PRODUCTID == item, 'NUMBERITEM'] = basket_customer_day[basket_customer_day['PRODUCTID']==item].NUMBERITEM.sum()\n",
    "        record = data[data['NUMBERITEM']>0]\n",
    "        if record.shape[0] > 0:\n",
    "            list_order_id.append(list(record.PRODUCTID.unique()))\n",
    "    return list_order_id    \n",
    "#             record1 = frozenset(record.PRODUCTID)\n",
    "#             yield record1"
   ]
  },
  {
   "cell_type": "code",
   "execution_count": 27,
   "metadata": {
    "collapsed": true,
    "jupyter": {
     "outputs_hidden": true
    }
   },
   "outputs": [],
   "source": [
    "user_cookie = 'a9d84f26-0e54-4c24-b40e-1f6713987677'\n",
    "aaa = get_transaction(basket_customer, user_cookie)"
   ]
  },
  {
   "cell_type": "code",
   "execution_count": 28,
   "metadata": {},
   "outputs": [
    {
     "data": {
      "text/plain": [
       "[[88251, 81699, 77093, 79278, 76487, 81602, 90693, 81725, 78681, 82914, 85837],\n",
       " [111455, 99534, 76412, 80968, 74480, 108377, 95906, 111349, 90971],\n",
       " [100997,\n",
       "  111059,\n",
       "  74324,\n",
       "  82902,\n",
       "  85679,\n",
       "  88482,\n",
       "  110767,\n",
       "  76339,\n",
       "  76108,\n",
       "  101070,\n",
       "  81556,\n",
       "  76560,\n",
       "  79173,\n",
       "  76450,\n",
       "  90965,\n",
       "  90966,\n",
       "  90968,\n",
       "  79138,\n",
       "  79183,\n",
       "  103404,\n",
       "  87100,\n",
       "  76444,\n",
       "  79204,\n",
       "  92962,\n",
       "  102110],\n",
       " [103404, 95256, 86812, 81227, 95752, 93219, 79956],\n",
       " [109090,\n",
       "  109356,\n",
       "  83240,\n",
       "  102583,\n",
       "  110730,\n",
       "  105778,\n",
       "  83473,\n",
       "  79171,\n",
       "  101064,\n",
       "  76993,\n",
       "  76491,\n",
       "  78254,\n",
       "  88471,\n",
       "  84818,\n",
       "  79956,\n",
       "  76108,\n",
       "  109089,\n",
       "  85164],\n",
       " [85679,\n",
       "  76491,\n",
       "  85808,\n",
       "  79336,\n",
       "  105838,\n",
       "  110730,\n",
       "  77169,\n",
       "  79278,\n",
       "  77107,\n",
       "  79956,\n",
       "  76328,\n",
       "  84814,\n",
       "  96629,\n",
       "  89295,\n",
       "  86167,\n",
       "  76094,\n",
       "  109089,\n",
       "  92042,\n",
       "  78886,\n",
       "  93158,\n",
       "  81563,\n",
       "  90217,\n",
       "  82593],\n",
       " [89400, 109089],\n",
       " [104540,\n",
       "  90785,\n",
       "  93205,\n",
       "  95154,\n",
       "  76449,\n",
       "  93989,\n",
       "  100721,\n",
       "  79798,\n",
       "  79594,\n",
       "  90113,\n",
       "  90111,\n",
       "  85596,\n",
       "  86152],\n",
       " [77750,\n",
       "  106326,\n",
       "  104764,\n",
       "  76522,\n",
       "  90965,\n",
       "  79288,\n",
       "  77212,\n",
       "  88285,\n",
       "  85199,\n",
       "  82126,\n",
       "  85537,\n",
       "  109090,\n",
       "  90520,\n",
       "  85164,\n",
       "  76503,\n",
       "  109356,\n",
       "  109353,\n",
       "  77022,\n",
       "  91893],\n",
       " [79338,\n",
       "  83240,\n",
       "  108676,\n",
       "  85200,\n",
       "  82970,\n",
       "  84095,\n",
       "  83242,\n",
       "  83243,\n",
       "  84119,\n",
       "  84121,\n",
       "  84118,\n",
       "  84096,\n",
       "  76993,\n",
       "  90151,\n",
       "  91174,\n",
       "  78889,\n",
       "  106530],\n",
       " [72373,\n",
       "  102086,\n",
       "  79596,\n",
       "  96416,\n",
       "  96411,\n",
       "  79499,\n",
       "  76522,\n",
       "  78422,\n",
       "  76153,\n",
       "  90718,\n",
       "  85565,\n",
       "  79247,\n",
       "  96415,\n",
       "  104540,\n",
       "  88149,\n",
       "  77750,\n",
       "  92205,\n",
       "  89270,\n",
       "  89476,\n",
       "  109102,\n",
       "  79274,\n",
       "  76330,\n",
       "  80822,\n",
       "  80844,\n",
       "  80712,\n",
       "  102110,\n",
       "  104954,\n",
       "  93685,\n",
       "  102628,\n",
       "  82398,\n",
       "  77289,\n",
       "  90861,\n",
       "  99058,\n",
       "  79338,\n",
       "  76679,\n",
       "  76389,\n",
       "  83571],\n",
       " [79852,\n",
       "  85565,\n",
       "  106233,\n",
       "  104540,\n",
       "  106452,\n",
       "  85526,\n",
       "  91988,\n",
       "  85679,\n",
       "  105771,\n",
       "  77280,\n",
       "  96244,\n",
       "  96446,\n",
       "  77771,\n",
       "  78097],\n",
       " [83571, 104540, 86172, 109423, 86477, 81659, 93030, 101848],\n",
       " [109663, 77280, 77278, 77282, 79592, 79499, 76330, 76924, 96023],\n",
       " [78436,\n",
       "  105559,\n",
       "  79728,\n",
       "  79528,\n",
       "  80065,\n",
       "  79776,\n",
       "  80073,\n",
       "  79851,\n",
       "  83215,\n",
       "  83245,\n",
       "  80046,\n",
       "  76175,\n",
       "  104540,\n",
       "  109091,\n",
       "  109349,\n",
       "  103297,\n",
       "  82689,\n",
       "  82178,\n",
       "  78254,\n",
       "  85839,\n",
       "  95732,\n",
       "  92491,\n",
       "  101480],\n",
       " [106226],\n",
       " [104540, 78097, 77228, 82877, 74480, 84861, 71832, 92383],\n",
       " [106450,\n",
       "  78254,\n",
       "  76409,\n",
       "  76638,\n",
       "  76993,\n",
       "  80455,\n",
       "  77242,\n",
       "  77081,\n",
       "  76918,\n",
       "  88632,\n",
       "  83690,\n",
       "  91893,\n",
       "  105623,\n",
       "  105549,\n",
       "  84905,\n",
       "  90718,\n",
       "  96416,\n",
       "  83245,\n",
       "  79482,\n",
       "  79486,\n",
       "  80148,\n",
       "  77620,\n",
       "  77619,\n",
       "  77621,\n",
       "  104743,\n",
       "  76888,\n",
       "  77684,\n",
       "  108429,\n",
       "  109088,\n",
       "  81404,\n",
       "  81008,\n",
       "  88262,\n",
       "  96206,\n",
       "  76347,\n",
       "  76848,\n",
       "  75963,\n",
       "  104696],\n",
       " [72373,\n",
       "  92383,\n",
       "  80423,\n",
       "  77805,\n",
       "  79852,\n",
       "  91905,\n",
       "  85567,\n",
       "  76993,\n",
       "  81752,\n",
       "  80790,\n",
       "  105260,\n",
       "  79336,\n",
       "  108602,\n",
       "  79832,\n",
       "  78107,\n",
       "  77146,\n",
       "  105631,\n",
       "  105658,\n",
       "  102974,\n",
       "  94808,\n",
       "  76939,\n",
       "  90692,\n",
       "  103404,\n",
       "  96216,\n",
       "  82823,\n",
       "  82570,\n",
       "  80573,\n",
       "  86015],\n",
       " [108794, 79291, 108602, 91777, 85832, 87402, 76826, 76248, 104696],\n",
       " [84395,\n",
       "  76511,\n",
       "  106452,\n",
       "  79180,\n",
       "  76510,\n",
       "  91588,\n",
       "  104543,\n",
       "  86167,\n",
       "  79249,\n",
       "  86753,\n",
       "  91792],\n",
       " [79506, 79596, 77146, 77222, 88632, 87846],\n",
       " [76409,\n",
       "  78254,\n",
       "  86290,\n",
       "  85853,\n",
       "  77435,\n",
       "  85679,\n",
       "  107896,\n",
       "  78886,\n",
       "  76330,\n",
       "  105261,\n",
       "  90520,\n",
       "  96064,\n",
       "  77009,\n",
       "  81404,\n",
       "  85567,\n",
       "  86201,\n",
       "  75626,\n",
       "  76479,\n",
       "  77146,\n",
       "  77144,\n",
       "  77145,\n",
       "  79832],\n",
       " [76514,\n",
       "  89147,\n",
       "  85565,\n",
       "  77718,\n",
       "  83935,\n",
       "  81658,\n",
       "  77230,\n",
       "  76488,\n",
       "  76413,\n",
       "  79710,\n",
       "  79562,\n",
       "  107686,\n",
       "  79571,\n",
       "  90968,\n",
       "  91905],\n",
       " [108602, 96416, 79832, 79866, 100097, 104480, 76479, 76356, 106226],\n",
       " [108429, 96415, 103397, 76699, 76160, 81752, 79341],\n",
       " [76848,\n",
       "  81846,\n",
       "  76014,\n",
       "  76352,\n",
       "  79245,\n",
       "  76527,\n",
       "  93664,\n",
       "  80968,\n",
       "  76094,\n",
       "  76409,\n",
       "  76479,\n",
       "  100097,\n",
       "  96285,\n",
       "  96764,\n",
       "  96224,\n",
       "  89730,\n",
       "  96096,\n",
       "  88471,\n",
       "  81404,\n",
       "  91752,\n",
       "  83657,\n",
       "  104709,\n",
       "  76334,\n",
       "  93229],\n",
       " [78455,\n",
       "  81371,\n",
       "  78450,\n",
       "  84989,\n",
       "  95487,\n",
       "  96096,\n",
       "  100097,\n",
       "  76491,\n",
       "  93494,\n",
       "  95112,\n",
       "  99101,\n",
       "  78557,\n",
       "  104707,\n",
       "  78631,\n",
       "  101424,\n",
       "  104839,\n",
       "  104896,\n",
       "  76352,\n",
       "  96411,\n",
       "  79175,\n",
       "  76514,\n",
       "  76520,\n",
       "  84180,\n",
       "  84284,\n",
       "  103714,\n",
       "  76479,\n",
       "  86310,\n",
       "  96439,\n",
       "  76350,\n",
       "  76477,\n",
       "  91825,\n",
       "  79849],\n",
       " [76352, 104294],\n",
       " [101100,\n",
       "  101111,\n",
       "  79245,\n",
       "  77138,\n",
       "  81422,\n",
       "  86208,\n",
       "  85984,\n",
       "  106226,\n",
       "  79823,\n",
       "  89432,\n",
       "  78254,\n",
       "  84857,\n",
       "  71754],\n",
       " [82899, 91587, 79338, 93535, 81304, 108429, 76826, 86423],\n",
       " [104764,\n",
       "  83685,\n",
       "  106226,\n",
       "  88280,\n",
       "  81788,\n",
       "  82208,\n",
       "  83686,\n",
       "  76522,\n",
       "  79490,\n",
       "  79487,\n",
       "  85164,\n",
       "  79336,\n",
       "  84327,\n",
       "  82701,\n",
       "  92883],\n",
       " [89173,\n",
       "  79630,\n",
       "  81185,\n",
       "  79947,\n",
       "  79968,\n",
       "  79943,\n",
       "  79954,\n",
       "  83682,\n",
       "  83685,\n",
       "  83684,\n",
       "  74480,\n",
       "  106532,\n",
       "  88703,\n",
       "  76330,\n",
       "  77738,\n",
       "  82658,\n",
       "  84814,\n",
       "  84813,\n",
       "  80146,\n",
       "  89855,\n",
       "  89852,\n",
       "  77107,\n",
       "  76376,\n",
       "  82560,\n",
       "  82563,\n",
       "  79269,\n",
       "  79270,\n",
       "  91905,\n",
       "  85687,\n",
       "  106226],\n",
       " [88360,\n",
       "  93768,\n",
       "  106226,\n",
       "  79269,\n",
       "  85687,\n",
       "  60546,\n",
       "  83120,\n",
       "  85164,\n",
       "  81563,\n",
       "  79338,\n",
       "  91849,\n",
       "  106436,\n",
       "  101832],\n",
       " [74017, 96034, 89090, 88357, 96086, 83120, 90668, 79341, 98901, 71832, 79324],\n",
       " [81304,\n",
       "  96127,\n",
       "  99101,\n",
       "  106436,\n",
       "  105778,\n",
       "  79341,\n",
       "  105771,\n",
       "  89293,\n",
       "  106479,\n",
       "  82099,\n",
       "  76939,\n",
       "  102587,\n",
       "  105158],\n",
       " [106303, 76446, 86753, 87545, 106480, 89410, 76929, 90767, 85820, 106226],\n",
       " [88581,\n",
       "  86003,\n",
       "  106480,\n",
       "  76495,\n",
       "  86310,\n",
       "  83365,\n",
       "  106233,\n",
       "  89066,\n",
       "  106436,\n",
       "  79623,\n",
       "  77154,\n",
       "  79426,\n",
       "  93994,\n",
       "  100709,\n",
       "  99058],\n",
       " [79338,\n",
       "  91400,\n",
       "  86310,\n",
       "  79343,\n",
       "  76495,\n",
       "  83853,\n",
       "  83842,\n",
       "  106480,\n",
       "  79269,\n",
       "  79812,\n",
       "  79734,\n",
       "  79804,\n",
       "  83244,\n",
       "  77622,\n",
       "  90701,\n",
       "  97314],\n",
       " [105139,\n",
       "  80771,\n",
       "  106233,\n",
       "  76295,\n",
       "  83445,\n",
       "  81752,\n",
       "  77032,\n",
       "  76498,\n",
       "  77622,\n",
       "  106247,\n",
       "  106249,\n",
       "  88872,\n",
       "  80617,\n",
       "  80578,\n",
       "  78439,\n",
       "  83949,\n",
       "  85234,\n",
       "  97314,\n",
       "  96881,\n",
       "  82640,\n",
       "  77640,\n",
       "  80570,\n",
       "  80553],\n",
       " [106303, 106249, 106247]]"
      ]
     },
     "execution_count": 28,
     "metadata": {},
     "output_type": "execute_result"
    }
   ],
   "source": [
    "aaa"
   ]
  },
  {
   "cell_type": "code",
   "execution_count": 17,
   "metadata": {},
   "outputs": [
    {
     "ename": "AttributeError",
     "evalue": "'generator' object has no attribute 'to_csv'",
     "output_type": "error",
     "traceback": [
      "\u001b[0;31m---------------------------------------------------------------------------\u001b[0m",
      "\u001b[0;31mAttributeError\u001b[0m                            Traceback (most recent call last)",
      "\u001b[0;32m<ipython-input-17-30ff7b87abe1>\u001b[0m in \u001b[0;36m<module>\u001b[0;34m()\u001b[0m\n\u001b[0;32m----> 1\u001b[0;31m \u001b[0maaa\u001b[0m\u001b[0;34m.\u001b[0m\u001b[0mto_csv\u001b[0m\u001b[0;34m(\u001b[0m\u001b[0;34m'aaa.csv'\u001b[0m\u001b[0;34m)\u001b[0m\u001b[0;34m\u001b[0m\u001b[0m\n\u001b[0m",
      "\u001b[0;31mAttributeError\u001b[0m: 'generator' object has no attribute 'to_csv'"
     ]
    }
   ],
   "source": [
    "aaa.to_csv('aaa.csv')"
   ]
  },
  {
   "cell_type": "code",
   "execution_count": 81,
   "metadata": {
    "collapsed": true,
    "jupyter": {
     "outputs_hidden": true
    }
   },
   "outputs": [],
   "source": [
    "import math\n",
    "X = [5, 10, 15, 20, 25, 30, 35, 40, 45, 50, 60,70 ]\n",
    "def minsup(x, a, b, c):\n",
    "    return x * math.exp(-a*x - b) + c"
   ]
  },
  {
   "cell_type": "code",
   "execution_count": 82,
   "metadata": {},
   "outputs": [
    {
     "data": {
      "text/plain": [
       "[0.30381101989183107,\n",
       " 0.12029430636295735,\n",
       " 0.1015155910275564,\n",
       " 0.10010060911214223,\n",
       " 0.10000626129093082,\n",
       " 0.10000037407758358,\n",
       " 0.10000002172826394,\n",
       " 0.1000000012363275,\n",
       " 0.10000000006924727,\n",
       " 0.10000000000383069,\n",
       " 0.1000000000000114,\n",
       " 0.10000000000000003]"
      ]
     },
     "execution_count": 82,
     "metadata": {},
     "output_type": "execute_result"
    }
   ],
   "source": [
    "[minsup(x, .6, .2, .1) for x in X]"
   ]
  },
  {
   "cell_type": "code",
   "execution_count": 71,
   "metadata": {},
   "outputs": [
    {
     "data": {
      "text/plain": [
       "2.6881171418161356e+43"
      ]
     },
     "execution_count": 71,
     "metadata": {},
     "output_type": "execute_result"
    }
   ],
   "source": [
    "math.exp(100)"
   ]
  },
  {
   "cell_type": "code",
   "execution_count": 13,
   "metadata": {
    "collapsed": true,
    "jupyter": {
     "outputs_hidden": true
    }
   },
   "outputs": [],
   "source": [
    "basket_customer = get_basket_customer()"
   ]
  },
  {
   "cell_type": "code",
   "execution_count": 105,
   "metadata": {
    "collapsed": true,
    "jupyter": {
     "outputs_hidden": true
    }
   },
   "outputs": [],
   "source": [
    "\n",
    "def get_list_recommend_by_user(basket_customer):\n",
    "    rc = connect_to_redis()\n",
    "#     list_tmp = list()\n",
    "    f = open('results_apriori.txt','wb')\n",
    "    for cookie in basket_customer.COOKIE.unique():\n",
    "        f.write(str(cookie)+'\\n')\n",
    "        df_tmp = recommend_for_one_user(basket_customer, cookie)\n",
    "        if len(df_tmp)> 0:#neu co du lieu thi luu vao redis\n",
    "#             if rc.exists(cookie):\n",
    "#                 rc.delete(cookie)\n",
    "#             sethash(cookie, df_tmp, rc)\n",
    "#             rc.expire(cookie, 2592000)\n",
    "#             list_tmp.append((cookie,df_tmp))\n",
    "            f.write(str(df_tmp)+'\\n')\n",
    "    f.close()\n",
    "    \n",
    "        \n",
    "    "
   ]
  },
  {
   "cell_type": "code",
   "execution_count": 106,
   "metadata": {},
   "outputs": [
    {
     "ename": "KeyboardInterrupt",
     "evalue": "",
     "output_type": "error",
     "traceback": [
      "\u001b[0;31m---------------------------------------------------------------------------\u001b[0m",
      "\u001b[0;31mKeyboardInterrupt\u001b[0m                         Traceback (most recent call last)",
      "\u001b[0;31mKeyboardInterrupt\u001b[0m: "
     ]
    }
   ],
   "source": [
    "get_list_recommend_by_user(basket_customer)\n"
   ]
  },
  {
   "cell_type": "code",
   "execution_count": 10,
   "metadata": {},
   "outputs": [
    {
     "ename": "NameError",
     "evalue": "name 'basket_customer' is not defined",
     "output_type": "error",
     "traceback": [
      "\u001b[0;31m---------------------------------------------------------------------------\u001b[0m",
      "\u001b[0;31mNameError\u001b[0m                                 Traceback (most recent call last)",
      "\u001b[0;32m<ipython-input-10-4f5730108699>\u001b[0m in \u001b[0;36m<module>\u001b[0;34m()\u001b[0m\n\u001b[1;32m      1\u001b[0m \u001b[0mcookie\u001b[0m \u001b[0;34m=\u001b[0m \u001b[0;34m'2a638266-82fe-4f88-940b-f3f8658b259e'\u001b[0m\u001b[0;34m\u001b[0m\u001b[0m\n\u001b[0;32m----> 2\u001b[0;31m \u001b[0mbasket_customer\u001b[0m\u001b[0;34m[\u001b[0m\u001b[0mbasket_customer\u001b[0m\u001b[0;34m[\u001b[0m\u001b[0;34m'COOKIE'\u001b[0m\u001b[0;34m]\u001b[0m \u001b[0;34m==\u001b[0m \u001b[0mcookie\u001b[0m\u001b[0;34m]\u001b[0m\u001b[0;34m.\u001b[0m\u001b[0mshape\u001b[0m\u001b[0;34m\u001b[0m\u001b[0m\n\u001b[0m",
      "\u001b[0;31mNameError\u001b[0m: name 'basket_customer' is not defined"
     ]
    }
   ],
   "source": [
    "cookie = '2a638266-82fe-4f88-940b-f3f8658b259e'\n",
    "basket_customer[basket_customer['COOKIE'] == cookie].shape"
   ]
  },
  {
   "cell_type": "code",
   "execution_count": 121,
   "metadata": {
    "collapsed": true,
    "jupyter": {
     "outputs_hidden": true
    }
   },
   "outputs": [],
   "source": [
    "user_cookie = '2a638266-82fe-4f88-940b-f3f8658b259e'\n",
    "\n",
    "list_order_id = list()\n",
    "list_session = list()\n",
    "basket_market_one_user = basket_customer[basket_customer['COOKIE']== user_cookie]\n",
    "list_session = list(basket_market_one_user.SESSION.unique())\n",
    "# re.findall(r\"\\d+\\.?\\d*\", str(row))\n",
    "list_day = list(basket_market_one_user.CREATEDDAY.unique())\n",
    "# if len(list_session) < 2 and len(list_day) > 1: #kiem tra xem khach chi dung 1 session duy nhat, de tach don hang\n",
    "for day in list_day:#loc theo ngay\n",
    "    basket_customer_day = basket_market_one_user[basket_market_one_user['CREATEDDAY']==day]\n",
    "    data = basket_customer_day.drop_duplicates(subset = ['PRODUCTID'])\n",
    "    for item in list(data[data['NUMBERITEM']< 0].PRODUCTID):\n",
    "        data.loc[data.PRODUCTID == item, 'NUMBERITEM'] = basket_customer_day[basket_customer_day['PRODUCTID']==item].NUMBERITEM.sum()\n",
    "    record = data[data['NUMBERITEM']>0]\n",
    "    if record.shape[0] > 0:\n",
    "            list_order_id.append(list(record.PRODUCTID.unique()))\n",
    "\n",
    "# else:   \n",
    "#     for session in list_session:#loc theo session\n",
    "#         basket_customer_session = basket_market_one_user[basket_market_one_user['SESSION']==session]\n",
    "#         data = basket_customer_session.drop_duplicates(subset = ['PRODUCTID'])\n",
    "#         for item in list(data[data['NUMBERITEM']< 0].PRODUCTID):\n",
    "#             data.loc[data.PRODUCTID == item, 'NUMBERITEM'] = basket_customer_session[basket_customer_session['PRODUCTID']==item].NUMBERITEM.sum()\n",
    "#         record = data[data['NUMBERITEM']>0]\n",
    "#         if record.shape[0] > 0:\n",
    "#                 list_order_id.append(list(record.PRODUCTID.unique()))\n"
   ]
  },
  {
   "cell_type": "code",
   "execution_count": 122,
   "metadata": {},
   "outputs": [
    {
     "data": {
      "text/plain": [
       "5"
      ]
     },
     "execution_count": 122,
     "metadata": {},
     "output_type": "execute_result"
    }
   ],
   "source": [
    "len(list_order_id)"
   ]
  },
  {
   "cell_type": "code",
   "execution_count": 132,
   "metadata": {
    "collapsed": true,
    "jupyter": {
     "outputs_hidden": true
    }
   },
   "outputs": [],
   "source": [
    "basket_market_one_user.to_csv('test.csv')"
   ]
  },
  {
   "cell_type": "code",
   "execution_count": 135,
   "metadata": {},
   "outputs": [
    {
     "data": {
      "text/plain": [
       "[[85214, 102112, 82126, 86158, 108371, 96459, 77107],\n",
       " [104540],\n",
       " [104540, 102111],\n",
       " [80602,\n",
       "  79279,\n",
       "  83369,\n",
       "  79269,\n",
       "  76527,\n",
       "  93557,\n",
       "  104299,\n",
       "  79311,\n",
       "  96459,\n",
       "  85803,\n",
       "  81994,\n",
       "  105838,\n",
       "  77291,\n",
       "  104950,\n",
       "  85214,\n",
       "  86158,\n",
       "  82186,\n",
       "  77107],\n",
       " [80602,\n",
       "  83369,\n",
       "  93557,\n",
       "  76527,\n",
       "  79279,\n",
       "  79269,\n",
       "  104299,\n",
       "  79311,\n",
       "  96459,\n",
       "  85803,\n",
       "  81994,\n",
       "  105838,\n",
       "  77291,\n",
       "  104950,\n",
       "  86158,\n",
       "  85214,\n",
       "  82186,\n",
       "  77107]]"
      ]
     },
     "execution_count": 135,
     "metadata": {},
     "output_type": "execute_result"
    }
   ],
   "source": [
    "list_order_id"
   ]
  },
  {
   "cell_type": "code",
   "execution_count": 127,
   "metadata": {},
   "outputs": [
    {
     "data": {
      "text/plain": [
       "[80602,\n",
       " 79279,\n",
       " 83369,\n",
       " 79269,\n",
       " 76527,\n",
       " 93557,\n",
       " 104299,\n",
       " 79311,\n",
       " 96459,\n",
       " 85803,\n",
       " 81994,\n",
       " 105838,\n",
       " 77291,\n",
       " 104950,\n",
       " 85214,\n",
       " 86158,\n",
       " 82186,\n",
       " 77107]"
      ]
     },
     "execution_count": 127,
     "metadata": {},
     "output_type": "execute_result"
    }
   ],
   "source": [
    "list_order_id[-2]"
   ]
  },
  {
   "cell_type": "code",
   "execution_count": 744,
   "metadata": {
    "collapsed": true,
    "jupyter": {
     "outputs_hidden": true
    }
   },
   "outputs": [],
   "source": [
    "a = basket_customer[basket_customer['COOKIE']== 'a11ef7ae-c0b6-49c6-ac1b-5d12816a1240']"
   ]
  },
  {
   "cell_type": "code",
   "execution_count": 745,
   "metadata": {
    "collapsed": true,
    "jupyter": {
     "outputs_hidden": true
    }
   },
   "outputs": [],
   "source": [
    "a.to_csv('test.csv')"
   ]
  },
  {
   "cell_type": "code",
   "execution_count": 684,
   "metadata": {
    "collapsed": true,
    "jupyter": {
     "outputs_hidden": true
    }
   },
   "outputs": [],
   "source": [
    "l = list()\n",
    "for sess in a.SESSION.unique():\n",
    "    l.append((sess, len(a[a['SESSION']==sess])))"
   ]
  },
  {
   "cell_type": "code",
   "execution_count": 685,
   "metadata": {},
   "outputs": [
    {
     "data": {
      "text/plain": [
       "[(u'sgsjwxlbns9icz72tjhl9 ', 13),\n",
       " (u'1h88bkzy44v4svyp7gpv2h', 2),\n",
       " (u'ghk9663onp1jgsxqgurop ', 19),\n",
       " (u'0t8nazfzzodjs0nen1otfb', 18),\n",
       " (u'c6adno922j6vrtwr964je8', 26),\n",
       " (u'94uhnzstpeivnsdny0yih ', 24),\n",
       " (u'440n4pqxnhtzya1wt8vxa ', 6),\n",
       " (u'3vr9utax326u01vwevisjg', 3),\n",
       " (u'btr0ai8r6vsjm6qf5wc3qo', 149),\n",
       " (u'6d7gygd36l6tieuek8i2lc', 62),\n",
       " (u'lrahrpbb5reo3ovlyyuvh ', 8),\n",
       " (u'cpq9fb5ckcdgkwwxdxl6  ', 10),\n",
       " (u'etnrtvofjdvx0uemlm5y6m', 8),\n",
       " (u'nb1p04tovx4bqoxzl5uru ', 13),\n",
       " (u'9eydw5432kf7fsmnkw9aq2', 3),\n",
       " (u'aby4emd6nadnfwpdsu5mn ', 20),\n",
       " (u'f66oux2hdu0dblj0ss3fe6', 8),\n",
       " (u'l8f4zyruaahnxckdt52u  ', 17),\n",
       " (u'ljamfx888rvz18uspqc7l ', 1),\n",
       " (u'rgtkrb61l1nqvxib82ina ', 1),\n",
       " (u'd1zwv0ugvlm5pqxw9tdxwl', 1),\n",
       " (u'b82farhjwwpi16rekrhyxb', 6),\n",
       " (u'890imtfnvsjh4zdv26m9ul', 3),\n",
       " (u'qnu0tnzmvyi9xwl90vwaot', 5),\n",
       " (u'8spkfxen6oy4vaz7dulvgt', 20),\n",
       " (u'eb2s3k52vnrn24tpt3tk58', 3),\n",
       " (u'jv4atdheqcolfmza3tt0ec', 9),\n",
       " (u'23dr8j6j8f9ojkwos7eijt', 10),\n",
       " (u'gn726vlo7n98ab58y9vduw', 12),\n",
       " (u'lkj4qps67zupvw55oz5ml ', 14),\n",
       " (u'gmuo6cgdryckv1slauk8a ', 2),\n",
       " (u'g75atjmpd7oij1hfi9u9zn', 1),\n",
       " (u'd7i766x6iovw89of4osgm ', 3),\n",
       " (u'9mwpd80x7koupqw8f7h10n', 4),\n",
       " (u'8hmuugdx5bvfqit6a486io', 10),\n",
       " (u'0aycswpbsu2tul89ag94h4', 25),\n",
       " (u'mwtlzayqxzocxnp3c2ba6t', 5),\n",
       " (u'jl8fokfxy18qamro8ktxqs', 5),\n",
       " (u'diixnerhvy7z5gkgvjjylh', 12),\n",
       " (u'0x64zntdq3ba839ulb1mfr', 2),\n",
       " (u'wrnv6z3n46f0gt8r9hscf5', 23),\n",
       " (u'n9exjypazdvtnq94cqt7i ', 11),\n",
       " (u'kdivqndui2lpss3k0v5cq ', 1),\n",
       " (u'o8jieay0g37ymn4fu8kqx ', 3),\n",
       " (u'e5rexu573lunny5ade10r ', 1),\n",
       " (u'0o1p2y0lokpt578af2zpzo', 18),\n",
       " (u'hnoa0k241xl162rmzdrc9j', 4),\n",
       " (u'26j4bwo09dzvflmwq8z21 ', 21)]"
      ]
     },
     "execution_count": 685,
     "metadata": {},
     "output_type": "execute_result"
    }
   ],
   "source": [
    "l"
   ]
  },
  {
   "cell_type": "code",
   "execution_count": null,
   "metadata": {
    "collapsed": true,
    "jupyter": {
     "outputs_hidden": true
    }
   },
   "outputs": [],
   "source": []
  },
  {
   "cell_type": "code",
   "execution_count": 516,
   "metadata": {
    "collapsed": true,
    "jupyter": {
     "outputs_hidden": true
    }
   },
   "outputs": [],
   "source": [
    "for cookie in basket_customer.COOKIE.unique():\n",
    "    if rc.exists(cookie):\n",
    "        rc.delete(cookie)"
   ]
  },
  {
   "cell_type": "code",
   "execution_count": 526,
   "metadata": {},
   "outputs": [
    {
     "data": {
      "text/plain": [
       "29.247623920440674"
      ]
     },
     "execution_count": 526,
     "metadata": {},
     "output_type": "execute_result"
    }
   ],
   "source": [
    "start = time.time()\n",
    "list_tmp = get_list_recommend_by_user(basket_customer)\n",
    "time.time() - start"
   ]
  },
  {
   "cell_type": "code",
   "execution_count": null,
   "metadata": {
    "collapsed": true,
    "jupyter": {
     "outputs_hidden": true
    }
   },
   "outputs": [],
   "source": [
    "list_tmp"
   ]
  },
  {
   "cell_type": "code",
   "execution_count": 532,
   "metadata": {},
   "outputs": [
    {
     "data": {
      "text/plain": [
       "48912"
      ]
     },
     "execution_count": 532,
     "metadata": {},
     "output_type": "execute_result"
    }
   ],
   "source": [
    "len(basket_customer.COOKIE.unique())"
   ]
  },
  {
   "cell_type": "code",
   "execution_count": 568,
   "metadata": {
    "collapsed": true,
    "jupyter": {
     "outputs_hidden": true
    }
   },
   "outputs": [],
   "source": [
    "tmp = basket_customer.pivot_table('ID', index= 'COOKIE', aggfunc = 'count') > 1"
   ]
  },
  {
   "cell_type": "code",
   "execution_count": 622,
   "metadata": {
    "collapsed": true,
    "jupyter": {
     "outputs_hidden": true
    }
   },
   "outputs": [],
   "source": [
    "tmp = basket_customer.groupby(['COOKIE']).agg('count')"
   ]
  },
  {
   "cell_type": "code",
   "execution_count": 624,
   "metadata": {
    "collapsed": true,
    "jupyter": {
     "outputs_hidden": true
    }
   },
   "outputs": [],
   "source": [
    "index_ = tmp[tmp['ID']> 1].index.values\n"
   ]
  },
  {
   "cell_type": "code",
   "execution_count": 627,
   "metadata": {},
   "outputs": [
    {
     "data": {
      "text/plain": [
       "27366"
      ]
     },
     "execution_count": 627,
     "metadata": {},
     "output_type": "execute_result"
    }
   ],
   "source": [
    "len(index_)"
   ]
  },
  {
   "cell_type": "code",
   "execution_count": 615,
   "metadata": {},
   "outputs": [
    {
     "data": {
      "text/plain": [
       "<pandas.core.indexing._iLocIndexer at 0x7f17acba0090>"
      ]
     },
     "execution_count": 615,
     "metadata": {},
     "output_type": "execute_result"
    }
   ],
   "source": [
    "tmp"
   ]
  },
  {
   "cell_type": "code",
   "execution_count": 191,
   "metadata": {},
   "outputs": [
    {
     "data": {
      "text/plain": [
       "array([1, 2, 3, 4, 5, 6, 7])"
      ]
     },
     "execution_count": 191,
     "metadata": {},
     "output_type": "execute_result"
    }
   ],
   "source": [
    "time_list = [1,2,3,4,5,6,7,8,9,10,11,12,13,14]\n",
    "time_list = np.array(time_list)\n",
    "\n",
    "time_list[np.arange(0,7)]\n",
    "\n",
    "\n",
    "# time_list[np.arange(5,7)]"
   ]
  },
  {
   "cell_type": "code",
   "execution_count": 187,
   "metadata": {
    "collapsed": true,
    "jupyter": {
     "outputs_hidden": true
    }
   },
   "outputs": [],
   "source": [
    "a = np.arange(5,6)"
   ]
  },
  {
   "cell_type": "code",
   "execution_count": 193,
   "metadata": {},
   "outputs": [
    {
     "data": {
      "text/plain": [
       "array([ 1,  2,  3,  4,  5,  6,  7,  8,  9, 10, 11, 12, 13, 14])"
      ]
     },
     "execution_count": 193,
     "metadata": {},
     "output_type": "execute_result"
    }
   ],
   "source": [
    "time_list[:]"
   ]
  },
  {
   "cell_type": "code",
   "execution_count": 106,
   "metadata": {},
   "outputs": [
    {
     "data": {
      "text/plain": [
       "2515"
      ]
     },
     "execution_count": 106,
     "metadata": {},
     "output_type": "execute_result"
    }
   ],
   "source": [
    " get_cate_ID_by_proID_position(raw.A[0], 0, es)"
   ]
  },
  {
   "cell_type": "code",
   "execution_count": 57,
   "metadata": {
    "collapsed": true,
    "jupyter": {
     "outputs_hidden": true
    }
   },
   "outputs": [],
   "source": [
    "def get_cate_ID_by_proID_position(productID, position, es):\n",
    "    try:\n",
    "        #connect to our cluster\n",
    "#         from elasticsearch import Elasticsearch\n",
    "#         es = Elasticsearch([{'host': '172.16.3.105', 'port': 9200}])\n",
    "        # res = requests.get('http://172.16.3.105:9200/index_product/product/86734')\n",
    "        # print(res.content)\n",
    "        pathCate = es.get(index=\"index_product\", doc_type=\"product\", id=str(productID))['_source']['categoryPath']\n",
    "        listCate = pathCate.split(\" \")\n",
    "        return int(listCate[position])\n",
    "    except Exception as error:\n",
    "        log.exception(str(error))   \n",
    "        return np.nan\n",
    "    \n",
    "    \n",
    "def get_cate_ID_by_proID(productID):\n",
    "    try:\n",
    "        pathCate = es.get(index=\"index_product\", doc_type=\"product\", id=str(productID))['_source']['categoryPath']\n",
    "        listCate = pathCate.split(\" \")\n",
    "        return int(listCate[-1])\n",
    "    except Exception as error:\n",
    "        return np.nan    "
   ]
  },
  {
   "cell_type": "code",
   "execution_count": null,
   "metadata": {
    "collapsed": true,
    "jupyter": {
     "outputs_hidden": true
    }
   },
   "outputs": [],
   "source": []
  },
  {
   "cell_type": "code",
   "execution_count": 87,
   "metadata": {},
   "outputs": [
    {
     "data": {
      "text/plain": [
       "2446"
      ]
     },
     "execution_count": 87,
     "metadata": {},
     "output_type": "execute_result"
    }
   ],
   "source": [
    "get_cate_ID_by_proID(76330)\n",
    "# df['CateID'] = df.ProductID.apply(get_cate_ID_by_proID, args=(0,es,))\n"
   ]
  },
  {
   "cell_type": "code",
   "execution_count": 88,
   "metadata": {},
   "outputs": [
    {
     "data": {
      "text/plain": [
       "2515"
      ]
     },
     "execution_count": 88,
     "metadata": {},
     "output_type": "execute_result"
    }
   ],
   "source": [
    "get_cate_ID_by_proID_position(76330,0,es)"
   ]
  },
  {
   "cell_type": "code",
   "execution_count": 12,
   "metadata": {},
   "outputs": [
    {
     "ename": "NameError",
     "evalue": "name 'tmpsaleorderDF' is not defined",
     "output_type": "error",
     "traceback": [
      "\u001b[0;31m---------------------------------------------------------------------------\u001b[0m",
      "\u001b[0;31mNameError\u001b[0m                                 Traceback (most recent call last)",
      "\u001b[0;32m<ipython-input-12-83fc3c38bc4d>\u001b[0m in \u001b[0;36m<module>\u001b[0;34m()\u001b[0m\n\u001b[0;32m----> 1\u001b[0;31m \u001b[0mtmpsaleorderDF\u001b[0m\u001b[0;34m[\u001b[0m\u001b[0;34m'PhoneNumber'\u001b[0m\u001b[0;34m]\u001b[0m \u001b[0;34m=\u001b[0m \u001b[0mtmpsaleorderDF\u001b[0m\u001b[0;34m[\u001b[0m\u001b[0;34m'SaleOrderID'\u001b[0m\u001b[0;34m]\u001b[0m\u001b[0;34m.\u001b[0m\u001b[0mstr\u001b[0m\u001b[0;34m[\u001b[0m\u001b[0;34m-\u001b[0m\u001b[0;36m9\u001b[0m\u001b[0;34m:\u001b[0m\u001b[0;34m]\u001b[0m\u001b[0;34m\u001b[0m\u001b[0m\n\u001b[0m",
      "\u001b[0;31mNameError\u001b[0m: name 'tmpsaleorderDF' is not defined"
     ]
    }
   ],
   "source": [
    "tmpsaleorderDF['PhoneNumber'] = tmpsaleorderDF['SaleOrderID'].str[-9:]"
   ]
  },
  {
   "cell_type": "code",
   "execution_count": null,
   "metadata": {
    "collapsed": true,
    "jupyter": {
     "outputs_hidden": true
    }
   },
   "outputs": [],
   "source": [
    "tmpsaleorderDF.head(1)"
   ]
  },
  {
   "cell_type": "code",
   "execution_count": 197,
   "metadata": {
    "collapsed": true,
    "jupyter": {
     "outputs_hidden": true
    }
   },
   "outputs": [],
   "source": [
    "import redis\n",
    "from rediscluster import StrictRedisCluster\n",
    "# Requires at least one node for cluster discovery. Multiple nodes is recommended.\n",
    "startup_nodes = [{\"host\": \"10.1.12.30\", \"port\": \"16379\"}]\n",
    "rc = StrictRedisCluster(startup_nodes=startup_nodes, decode_responses=True)"
   ]
  },
  {
   "cell_type": "code",
   "execution_count": 207,
   "metadata": {},
   "outputs": [
    {
     "data": {
      "text/plain": [
       "True"
      ]
     },
     "execution_count": 207,
     "metadata": {},
     "output_type": "execute_result"
    }
   ],
   "source": [
    "rc.exists('tmp')"
   ]
  },
  {
   "cell_type": "code",
   "execution_count": 213,
   "metadata": {
    "collapsed": true,
    "jupyter": {
     "outputs_hidden": true
    }
   },
   "outputs": [],
   "source": [
    "if rc.exists('RecomSys_tmp'):\n",
    "    rc.delete('RecomSys_tmp')"
   ]
  },
  {
   "cell_type": "code",
   "execution_count": 214,
   "metadata": {
    "collapsed": true,
    "jupyter": {
     "outputs_hidden": true
    }
   },
   "outputs": [],
   "source": [
    "# get hash\n",
    "# rc.hget('RecomSys', [2002])\n",
    "a = rc.hgetall('tmp')"
   ]
  },
  {
   "cell_type": "code",
   "execution_count": 216,
   "metadata": {},
   "outputs": [
    {
     "data": {
      "text/plain": [
       "u'hash'"
      ]
     },
     "execution_count": 216,
     "metadata": {},
     "output_type": "execute_result"
    }
   ],
   "source": [
    "rc.type('tmp')"
   ]
  },
  {
   "cell_type": "code",
   "execution_count": null,
   "metadata": {
    "collapsed": true,
    "jupyter": {
     "outputs_hidden": true
    }
   },
   "outputs": [],
   "source": [
    "rc.hmset()"
   ]
  },
  {
   "cell_type": "code",
   "execution_count": 211,
   "metadata": {},
   "outputs": [
    {
     "data": {
      "text/plain": [
       "3"
      ]
     },
     "execution_count": 211,
     "metadata": {},
     "output_type": "execute_result"
    }
   ],
   "source": [
    "len(a)"
   ]
  },
  {
   "cell_type": "code",
   "execution_count": 201,
   "metadata": {},
   "outputs": [
    {
     "data": {
      "text/plain": [
       "True"
      ]
     },
     "execution_count": 201,
     "metadata": {},
     "output_type": "execute_result"
    }
   ],
   "source": [
    "rc.expire('RecomSys_tmp', 3)"
   ]
  },
  {
   "cell_type": "code",
   "execution_count": null,
   "metadata": {
    "collapsed": true,
    "jupyter": {
     "outputs_hidden": true
    }
   },
   "outputs": [],
   "source": [
    "rc.rename()"
   ]
  },
  {
   "cell_type": "code",
   "execution_count": 43,
   "metadata": {
    "collapsed": true,
    "jupyter": {
     "outputs_hidden": true
    }
   },
   "outputs": [],
   "source": [
    "today = datetime.date.today()\n",
    "today = today.strftime('%d/%m/%Y')\n",
    "command = 'cmd.exe /c echo start C:\\Release\\\\webservices.exe '+today+' '+ today +'> C:\\Release\\\\runme.bat && C:\\Release\\\\runme.bat'\n"
   ]
  },
  {
   "cell_type": "code",
   "execution_count": 44,
   "metadata": {},
   "outputs": [
    {
     "data": {
      "text/plain": [
       "'cmd.exe /c echo start C:\\\\Release\\\\webservices.exe 16/06/2017 16/06/2017> C:\\\\Release\\\\runme.bat && C:\\\\Release\\\\runme.bat'"
      ]
     },
     "execution_count": 44,
     "metadata": {},
     "output_type": "execute_result"
    }
   ],
   "source": [
    "command"
   ]
  },
  {
   "cell_type": "code",
   "execution_count": 34,
   "metadata": {
    "code_folding": [
     0
    ],
    "collapsed": true,
    "jupyter": {
     "outputs_hidden": true
    }
   },
   "outputs": [],
   "source": [
    "# import functools\n",
    "# import paramiko\n",
    "# import socket\n",
    "# import os\n",
    "# from stat import S_ISDIR\n",
    "\n",
    "# class AllowAnythingPolicy(paramiko.MissingHostKeyPolicy):\n",
    "#     def missing_host_key(self, client, hostname, key):\n",
    "#         return\n",
    "# # host = '10.1.12.111'\n",
    "# # username = 'tgdd'\n",
    "# # pw = 'Tgdd2012'\n",
    "# client = paramiko.SSHClient()\n",
    "# client.set_missing_host_key_policy(AllowAnythingPolicy())\n",
    "# # client.connect('10.1.12.111', username='tgdd', password = 'Tgdd2012', port = 8897)  # password='')\n",
    "# client.connect('10.1.4.60', username='tgdd', password = 'Tgdd2012')  # password='')\n",
    "# def sftp_walk(remotepath):\n",
    "#     # Kindof a stripped down  version of os.walk, implemented for \n",
    "#     # sftp.  Tried running it flat without the yields, but it really\n",
    "#     # chokes on big directories.\n",
    "#     path=remotepath\n",
    "#     files=[]\n",
    "#     folders=[]\n",
    "#     for f in sftp.listdir_attr(remotepath):\n",
    "#         if S_ISDIR(f.st_mode):\n",
    "#             folders.append(f.filename)\n",
    "#         else:\n",
    "#             files.append(f.filename)\n",
    "#     print (path,folders,files)\n",
    "#     yield path,folders,files\n",
    "#     for folder in folders:\n",
    "#         new_path=os.path.join(remotepath,folder)\n",
    "#         for x in sftp_walk(new_path):\n",
    "#             yield x\n",
    "            \n",
    "# def get(remotefile,localfile):\n",
    "#     #  Copy remotefile to localfile, overwriting or creating as needed.\n",
    "#     sftp.get(remotefile,localfile)\n",
    "            \n",
    "# def get_all(remotepath,localpath):\n",
    "#     #  recursively download a full directory\n",
    "#     #  Harder than it sounded at first, since paramiko won't walk\n",
    "#     #\n",
    "#     # For the record, something like this would gennerally be faster:\n",
    "#     # ssh user@host 'tar -cz /source/folder' | tar -xz\n",
    "\n",
    "#     sftp.chdir(os.path.split(remotepath)[0])\n",
    "#     parent=os.path.split(remotepath)[1]\n",
    "#     try:\n",
    "#         os.mkdir(localpath)\n",
    "#     except:\n",
    "#         pass\n",
    "#     for walker in sftp_walk(parent):\n",
    "#         try:\n",
    "#             os.mkdir(os.path.join(localpath,walker[0]))\n",
    "#         except:\n",
    "#             pass\n",
    "#         for file in walker[2]:\n",
    "#             get(os.path.join(walker[0],file),os.path.join(localpath,walker[0],file))\n",
    "\n",
    "# sftp = client.open_sftp()\n",
    "# remote_machine = './TA/cropall'\n",
    "# origin = '/home/tgdd/TA_69/test'\n",
    "\n",
    "# get_all(remote_machine, origin)# copy file from origin to remote machine\n",
    "\n",
    "# client.close()"
   ]
  },
  {
   "cell_type": "code",
   "execution_count": null,
   "metadata": {
    "collapsed": true,
    "jupyter": {
     "outputs_hidden": true
    }
   },
   "outputs": [],
   "source": [
    "datetime.datetime.today().strftime('%Y%m%d%H')"
   ]
  },
  {
   "cell_type": "code",
   "execution_count": 60,
   "metadata": {},
   "outputs": [
    {
     "data": {
      "text/plain": [
       "'28/06/2017 - 14/37/16'"
      ]
     },
     "execution_count": 60,
     "metadata": {},
     "output_type": "execute_result"
    }
   ],
   "source": [
    "datetime.datetime.today().strftime('%d/%m/%Y - %H/%M/%S')"
   ]
  },
  {
   "cell_type": "code",
   "execution_count": 35,
   "metadata": {},
   "outputs": [
    {
     "data": {
      "text/plain": [
       "1L"
      ]
     },
     "execution_count": 35,
     "metadata": {},
     "output_type": "execute_result"
    }
   ],
   "source": [
    "rc.hset('tmp', 'key', 'value')"
   ]
  },
  {
   "cell_type": "code",
   "execution_count": 52,
   "metadata": {},
   "outputs": [
    {
     "data": {
      "text/plain": [
       "0L"
      ]
     },
     "execution_count": 52,
     "metadata": {},
     "output_type": "execute_result"
    }
   ],
   "source": [
    "rc.h('tmp', 'key1', 'value1')"
   ]
  },
  {
   "cell_type": "code",
   "execution_count": 196,
   "metadata": {},
   "outputs": [
    {
     "ename": "NameError",
     "evalue": "name 'rc' is not defined",
     "output_type": "error",
     "traceback": [
      "\u001b[0;31m---------------------------------------------------------------------------\u001b[0m",
      "\u001b[0;31mNameError\u001b[0m                                 Traceback (most recent call last)",
      "\u001b[0;32m<ipython-input-196-0a9788a32edb>\u001b[0m in \u001b[0;36m<module>\u001b[0;34m()\u001b[0m\n\u001b[0;32m----> 1\u001b[0;31m \u001b[0mrc\u001b[0m\u001b[0;34m.\u001b[0m\u001b[0mhgetall\u001b[0m\u001b[0;34m(\u001b[0m\u001b[0;34m'tmp'\u001b[0m\u001b[0;34m)\u001b[0m\u001b[0;34m\u001b[0m\u001b[0m\n\u001b[0m",
      "\u001b[0;31mNameError\u001b[0m: name 'rc' is not defined"
     ]
    }
   ],
   "source": [
    "rc.hgetall('tmp')"
   ]
  },
  {
   "cell_type": "code",
   "execution_count": 47,
   "metadata": {},
   "outputs": [
    {
     "ename": "UnicodeDecodeError",
     "evalue": "'utf8' codec can't decode byte 0xff in position 24: invalid start byte",
     "output_type": "error",
     "traceback": [
      "\u001b[0;31m---------------------------------------------------------------------------\u001b[0m",
      "\u001b[0;31mUnicodeDecodeError\u001b[0m                        Traceback (most recent call last)",
      "\u001b[0;32m<ipython-input-47-2598fcdd79ec>\u001b[0m in \u001b[0;36m<module>\u001b[0;34m()\u001b[0m\n\u001b[1;32m      3\u001b[0m \u001b[0msrc\u001b[0m \u001b[0;34m=\u001b[0m \u001b[0msrc\u001b[0m\u001b[0;34m.\u001b[0m\u001b[0mencode\u001b[0m\u001b[0;34m(\u001b[0m\u001b[0;34m'utf-8'\u001b[0m\u001b[0;34m)\u001b[0m\u001b[0;34m.\u001b[0m\u001b[0mstrip\u001b[0m\u001b[0;34m(\u001b[0m\u001b[0;34m)\u001b[0m\u001b[0;34m\u001b[0m\u001b[0m\n\u001b[1;32m      4\u001b[0m \u001b[0mdst\u001b[0m \u001b[0;34m=\u001b[0m \u001b[0mdst\u001b[0m\u001b[0;34m.\u001b[0m\u001b[0mencode\u001b[0m\u001b[0;34m(\u001b[0m\u001b[0;34m'utf-8'\u001b[0m\u001b[0;34m)\u001b[0m\u001b[0;34m.\u001b[0m\u001b[0mstrip\u001b[0m\u001b[0;34m(\u001b[0m\u001b[0;34m)\u001b[0m\u001b[0;34m\u001b[0m\u001b[0m\n\u001b[0;32m----> 5\u001b[0;31m \u001b[0mrc\u001b[0m\u001b[0;34m.\u001b[0m\u001b[0mrename\u001b[0m\u001b[0;34m(\u001b[0m\u001b[0msrc\u001b[0m\u001b[0;34m,\u001b[0m \u001b[0mdst\u001b[0m\u001b[0;34m)\u001b[0m\u001b[0;34m\u001b[0m\u001b[0m\n\u001b[0m",
      "\u001b[0;32m/usr/local/lib/python2.7/dist-packages/rediscluster/client.pyc\u001b[0m in \u001b[0;36mrename\u001b[0;34m(self, src, dst)\u001b[0m\n\u001b[1;32m    712\u001b[0m             \u001b[0;32mraise\u001b[0m \u001b[0mResponseError\u001b[0m\u001b[0;34m(\u001b[0m\u001b[0;34m\"source and destination objects are the same\"\u001b[0m\u001b[0;34m)\u001b[0m\u001b[0;34m\u001b[0m\u001b[0m\n\u001b[1;32m    713\u001b[0m \u001b[0;34m\u001b[0m\u001b[0m\n\u001b[0;32m--> 714\u001b[0;31m         \u001b[0mdata\u001b[0m \u001b[0;34m=\u001b[0m \u001b[0mself\u001b[0m\u001b[0;34m.\u001b[0m\u001b[0mdump\u001b[0m\u001b[0;34m(\u001b[0m\u001b[0msrc\u001b[0m\u001b[0;34m)\u001b[0m\u001b[0;34m\u001b[0m\u001b[0m\n\u001b[0m\u001b[1;32m    715\u001b[0m \u001b[0;34m\u001b[0m\u001b[0m\n\u001b[1;32m    716\u001b[0m         \u001b[0;32mif\u001b[0m \u001b[0mdata\u001b[0m \u001b[0;32mis\u001b[0m \u001b[0mNone\u001b[0m\u001b[0;34m:\u001b[0m\u001b[0;34m\u001b[0m\u001b[0m\n",
      "\u001b[0;32m/usr/local/lib/python2.7/dist-packages/redis/client.pyc\u001b[0m in \u001b[0;36mdump\u001b[0;34m(self, name)\u001b[0m\n\u001b[1;32m    849\u001b[0m         \u001b[0mIf\u001b[0m \u001b[0mkey\u001b[0m \u001b[0mdoes\u001b[0m \u001b[0;32mnot\u001b[0m \u001b[0mexist\u001b[0m \u001b[0ma\u001b[0m \u001b[0mnil\u001b[0m \u001b[0mbulk\u001b[0m \u001b[0mreply\u001b[0m \u001b[0;32mis\u001b[0m \u001b[0mreturned\u001b[0m\u001b[0;34m.\u001b[0m\u001b[0;34m\u001b[0m\u001b[0m\n\u001b[1;32m    850\u001b[0m         \"\"\"\n\u001b[0;32m--> 851\u001b[0;31m         \u001b[0;32mreturn\u001b[0m \u001b[0mself\u001b[0m\u001b[0;34m.\u001b[0m\u001b[0mexecute_command\u001b[0m\u001b[0;34m(\u001b[0m\u001b[0;34m'DUMP'\u001b[0m\u001b[0;34m,\u001b[0m \u001b[0mname\u001b[0m\u001b[0;34m)\u001b[0m\u001b[0;34m\u001b[0m\u001b[0m\n\u001b[0m\u001b[1;32m    852\u001b[0m \u001b[0;34m\u001b[0m\u001b[0m\n\u001b[1;32m    853\u001b[0m     \u001b[0;32mdef\u001b[0m \u001b[0mexists\u001b[0m\u001b[0;34m(\u001b[0m\u001b[0mself\u001b[0m\u001b[0;34m,\u001b[0m \u001b[0mname\u001b[0m\u001b[0;34m)\u001b[0m\u001b[0;34m:\u001b[0m\u001b[0;34m\u001b[0m\u001b[0m\n",
      "\u001b[0;32m/usr/local/lib/python2.7/dist-packages/rediscluster/utils.pyc\u001b[0m in \u001b[0;36minner\u001b[0;34m(*args, **kwargs)\u001b[0m\n\u001b[1;32m     99\u001b[0m         \u001b[0;32mfor\u001b[0m \u001b[0m_\u001b[0m \u001b[0;32min\u001b[0m \u001b[0mrange\u001b[0m\u001b[0;34m(\u001b[0m\u001b[0;36m0\u001b[0m\u001b[0;34m,\u001b[0m \u001b[0;36m3\u001b[0m\u001b[0;34m)\u001b[0m\u001b[0;34m:\u001b[0m\u001b[0;34m\u001b[0m\u001b[0m\n\u001b[1;32m    100\u001b[0m             \u001b[0;32mtry\u001b[0m\u001b[0;34m:\u001b[0m\u001b[0;34m\u001b[0m\u001b[0m\n\u001b[0;32m--> 101\u001b[0;31m                 \u001b[0;32mreturn\u001b[0m \u001b[0mfunc\u001b[0m\u001b[0;34m(\u001b[0m\u001b[0;34m*\u001b[0m\u001b[0margs\u001b[0m\u001b[0;34m,\u001b[0m \u001b[0;34m**\u001b[0m\u001b[0mkwargs\u001b[0m\u001b[0;34m)\u001b[0m\u001b[0;34m\u001b[0m\u001b[0m\n\u001b[0m\u001b[1;32m    102\u001b[0m             \u001b[0;32mexcept\u001b[0m \u001b[0mClusterDownError\u001b[0m\u001b[0;34m:\u001b[0m\u001b[0;34m\u001b[0m\u001b[0m\n\u001b[1;32m    103\u001b[0m                 \u001b[0;31m# Try again with the new cluster setup. All other errors\u001b[0m\u001b[0;34m\u001b[0m\u001b[0;34m\u001b[0m\u001b[0m\n",
      "\u001b[0;32m/usr/local/lib/python2.7/dist-packages/rediscluster/client.pyc\u001b[0m in \u001b[0;36mexecute_command\u001b[0;34m(self, *args, **kwargs)\u001b[0m\n\u001b[1;32m    355\u001b[0m \u001b[0;34m\u001b[0m\u001b[0m\n\u001b[1;32m    356\u001b[0m                 \u001b[0mr\u001b[0m\u001b[0;34m.\u001b[0m\u001b[0msend_command\u001b[0m\u001b[0;34m(\u001b[0m\u001b[0;34m*\u001b[0m\u001b[0margs\u001b[0m\u001b[0;34m)\u001b[0m\u001b[0;34m\u001b[0m\u001b[0m\n\u001b[0;32m--> 357\u001b[0;31m                 \u001b[0;32mreturn\u001b[0m \u001b[0mself\u001b[0m\u001b[0;34m.\u001b[0m\u001b[0mparse_response\u001b[0m\u001b[0;34m(\u001b[0m\u001b[0mr\u001b[0m\u001b[0;34m,\u001b[0m \u001b[0mcommand\u001b[0m\u001b[0;34m,\u001b[0m \u001b[0;34m**\u001b[0m\u001b[0mkwargs\u001b[0m\u001b[0;34m)\u001b[0m\u001b[0;34m\u001b[0m\u001b[0m\n\u001b[0m\u001b[1;32m    358\u001b[0m             \u001b[0;32mexcept\u001b[0m \u001b[0;34m(\u001b[0m\u001b[0mRedisClusterException\u001b[0m\u001b[0;34m,\u001b[0m \u001b[0mBusyLoadingError\u001b[0m\u001b[0;34m)\u001b[0m\u001b[0;34m:\u001b[0m\u001b[0;34m\u001b[0m\u001b[0m\n\u001b[1;32m    359\u001b[0m                 \u001b[0;32mraise\u001b[0m\u001b[0;34m\u001b[0m\u001b[0m\n",
      "\u001b[0;32m/usr/local/lib/python2.7/dist-packages/redis/client.pyc\u001b[0m in \u001b[0;36mparse_response\u001b[0;34m(self, connection, command_name, **options)\u001b[0m\n\u001b[1;32m    583\u001b[0m     \u001b[0;32mdef\u001b[0m \u001b[0mparse_response\u001b[0m\u001b[0;34m(\u001b[0m\u001b[0mself\u001b[0m\u001b[0;34m,\u001b[0m \u001b[0mconnection\u001b[0m\u001b[0;34m,\u001b[0m \u001b[0mcommand_name\u001b[0m\u001b[0;34m,\u001b[0m \u001b[0;34m**\u001b[0m\u001b[0moptions\u001b[0m\u001b[0;34m)\u001b[0m\u001b[0;34m:\u001b[0m\u001b[0;34m\u001b[0m\u001b[0m\n\u001b[1;32m    584\u001b[0m         \u001b[0;34m\"Parses a response from the Redis server\"\u001b[0m\u001b[0;34m\u001b[0m\u001b[0m\n\u001b[0;32m--> 585\u001b[0;31m         \u001b[0mresponse\u001b[0m \u001b[0;34m=\u001b[0m \u001b[0mconnection\u001b[0m\u001b[0;34m.\u001b[0m\u001b[0mread_response\u001b[0m\u001b[0;34m(\u001b[0m\u001b[0;34m)\u001b[0m\u001b[0;34m\u001b[0m\u001b[0m\n\u001b[0m\u001b[1;32m    586\u001b[0m         \u001b[0;32mif\u001b[0m \u001b[0mcommand_name\u001b[0m \u001b[0;32min\u001b[0m \u001b[0mself\u001b[0m\u001b[0;34m.\u001b[0m\u001b[0mresponse_callbacks\u001b[0m\u001b[0;34m:\u001b[0m\u001b[0;34m\u001b[0m\u001b[0m\n\u001b[1;32m    587\u001b[0m             \u001b[0;32mreturn\u001b[0m \u001b[0mself\u001b[0m\u001b[0;34m.\u001b[0m\u001b[0mresponse_callbacks\u001b[0m\u001b[0;34m[\u001b[0m\u001b[0mcommand_name\u001b[0m\u001b[0;34m]\u001b[0m\u001b[0;34m(\u001b[0m\u001b[0mresponse\u001b[0m\u001b[0;34m,\u001b[0m \u001b[0;34m**\u001b[0m\u001b[0moptions\u001b[0m\u001b[0;34m)\u001b[0m\u001b[0;34m\u001b[0m\u001b[0m\n",
      "\u001b[0;32m/usr/local/lib/python2.7/dist-packages/redis/connection.pyc\u001b[0m in \u001b[0;36mread_response\u001b[0;34m(self)\u001b[0m\n\u001b[1;32m    575\u001b[0m         \u001b[0;34m\"Read the response from a previously sent command\"\u001b[0m\u001b[0;34m\u001b[0m\u001b[0m\n\u001b[1;32m    576\u001b[0m         \u001b[0;32mtry\u001b[0m\u001b[0;34m:\u001b[0m\u001b[0;34m\u001b[0m\u001b[0m\n\u001b[0;32m--> 577\u001b[0;31m             \u001b[0mresponse\u001b[0m \u001b[0;34m=\u001b[0m \u001b[0mself\u001b[0m\u001b[0;34m.\u001b[0m\u001b[0m_parser\u001b[0m\u001b[0;34m.\u001b[0m\u001b[0mread_response\u001b[0m\u001b[0;34m(\u001b[0m\u001b[0;34m)\u001b[0m\u001b[0;34m\u001b[0m\u001b[0m\n\u001b[0m\u001b[1;32m    578\u001b[0m         \u001b[0;32mexcept\u001b[0m\u001b[0;34m:\u001b[0m\u001b[0;34m\u001b[0m\u001b[0m\n\u001b[1;32m    579\u001b[0m             \u001b[0mself\u001b[0m\u001b[0;34m.\u001b[0m\u001b[0mdisconnect\u001b[0m\u001b[0;34m(\u001b[0m\u001b[0;34m)\u001b[0m\u001b[0;34m\u001b[0m\u001b[0m\n",
      "\u001b[0;32m/usr/local/lib/python2.7/dist-packages/redis/connection.pyc\u001b[0m in \u001b[0;36mread_response\u001b[0;34m(self)\u001b[0m\n\u001b[1;32m    278\u001b[0m             \u001b[0mresponse\u001b[0m \u001b[0;34m=\u001b[0m \u001b[0;34m[\u001b[0m\u001b[0mself\u001b[0m\u001b[0;34m.\u001b[0m\u001b[0mread_response\u001b[0m\u001b[0;34m(\u001b[0m\u001b[0;34m)\u001b[0m \u001b[0;32mfor\u001b[0m \u001b[0mi\u001b[0m \u001b[0;32min\u001b[0m \u001b[0mxrange\u001b[0m\u001b[0;34m(\u001b[0m\u001b[0mlength\u001b[0m\u001b[0;34m)\u001b[0m\u001b[0;34m]\u001b[0m\u001b[0;34m\u001b[0m\u001b[0m\n\u001b[1;32m    279\u001b[0m         \u001b[0;32mif\u001b[0m \u001b[0misinstance\u001b[0m\u001b[0;34m(\u001b[0m\u001b[0mresponse\u001b[0m\u001b[0;34m,\u001b[0m \u001b[0mbytes\u001b[0m\u001b[0;34m)\u001b[0m \u001b[0;32mand\u001b[0m \u001b[0mself\u001b[0m\u001b[0;34m.\u001b[0m\u001b[0mencoding\u001b[0m\u001b[0;34m:\u001b[0m\u001b[0;34m\u001b[0m\u001b[0m\n\u001b[0;32m--> 280\u001b[0;31m             \u001b[0mresponse\u001b[0m \u001b[0;34m=\u001b[0m \u001b[0mresponse\u001b[0m\u001b[0;34m.\u001b[0m\u001b[0mdecode\u001b[0m\u001b[0;34m(\u001b[0m\u001b[0mself\u001b[0m\u001b[0;34m.\u001b[0m\u001b[0mencoding\u001b[0m\u001b[0;34m)\u001b[0m\u001b[0;34m\u001b[0m\u001b[0m\n\u001b[0m\u001b[1;32m    281\u001b[0m         \u001b[0;32mreturn\u001b[0m \u001b[0mresponse\u001b[0m\u001b[0;34m\u001b[0m\u001b[0m\n\u001b[1;32m    282\u001b[0m \u001b[0;34m\u001b[0m\u001b[0m\n",
      "\u001b[0;32m/usr/lib/python2.7/encodings/utf_8.pyc\u001b[0m in \u001b[0;36mdecode\u001b[0;34m(input, errors)\u001b[0m\n\u001b[1;32m     14\u001b[0m \u001b[0;34m\u001b[0m\u001b[0m\n\u001b[1;32m     15\u001b[0m \u001b[0;32mdef\u001b[0m \u001b[0mdecode\u001b[0m\u001b[0;34m(\u001b[0m\u001b[0minput\u001b[0m\u001b[0;34m,\u001b[0m \u001b[0merrors\u001b[0m\u001b[0;34m=\u001b[0m\u001b[0;34m'strict'\u001b[0m\u001b[0;34m)\u001b[0m\u001b[0;34m:\u001b[0m\u001b[0;34m\u001b[0m\u001b[0m\n\u001b[0;32m---> 16\u001b[0;31m     \u001b[0;32mreturn\u001b[0m \u001b[0mcodecs\u001b[0m\u001b[0;34m.\u001b[0m\u001b[0mutf_8_decode\u001b[0m\u001b[0;34m(\u001b[0m\u001b[0minput\u001b[0m\u001b[0;34m,\u001b[0m \u001b[0merrors\u001b[0m\u001b[0;34m,\u001b[0m \u001b[0mTrue\u001b[0m\u001b[0;34m)\u001b[0m\u001b[0;34m\u001b[0m\u001b[0m\n\u001b[0m\u001b[1;32m     17\u001b[0m \u001b[0;34m\u001b[0m\u001b[0m\n\u001b[1;32m     18\u001b[0m \u001b[0;32mclass\u001b[0m \u001b[0mIncrementalEncoder\u001b[0m\u001b[0;34m(\u001b[0m\u001b[0mcodecs\u001b[0m\u001b[0;34m.\u001b[0m\u001b[0mIncrementalEncoder\u001b[0m\u001b[0;34m)\u001b[0m\u001b[0;34m:\u001b[0m\u001b[0;34m\u001b[0m\u001b[0m\n",
      "\u001b[0;31mUnicodeDecodeError\u001b[0m: 'utf8' codec can't decode byte 0xff in position 24: invalid start byte"
     ]
    }
   ],
   "source": [
    "src = u'tmp'\n",
    "dst = u'abc'\n",
    "src = src.encode('utf-8').strip()\n",
    "dst = dst.encode('utf-8').strip()\n",
    "rc.rename(src, dst)\n"
   ]
  },
  {
   "cell_type": "code",
   "execution_count": null,
   "metadata": {
    "collapsed": true,
    "jupyter": {
     "outputs_hidden": true
    }
   },
   "outputs": [],
   "source": []
  }
 ],
 "metadata": {
  "kernelspec": {
   "display_name": "py36",
   "language": "python",
   "name": "py36"
  },
  "language_info": {
   "codemirror_mode": {
    "name": "ipython",
    "version": 3
   },
   "file_extension": ".py",
   "mimetype": "text/x-python",
   "name": "python",
   "nbconvert_exporter": "python",
   "pygments_lexer": "ipython3",
   "version": "3.6.9"
  }
 },
 "nbformat": 4,
 "nbformat_minor": 4
}
